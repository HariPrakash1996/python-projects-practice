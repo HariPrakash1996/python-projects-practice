{
 "cells": [
  {
   "cell_type": "code",
   "execution_count": 2,
   "metadata": {},
   "outputs": [
    {
     "name": "stdout",
     "output_type": "stream",
     "text": [
      "hello world\n"
     ]
    }
   ],
   "source": [
    "print (\"hello world\")"
   ]
  },
  {
   "cell_type": "code",
   "execution_count": 3,
   "metadata": {},
   "outputs": [],
   "source": [
    "x=3+6J"
   ]
  },
  {
   "cell_type": "code",
   "execution_count": 4,
   "metadata": {},
   "outputs": [
    {
     "data": {
      "text/plain": [
       "3.0"
      ]
     },
     "execution_count": 4,
     "metadata": {},
     "output_type": "execute_result"
    }
   ],
   "source": [
    "x.real"
   ]
  },
  {
   "cell_type": "code",
   "execution_count": 6,
   "metadata": {},
   "outputs": [
    {
     "data": {
      "text/plain": [
       "6.0"
      ]
     },
     "execution_count": 6,
     "metadata": {},
     "output_type": "execute_result"
    }
   ],
   "source": [
    "x.imag"
   ]
  },
  {
   "cell_type": "code",
   "execution_count": 7,
   "metadata": {},
   "outputs": [],
   "source": [
    "x=[10,20,30.04,'hari',3+6J]"
   ]
  },
  {
   "cell_type": "code",
   "execution_count": 8,
   "metadata": {},
   "outputs": [
    {
     "name": "stdout",
     "output_type": "stream",
     "text": [
      "[10, 20, 30.04, 'hari', (3+6j)]\n"
     ]
    }
   ],
   "source": [
    "print(x)"
   ]
  },
  {
   "cell_type": "code",
   "execution_count": 9,
   "metadata": {},
   "outputs": [
    {
     "data": {
      "text/plain": [
       "10"
      ]
     },
     "execution_count": 9,
     "metadata": {},
     "output_type": "execute_result"
    }
   ],
   "source": [
    "x[0]"
   ]
  },
  {
   "cell_type": "code",
   "execution_count": 10,
   "metadata": {},
   "outputs": [
    {
     "data": {
      "text/plain": [
       "(3+6j)"
      ]
     },
     "execution_count": 10,
     "metadata": {},
     "output_type": "execute_result"
    }
   ],
   "source": [
    "x[4]"
   ]
  },
  {
   "cell_type": "code",
   "execution_count": 11,
   "metadata": {},
   "outputs": [],
   "source": [
    "x={1,2,40,30.5,'hari'}"
   ]
  },
  {
   "cell_type": "code",
   "execution_count": 14,
   "metadata": {},
   "outputs": [],
   "source": [
    "import os\n",
    "import math\n",
    "import matplotlib.pyplot as plt\n",
    "import seaborn as sbn\n"
   ]
  },
  {
   "cell_type": "code",
   "execution_count": 15,
   "metadata": {},
   "outputs": [
    {
     "name": "stdout",
     "output_type": "stream",
     "text": [
      "3.0\n"
     ]
    }
   ],
   "source": [
    "print (math.sqrt(9))"
   ]
  },
  {
   "cell_type": "code",
   "execution_count": 18,
   "metadata": {},
   "outputs": [
    {
     "name": "stdout",
     "output_type": "stream",
     "text": [
      "3.141592653589793\n"
     ]
    }
   ],
   "source": [
    "print(math.pi)"
   ]
  },
  {
   "cell_type": "code",
   "execution_count": 19,
   "metadata": {},
   "outputs": [
    {
     "name": "stdout",
     "output_type": "stream",
     "text": [
      "22026.465794806718\n"
     ]
    }
   ],
   "source": [
    "print(math.exp(10))"
   ]
  },
  {
   "cell_type": "code",
   "execution_count": 21,
   "metadata": {},
   "outputs": [
    {
     "data": {
      "text/plain": [
       "0"
      ]
     },
     "execution_count": 21,
     "metadata": {},
     "output_type": "execute_result"
    }
   ],
   "source": [
    "min(10,1,0,3,4,5,6,7,90)"
   ]
  },
  {
   "cell_type": "code",
   "execution_count": 22,
   "metadata": {},
   "outputs": [
    {
     "data": {
      "text/plain": [
       "91"
      ]
     },
     "execution_count": 22,
     "metadata": {},
     "output_type": "execute_result"
    }
   ],
   "source": [
    "max(91,2,3,34,4,55,6,66,7)"
   ]
  },
  {
   "cell_type": "code",
   "execution_count": 23,
   "metadata": {},
   "outputs": [
    {
     "name": "stdout",
     "output_type": "stream",
     "text": [
      "<built-in function min>\n"
     ]
    }
   ],
   "source": [
    "print(min)"
   ]
  },
  {
   "cell_type": "code",
   "execution_count": 24,
   "metadata": {},
   "outputs": [],
   "source": [
    "x=['learning_python']*10"
   ]
  },
  {
   "cell_type": "code",
   "execution_count": 26,
   "metadata": {},
   "outputs": [
    {
     "name": "stdout",
     "output_type": "stream",
     "text": [
      "['learning_python', 'learning_python', 'learning_python', 'learning_python', 'learning_python', 'learning_python', 'learning_python', 'learning_python', 'learning_python', 'learning_python']\n"
     ]
    }
   ],
   "source": [
    "print(x)"
   ]
  },
  {
   "cell_type": "code",
   "execution_count": 28,
   "metadata": {},
   "outputs": [],
   "source": [
    "x=y=z=10"
   ]
  },
  {
   "cell_type": "code",
   "execution_count": 29,
   "metadata": {},
   "outputs": [
    {
     "name": "stdout",
     "output_type": "stream",
     "text": [
      "10\n",
      "10\n",
      "10\n"
     ]
    }
   ],
   "source": [
    "print(x)\n",
    "print(y)\n",
    "print(z)"
   ]
  },
  {
   "cell_type": "code",
   "execution_count": 30,
   "metadata": {},
   "outputs": [],
   "source": [
    "x=y=z=10,20,30"
   ]
  },
  {
   "cell_type": "code",
   "execution_count": 33,
   "metadata": {},
   "outputs": [
    {
     "name": "stdout",
     "output_type": "stream",
     "text": [
      "(10, 20, 30)\n",
      "(10, 20, 30)\n",
      "(10, 20, 30)\n"
     ]
    }
   ],
   "source": [
    "print(x)\n",
    "print(y)\n",
    "print(z)"
   ]
  },
  {
   "cell_type": "code",
   "execution_count": 34,
   "metadata": {},
   "outputs": [],
   "source": [
    "x=\"hari\"\n",
    "y=\"prakash\""
   ]
  },
  {
   "cell_type": "code",
   "execution_count": 35,
   "metadata": {},
   "outputs": [
    {
     "name": "stdout",
     "output_type": "stream",
     "text": [
      "hari\n"
     ]
    }
   ],
   "source": [
    "print(x)"
   ]
  },
  {
   "cell_type": "code",
   "execution_count": 36,
   "metadata": {},
   "outputs": [
    {
     "name": "stdout",
     "output_type": "stream",
     "text": [
      "prakash\n"
     ]
    }
   ],
   "source": [
    "print(y)"
   ]
  },
  {
   "cell_type": "code",
   "execution_count": 41,
   "metadata": {},
   "outputs": [],
   "source": [
    "conc=x + y"
   ]
  },
  {
   "cell_type": "code",
   "execution_count": 42,
   "metadata": {},
   "outputs": [
    {
     "name": "stdout",
     "output_type": "stream",
     "text": [
      "hariprakash\n"
     ]
    }
   ],
   "source": [
    "print(conc)"
   ]
  },
  {
   "cell_type": "code",
   "execution_count": 50,
   "metadata": {},
   "outputs": [],
   "source": [
    "x=(\"python\",)*10"
   ]
  },
  {
   "cell_type": "code",
   "execution_count": 46,
   "metadata": {},
   "outputs": [
    {
     "name": "stdout",
     "output_type": "stream",
     "text": [
      "('python', 'python', 'python', 'python', 'python', 'python', 'python', 'python', 'python', 'python')\n"
     ]
    }
   ],
   "source": [
    "print(x)"
   ]
  },
  {
   "cell_type": "code",
   "execution_count": 47,
   "metadata": {},
   "outputs": [
    {
     "data": {
      "text/plain": [
       "('h', 'a', 'r', 'i')"
      ]
     },
     "execution_count": 47,
     "metadata": {},
     "output_type": "execute_result"
    }
   ],
   "source": [
    "tuple(\"hari\")"
   ]
  },
  {
   "cell_type": "code",
   "execution_count": 48,
   "metadata": {},
   "outputs": [],
   "source": [
    "del x"
   ]
  },
  {
   "cell_type": "code",
   "execution_count": 51,
   "metadata": {},
   "outputs": [
    {
     "name": "stdout",
     "output_type": "stream",
     "text": [
      "('python', 'python', 'python', 'python', 'python', 'python', 'python', 'python', 'python', 'python')\n"
     ]
    }
   ],
   "source": [
    "print(x)"
   ]
  },
  {
   "cell_type": "code",
   "execution_count": 56,
   "metadata": {},
   "outputs": [],
   "source": [
    "x=([1,2,3],[\"a\",\"v\",\"b\"])"
   ]
  },
  {
   "cell_type": "code",
   "execution_count": 57,
   "metadata": {},
   "outputs": [
    {
     "name": "stdout",
     "output_type": "stream",
     "text": [
      "([1, 2, 3], ['a', 'v', 'b'])\n"
     ]
    }
   ],
   "source": [
    "print(x)"
   ]
  },
  {
   "cell_type": "code",
   "execution_count": 58,
   "metadata": {},
   "outputs": [
    {
     "data": {
      "text/plain": [
       "['a', 'v', 'b']"
      ]
     },
     "execution_count": 58,
     "metadata": {},
     "output_type": "execute_result"
    }
   ],
   "source": [
    "x[1]"
   ]
  },
  {
   "cell_type": "code",
   "execution_count": 59,
   "metadata": {},
   "outputs": [
    {
     "data": {
      "text/plain": [
       "tuple"
      ]
     },
     "execution_count": 59,
     "metadata": {},
     "output_type": "execute_result"
    }
   ],
   "source": [
    "type(x)"
   ]
  },
  {
   "cell_type": "code",
   "execution_count": 61,
   "metadata": {},
   "outputs": [],
   "source": [
    "x[1].append(23)"
   ]
  },
  {
   "cell_type": "code",
   "execution_count": 63,
   "metadata": {},
   "outputs": [
    {
     "name": "stdout",
     "output_type": "stream",
     "text": [
      "([1, 2, 3], ['a', 'v', 'b', 23])\n"
     ]
    }
   ],
   "source": [
    "print(x)"
   ]
  },
  {
   "cell_type": "code",
   "execution_count": 64,
   "metadata": {},
   "outputs": [
    {
     "name": "stdout",
     "output_type": "stream",
     "text": [
      "h\n",
      "a\n",
      "r\n",
      "i\n",
      " \n",
      "p\n",
      "r\n",
      "a\n",
      "k\n",
      "a\n",
      "s\n",
      "h\n"
     ]
    }
   ],
   "source": [
    "x=\"hari prakash\"\n",
    "\n",
    "for i in x:\n",
    "    print(i)"
   ]
  },
  {
   "cell_type": "code",
   "execution_count": 66,
   "metadata": {},
   "outputs": [
    {
     "name": "stdout",
     "output_type": "stream",
     "text": [
      "Wall time: 884 µs\n"
     ]
    },
    {
     "data": {
      "text/plain": [
       "()"
      ]
     },
     "execution_count": 66,
     "metadata": {},
     "output_type": "execute_result"
    }
   ],
   "source": [
    "time()"
   ]
  },
  {
   "cell_type": "code",
   "execution_count": 70,
   "metadata": {},
   "outputs": [],
   "source": [
    "import time"
   ]
  },
  {
   "cell_type": "code",
   "execution_count": 72,
   "metadata": {},
   "outputs": [
    {
     "data": {
      "text/plain": [
       "1620967716.2313352"
      ]
     },
     "execution_count": 72,
     "metadata": {},
     "output_type": "execute_result"
    }
   ],
   "source": [
    "time.time()"
   ]
  },
  {
   "cell_type": "code",
   "execution_count": 73,
   "metadata": {},
   "outputs": [
    {
     "data": {
      "text/plain": [
       "'Fri May 14 10:18:42 2021'"
      ]
     },
     "execution_count": 73,
     "metadata": {},
     "output_type": "execute_result"
    }
   ],
   "source": [
    "time.ctime()"
   ]
  },
  {
   "cell_type": "code",
   "execution_count": 74,
   "metadata": {},
   "outputs": [
    {
     "data": {
      "text/plain": [
       "'Fri May 14 10:18:36 2021'"
      ]
     },
     "execution_count": 74,
     "metadata": {},
     "output_type": "execute_result"
    }
   ],
   "source": [
    "time.ctime(1620967716.2313352)"
   ]
  },
  {
   "cell_type": "code",
   "execution_count": 76,
   "metadata": {},
   "outputs": [
    {
     "name": "stdout",
     "output_type": "stream",
     "text": [
      "Help on built-in function time in module time:\n",
      "\n",
      "time(...)\n",
      "    time() -> floating point number\n",
      "    \n",
      "    Return the current time in seconds since the Epoch.\n",
      "    Fractions of a second may be present if the system clock provides them.\n",
      "\n"
     ]
    }
   ],
   "source": [
    "help(time.time)"
   ]
  },
  {
   "cell_type": "code",
   "execution_count": 77,
   "metadata": {},
   "outputs": [
    {
     "data": {
      "text/plain": [
       "time.struct_time(tm_year=2021, tm_mon=5, tm_mday=14, tm_hour=10, tm_min=20, tm_sec=43, tm_wday=4, tm_yday=134, tm_isdst=0)"
      ]
     },
     "execution_count": 77,
     "metadata": {},
     "output_type": "execute_result"
    }
   ],
   "source": [
    "time.localtime()"
   ]
  },
  {
   "cell_type": "code",
   "execution_count": 80,
   "metadata": {},
   "outputs": [
    {
     "name": "stdout",
     "output_type": "stream",
     "text": [
      "time.struct_time(tm_year=2021, tm_mon=5, tm_mday=14, tm_hour=10, tm_min=22, tm_sec=22, tm_wday=4, tm_yday=134, tm_isdst=0)\n",
      "Fri May 14 10:22:22 2021\n"
     ]
    }
   ],
   "source": [
    "a=time.localtime()\n",
    "b=time.ctime()\n",
    "print(a)\n",
    "print(b)"
   ]
  },
  {
   "cell_type": "code",
   "execution_count": 81,
   "metadata": {},
   "outputs": [
    {
     "data": {
      "text/plain": [
       "'Fri May 14 10:23:37 2021'"
      ]
     },
     "execution_count": 81,
     "metadata": {},
     "output_type": "execute_result"
    }
   ],
   "source": [
    "time.asctime()  # it also returns local time"
   ]
  },
  {
   "cell_type": "code",
   "execution_count": 84,
   "metadata": {},
   "outputs": [
    {
     "name": "stdout",
     "output_type": "stream",
     "text": [
      "Help on built-in function strftime in module time:\n",
      "\n",
      "strftime(...)\n",
      "    strftime(format[, tuple]) -> string\n",
      "    \n",
      "    Convert a time tuple to a string according to a format specification.\n",
      "    See the library reference manual for formatting codes. When the time tuple\n",
      "    is not present, current time as returned by localtime() is used.\n",
      "    \n",
      "    Commonly used format codes:\n",
      "    \n",
      "    %Y  Year with century as a decimal number.\n",
      "    %m  Month as a decimal number [01,12].\n",
      "    %d  Day of the month as a decimal number [01,31].\n",
      "    %H  Hour (24-hour clock) as a decimal number [00,23].\n",
      "    %M  Minute as a decimal number [00,59].\n",
      "    %S  Second as a decimal number [00,61].\n",
      "    %z  Time zone offset from UTC.\n",
      "    %a  Locale's abbreviated weekday name.\n",
      "    %A  Locale's full weekday name.\n",
      "    %b  Locale's abbreviated month name.\n",
      "    %B  Locale's full month name.\n",
      "    %c  Locale's appropriate date and time representation.\n",
      "    %I  Hour (12-hour clock) as a decimal number [01,12].\n",
      "    %p  Locale's equivalent of either AM or PM.\n",
      "    \n",
      "    Other codes may be available on your platform.  See documentation for\n",
      "    the C library strftime function.\n",
      "\n"
     ]
    }
   ],
   "source": [
    "help(time.strftime)"
   ]
  },
  {
   "cell_type": "code",
   "execution_count": 85,
   "metadata": {},
   "outputs": [],
   "source": [
    "x=time.strftime(\"%m/%d/%y\")"
   ]
  },
  {
   "cell_type": "code",
   "execution_count": 86,
   "metadata": {},
   "outputs": [
    {
     "name": "stdout",
     "output_type": "stream",
     "text": [
      "05/14/21\n"
     ]
    }
   ],
   "source": [
    "print(x)"
   ]
  },
  {
   "cell_type": "code",
   "execution_count": 87,
   "metadata": {},
   "outputs": [],
   "source": [
    "import datetime"
   ]
  },
  {
   "cell_type": "code",
   "execution_count": 93,
   "metadata": {},
   "outputs": [
    {
     "name": "stdout",
     "output_type": "stream",
     "text": [
      "2021-05-07 04:30:24.000678\n"
     ]
    }
   ],
   "source": [
    "print(datetime.datetime(2021,5,7,4,30,24,678))"
   ]
  },
  {
   "cell_type": "code",
   "execution_count": 94,
   "metadata": {},
   "outputs": [],
   "source": [
    "x=datetime.datetime.now()"
   ]
  },
  {
   "cell_type": "code",
   "execution_count": 95,
   "metadata": {},
   "outputs": [
    {
     "name": "stdout",
     "output_type": "stream",
     "text": [
      "2021-05-14 10:33:03.422996\n"
     ]
    }
   ],
   "source": [
    "print(x)"
   ]
  },
  {
   "cell_type": "code",
   "execution_count": 12,
   "metadata": {},
   "outputs": [
    {
     "name": "stdout",
     "output_type": "stream",
     "text": [
      "1 HI  3 HI  5 HI  7 HI  9 HI  11 HI  13 HI  15 HI  17 HI  19 HI  21 HI  23 HI  25 HI  27 HI  29 HI  31 HI  33 HI  35 HI  37 HI  39 HI  41 HI  43 HI  45 HI  47 HI  49 HI  51 HI  53 HI  55 HI  57 HI  59 HI  61 HI  63 HI  65 HI  67 HI  69 HI  71 HI  73 HI  75 HI  77 HI  79 HI  81 HI  83 HI  85 HI  87 HI  89 HI  91 HI  93 HI  95 HI  97 HI  99 HI  "
     ]
    }
   ],
   "source": [
    "for i in range(0,100):\n",
    "    if i%2!=0:\n",
    "        print(i,\"HI\",end=\"  \")\n",
    "     \n",
    "    "
   ]
  },
  {
   "cell_type": "code",
   "execution_count": 14,
   "metadata": {},
   "outputs": [],
   "source": [
    "from mpl_toolkits import mplot3d"
   ]
  },
  {
   "cell_type": "code",
   "execution_count": 15,
   "metadata": {},
   "outputs": [],
   "source": [
    "import numpy as np\n",
    "import matplotlib.pyplot as plt"
   ]
  },
  {
   "cell_type": "code",
   "execution_count": 16,
   "metadata": {},
   "outputs": [
    {
     "data": {
      "image/png": "[encoded data removed]",
      "text/plain": [
       "<Figure size 432x288 with 1 Axes>"
      ]
     },
     "metadata": {
      "needs_background": "light"
     },
     "output_type": "display_data"
    }
   ],
   "source": [
    "fig=plt.figure()\n",
    "ax=plt.axes(projection=\"3d\")"
   ]
  },
  {
   "cell_type": "code",
   "execution_count": 26,
   "metadata": {},
   "outputs": [
    {
     "data": {
      "text/plain": [
       "<mpl_toolkits.mplot3d.art3d.Path3DCollection at 0x1fe5d785100>"
      ]
     },
     "execution_count": 26,
     "metadata": {},
     "output_type": "execute_result"
    },
    {
     "data": {
      "image/png": "[encoded data removed]",
      "text/plain": [
       "<Figure size 432x288 with 1 Axes>"
      ]
     },
     "metadata": {
      "needs_background": "light"
     },
     "output_type": "display_data"
    }
   ],
   "source": [
    "\n",
    "ax=plt.axes(projection=\"3d\")\n",
    "z=np.linspace(0,15,1000)\n",
    "x=np.sin(z)\n",
    "y=np.cos(z)\n",
    "ax.plot3D(x,y,z,\"gray\")\n",
    "\n",
    "z1=15*np.random.random(100)\n",
    "x1=np.sin(z1) + 0.1 *np.random.randn(100)\n",
    "\n",
    "y1=np.cos(z1) + 0.1 *np.random.randn(100)\n",
    "\n",
    "ax.scatter3D(x1,y1,z1,c=z1,cmap=\"Greens\")\n"
   ]
  },
  {
   "cell_type": "code",
   "execution_count": 28,
   "metadata": {},
   "outputs": [],
   "source": [
    "import pandas as pd\n",
    "hp = pd.read_excel(r'C:\\Users\\UDDANDAH\\Desktop\\Work\\GAIN Master File.xlsx')\n"
   ]
  },
  {
   "cell_type": "code",
   "execution_count": 29,
   "metadata": {},
   "outputs": [
    {
     "data": {
      "text/html": [
       "<div>\n",
       "<style scoped>\n",
       "    .dataframe tbody tr th:only-of-type {\n",
       "        vertical-align: middle;\n",
       "    }\n",
       "\n",
       "    .dataframe tbody tr th {\n",
       "        vertical-align: top;\n",
       "    }\n",
       "\n",
       "    .dataframe thead th {\n",
       "        text-align: right;\n",
       "    }\n",
       "</style>\n",
       "<table border=\"1\" class=\"dataframe\">\n",
       "  <thead>\n",
       "    <tr style=\"text-align: right;\">\n",
       "      <th></th>\n",
       "      <th>Partner ID</th>\n",
       "      <th>Partner Org</th>\n",
       "      <th>Type</th>\n",
       "      <th>City</th>\n",
       "      <th>Partner Region</th>\n",
       "      <th>State</th>\n",
       "      <th>Owners</th>\n",
       "      <th>Country Code</th>\n",
       "      <th>Partner Country</th>\n",
       "      <th>Region</th>\n",
       "    </tr>\n",
       "  </thead>\n",
       "  <tbody>\n",
       "    <tr>\n",
       "      <th>0</th>\n",
       "      <td>3DP_APJ_L1_PARTNER_DKSH_SG</td>\n",
       "      <td>NaN</td>\n",
       "      <td>NaN</td>\n",
       "      <td>NaN</td>\n",
       "      <td>Singapore</td>\n",
       "      <td>NaN</td>\n",
       "      <td>NaN</td>\n",
       "      <td>SG</td>\n",
       "      <td>Singapore</td>\n",
       "      <td>SEAK</td>\n",
       "    </tr>\n",
       "    <tr>\n",
       "      <th>1</th>\n",
       "      <td>3DP_APJ_L1_PARTNER_DKSH_TH</td>\n",
       "      <td>NaN</td>\n",
       "      <td>NaN</td>\n",
       "      <td>NaN</td>\n",
       "      <td>Thailand</td>\n",
       "      <td>NaN</td>\n",
       "      <td>NaN</td>\n",
       "      <td>TH</td>\n",
       "      <td>Thailand</td>\n",
       "      <td>SEAK</td>\n",
       "    </tr>\n",
       "    <tr>\n",
       "      <th>2</th>\n",
       "      <td>3DP_APJ_L1_PARTNER_Redington_Chennai1_IN</td>\n",
       "      <td>NaN</td>\n",
       "      <td>NaN</td>\n",
       "      <td>Others</td>\n",
       "      <td>Others</td>\n",
       "      <td>Others</td>\n",
       "      <td>Others</td>\n",
       "      <td>IN</td>\n",
       "      <td>India</td>\n",
       "      <td>India</td>\n",
       "    </tr>\n",
       "    <tr>\n",
       "      <th>3</th>\n",
       "      <td>3DP_APJ_L1_PARTNER_Ricoh_JP</td>\n",
       "      <td>NaN</td>\n",
       "      <td>NaN</td>\n",
       "      <td>NaN</td>\n",
       "      <td>Japan</td>\n",
       "      <td>NaN</td>\n",
       "      <td>NaN</td>\n",
       "      <td>JP</td>\n",
       "      <td>Japan</td>\n",
       "      <td>Japan</td>\n",
       "    </tr>\n",
       "    <tr>\n",
       "      <th>4</th>\n",
       "      <td>3DP_APJ_L1_PARTNER_Solize_JP</td>\n",
       "      <td>NaN</td>\n",
       "      <td>NaN</td>\n",
       "      <td>NaN</td>\n",
       "      <td>Japan</td>\n",
       "      <td>NaN</td>\n",
       "      <td>NaN</td>\n",
       "      <td>JP</td>\n",
       "      <td>Japan</td>\n",
       "      <td>Japan</td>\n",
       "    </tr>\n",
       "  </tbody>\n",
       "</table>\n",
       "</div>"
      ],
      "text/plain": [
       "                                 Partner ID Partner Org Type    City  \\\n",
       "0                3DP_APJ_L1_PARTNER_DKSH_SG         NaN  NaN     NaN   \n",
       "1                3DP_APJ_L1_PARTNER_DKSH_TH         NaN  NaN     NaN   \n",
       "2  3DP_APJ_L1_PARTNER_Redington_Chennai1_IN         NaN  NaN  Others   \n",
       "3               3DP_APJ_L1_PARTNER_Ricoh_JP         NaN  NaN     NaN   \n",
       "4              3DP_APJ_L1_PARTNER_Solize_JP         NaN  NaN     NaN   \n",
       "\n",
       "  Partner Region   State  Owners Country Code Partner Country Region  \n",
       "0      Singapore     NaN     NaN           SG       Singapore   SEAK  \n",
       "1       Thailand     NaN     NaN           TH        Thailand   SEAK  \n",
       "2         Others  Others  Others           IN           India  India  \n",
       "3          Japan     NaN     NaN           JP           Japan  Japan  \n",
       "4          Japan     NaN     NaN           JP           Japan  Japan  "
      ]
     },
     "execution_count": 29,
     "metadata": {},
     "output_type": "execute_result"
    }
   ],
   "source": [
    "hp.head()"
   ]
  },
  {
   "cell_type": "code",
   "execution_count": 30,
   "metadata": {},
   "outputs": [],
   "source": [
    "del hp['Partner ID']"
   ]
  },
  {
   "cell_type": "code",
   "execution_count": 32,
   "metadata": {},
   "outputs": [
    {
     "data": {
      "text/html": [
       "<div>\n",
       "<style scoped>\n",
       "    .dataframe tbody tr th:only-of-type {\n",
       "        vertical-align: middle;\n",
       "    }\n",
       "\n",
       "    .dataframe tbody tr th {\n",
       "        vertical-align: top;\n",
       "    }\n",
       "\n",
       "    .dataframe thead th {\n",
       "        text-align: right;\n",
       "    }\n",
       "</style>\n",
       "<table border=\"1\" class=\"dataframe\">\n",
       "  <thead>\n",
       "    <tr style=\"text-align: right;\">\n",
       "      <th></th>\n",
       "      <th>Partner Org</th>\n",
       "      <th>Type</th>\n",
       "      <th>City</th>\n",
       "      <th>Partner Region</th>\n",
       "      <th>State</th>\n",
       "      <th>Owners</th>\n",
       "      <th>Country Code</th>\n",
       "      <th>Partner Country</th>\n",
       "      <th>Region</th>\n",
       "    </tr>\n",
       "  </thead>\n",
       "  <tbody>\n",
       "    <tr>\n",
       "      <th>0</th>\n",
       "      <td>NaN</td>\n",
       "      <td>NaN</td>\n",
       "      <td>NaN</td>\n",
       "      <td>Singapore</td>\n",
       "      <td>NaN</td>\n",
       "      <td>NaN</td>\n",
       "      <td>SG</td>\n",
       "      <td>Singapore</td>\n",
       "      <td>SEAK</td>\n",
       "    </tr>\n",
       "    <tr>\n",
       "      <th>1</th>\n",
       "      <td>NaN</td>\n",
       "      <td>NaN</td>\n",
       "      <td>NaN</td>\n",
       "      <td>Thailand</td>\n",
       "      <td>NaN</td>\n",
       "      <td>NaN</td>\n",
       "      <td>TH</td>\n",
       "      <td>Thailand</td>\n",
       "      <td>SEAK</td>\n",
       "    </tr>\n",
       "  </tbody>\n",
       "</table>\n",
       "</div>"
      ],
      "text/plain": [
       "  Partner Org Type City Partner Region State Owners Country Code  \\\n",
       "0         NaN  NaN  NaN      Singapore   NaN    NaN           SG   \n",
       "1         NaN  NaN  NaN       Thailand   NaN    NaN           TH   \n",
       "\n",
       "  Partner Country Region  \n",
       "0       Singapore   SEAK  \n",
       "1        Thailand   SEAK  "
      ]
     },
     "execution_count": 32,
     "metadata": {},
     "output_type": "execute_result"
    }
   ],
   "source": [
    "hp.head(2)"
   ]
  },
  {
   "cell_type": "code",
   "execution_count": 33,
   "metadata": {},
   "outputs": [
    {
     "data": {
      "text/plain": [
       "Partner Org        object\n",
       "Type               object\n",
       "City               object\n",
       "Partner Region     object\n",
       "State              object\n",
       "Owners             object\n",
       "Country Code       object\n",
       "Partner Country    object\n",
       "Region             object\n",
       "dtype: object"
      ]
     },
     "execution_count": 33,
     "metadata": {},
     "output_type": "execute_result"
    }
   ],
   "source": [
    "hp.dtypes"
   ]
  },
  {
   "cell_type": "code",
   "execution_count": 34,
   "metadata": {},
   "outputs": [
    {
     "name": "stdout",
     "output_type": "stream",
     "text": [
      "<class 'pandas.core.frame.DataFrame'>\n",
      "RangeIndex: 2294 entries, 0 to 2293\n",
      "Data columns (total 9 columns):\n",
      " #   Column           Non-Null Count  Dtype \n",
      "---  ------           --------------  ----- \n",
      " 0   Partner Org      2028 non-null   object\n",
      " 1   Type             970 non-null    object\n",
      " 2   City             1721 non-null   object\n",
      " 3   Partner Region   2294 non-null   object\n",
      " 4   State            1864 non-null   object\n",
      " 5   Owners           2030 non-null   object\n",
      " 6   Country Code     2283 non-null   object\n",
      " 7   Partner Country  2294 non-null   object\n",
      " 8   Region           2294 non-null   object\n",
      "dtypes: object(9)\n",
      "memory usage: 161.4+ KB\n"
     ]
    }
   ],
   "source": [
    "hp.info()"
   ]
  },
  {
   "cell_type": "code",
   "execution_count": 37,
   "metadata": {},
   "outputs": [
    {
     "data": {
      "text/html": [
       "<div>\n",
       "<style scoped>\n",
       "    .dataframe tbody tr th:only-of-type {\n",
       "        vertical-align: middle;\n",
       "    }\n",
       "\n",
       "    .dataframe tbody tr th {\n",
       "        vertical-align: top;\n",
       "    }\n",
       "\n",
       "    .dataframe thead th {\n",
       "        text-align: right;\n",
       "    }\n",
       "</style>\n",
       "<table border=\"1\" class=\"dataframe\">\n",
       "  <thead>\n",
       "    <tr style=\"text-align: right;\">\n",
       "      <th></th>\n",
       "      <th>count</th>\n",
       "      <th>unique</th>\n",
       "      <th>top</th>\n",
       "      <th>freq</th>\n",
       "    </tr>\n",
       "  </thead>\n",
       "  <tbody>\n",
       "    <tr>\n",
       "      <th>Partner Org</th>\n",
       "      <td>2028</td>\n",
       "      <td>150</td>\n",
       "      <td>HPCE</td>\n",
       "      <td>311</td>\n",
       "    </tr>\n",
       "    <tr>\n",
       "      <th>Type</th>\n",
       "      <td>970</td>\n",
       "      <td>3</td>\n",
       "      <td>SubK</td>\n",
       "      <td>728</td>\n",
       "    </tr>\n",
       "    <tr>\n",
       "      <th>City</th>\n",
       "      <td>1721</td>\n",
       "      <td>379</td>\n",
       "      <td>South Korea</td>\n",
       "      <td>114</td>\n",
       "    </tr>\n",
       "    <tr>\n",
       "      <th>Partner Region</th>\n",
       "      <td>2294</td>\n",
       "      <td>229</td>\n",
       "      <td>South Korea</td>\n",
       "      <td>350</td>\n",
       "    </tr>\n",
       "    <tr>\n",
       "      <th>State</th>\n",
       "      <td>1864</td>\n",
       "      <td>211</td>\n",
       "      <td>Maharashtra</td>\n",
       "      <td>125</td>\n",
       "    </tr>\n",
       "    <tr>\n",
       "      <th>Owners</th>\n",
       "      <td>2030</td>\n",
       "      <td>27</td>\n",
       "      <td>Baban Kumar</td>\n",
       "      <td>339</td>\n",
       "    </tr>\n",
       "    <tr>\n",
       "      <th>Country Code</th>\n",
       "      <td>2283</td>\n",
       "      <td>12</td>\n",
       "      <td>IN</td>\n",
       "      <td>973</td>\n",
       "    </tr>\n",
       "    <tr>\n",
       "      <th>Partner Country</th>\n",
       "      <td>2294</td>\n",
       "      <td>16</td>\n",
       "      <td>India</td>\n",
       "      <td>973</td>\n",
       "    </tr>\n",
       "    <tr>\n",
       "      <th>Region</th>\n",
       "      <td>2294</td>\n",
       "      <td>4</td>\n",
       "      <td>India</td>\n",
       "      <td>973</td>\n",
       "    </tr>\n",
       "  </tbody>\n",
       "</table>\n",
       "</div>"
      ],
      "text/plain": [
       "                count unique          top freq\n",
       "Partner Org      2028    150         HPCE  311\n",
       "Type              970      3         SubK  728\n",
       "City             1721    379  South Korea  114\n",
       "Partner Region   2294    229  South Korea  350\n",
       "State            1864    211  Maharashtra  125\n",
       "Owners           2030     27  Baban Kumar  339\n",
       "Country Code     2283     12           IN  973\n",
       "Partner Country  2294     16        India  973\n",
       "Region           2294      4        India  973"
      ]
     },
     "execution_count": 37,
     "metadata": {},
     "output_type": "execute_result"
    }
   ],
   "source": [
    "hp.describe().T"
   ]
  },
  {
   "cell_type": "code",
   "execution_count": 38,
   "metadata": {},
   "outputs": [
    {
     "data": {
      "text/plain": [
       "Partner Org         266\n",
       "Type               1324\n",
       "City                573\n",
       "Partner Region        0\n",
       "State               430\n",
       "Owners              264\n",
       "Country Code         11\n",
       "Partner Country       0\n",
       "Region                0\n",
       "dtype: int64"
      ]
     },
     "execution_count": 38,
     "metadata": {},
     "output_type": "execute_result"
    }
   ],
   "source": [
    "hp.isnull().sum()"
   ]
  },
  {
   "cell_type": "code",
   "execution_count": 40,
   "metadata": {},
   "outputs": [
    {
     "name": "stdout",
     "output_type": "stream",
     "text": [
      "enter a number9\n",
      "1\n",
      "12\n",
      "123\n",
      "1234\n",
      "12345\n",
      "123456\n",
      "1234567\n",
      "12345678\n",
      "123456789\n"
     ]
    }
   ],
   "source": [
    "n=int(input(\"enter a number\" :))\n",
    "\n",
    "for i in range(1,n+1):\n",
    "    for j in range(1,i+1):\n",
    "        print(j,end=\"\")\n",
    "    print()"
   ]
  },
  {
   "cell_type": "code",
   "execution_count": 41,
   "metadata": {},
   "outputs": [
    {
     "name": "stdout",
     "output_type": "stream",
     "text": [
      "enter any year : 1996\n",
      " leap year : 1996\n"
     ]
    }
   ],
   "source": [
    "# python program to check leap year\n",
    "\n",
    "year=int(input(\"enter any year : \"))\n",
    "\n",
    "if (year%4)==0:\n",
    "    if (year%100)==0:\n",
    "        if (year%400)==0:\n",
    "            print(\" leap year :\",year)\n",
    "        else:\n",
    "            print(\" not a leap year :\",year)\n",
    "    else:\n",
    "        print(\" leap year :\",year)\n",
    "else:\n",
    "    print(\"not a leap year :\",year)"
   ]
  },
  {
   "cell_type": "code",
   "execution_count": 44,
   "metadata": {},
   "outputs": [],
   "source": [
    "hp1=hp.dropna()"
   ]
  },
  {
   "cell_type": "code",
   "execution_count": 45,
   "metadata": {},
   "outputs": [
    {
     "data": {
      "text/plain": [
       "Partner Org        0\n",
       "Type               0\n",
       "City               0\n",
       "Partner Region     0\n",
       "State              0\n",
       "Owners             0\n",
       "Country Code       0\n",
       "Partner Country    0\n",
       "Region             0\n",
       "dtype: int64"
      ]
     },
     "execution_count": 45,
     "metadata": {},
     "output_type": "execute_result"
    }
   ],
   "source": [
    "hp1.isnull().sum()"
   ]
  },
  {
   "cell_type": "code",
   "execution_count": 68,
   "metadata": {},
   "outputs": [],
   "source": [
    "class Employee:\n",
    "    '''Hi Hello welcome to learn python oops'''\n",
    "\n",
    "    def __init__(self,eno,ename,esal,eaddr):\n",
    "        self.eno=eno\n",
    "        self.ename=ename\n",
    "        self.esal=esal\n",
    "        self.eaddr=eaddr\n",
    "    def info(self):\n",
    "        print(\"My emp no is :\",self.eno)\n",
    "        print(\"my emp name is :\",self.ename)\n",
    "        print(\"my emp sal is :\",self.esal)\n",
    "        print(\"my emp address is :\",self.eaddr)\n",
    "        \n",
    "\n",
    "        "
   ]
  },
  {
   "cell_type": "code",
   "execution_count": 69,
   "metadata": {},
   "outputs": [],
   "source": [
    "e1=Employee(1,\"Hari\",45000,\"Bang\")\n",
    "e2=Employee(2,\"HariPrakash\",47000,\"delhi\")\n"
   ]
  },
  {
   "cell_type": "code",
   "execution_count": 71,
   "metadata": {},
   "outputs": [
    {
     "name": "stdout",
     "output_type": "stream",
     "text": [
      "My emp no is : 1\n",
      "my emp name is : Hari\n",
      "my emp sal is : 45000\n",
      "my emp address is : Bang\n",
      "None\n",
      "********************\n",
      "My emp no is : 2\n",
      "my emp name is : HariPrakash\n",
      "my emp sal is : 47000\n",
      "my emp address is : delhi\n",
      "None\n"
     ]
    }
   ],
   "source": [
    "print(e1.info())\n",
    "print(\"*\"*20)\n",
    "print(e2.info())\n"
   ]
  },
  {
   "cell_type": "code",
   "execution_count": 72,
   "metadata": {},
   "outputs": [
    {
     "name": "stdout",
     "output_type": "stream",
     "text": [
      "Hi Hello welcome to learn python oops\n"
     ]
    }
   ],
   "source": [
    "print(Employee.__doc__)\n"
   ]
  },
  {
   "cell_type": "code",
   "execution_count": 73,
   "metadata": {},
   "outputs": [],
   "source": [
    "# if u want to return current object we need self keyword\n",
    "# self is a reference variable  always pointing to current object\n",
    "# __init__ is constructor\n",
    "# the first argument to the constructor and instance method should be self\n",
    "# \n"
   ]
  },
  {
   "cell_type": "code",
   "execution_count": 74,
   "metadata": {},
   "outputs": [],
   "source": [
    "## self\n",
    "# self is an implicit variable which is always provided by python virtual machine\n",
    "# self is always pointing to current object\n",
    "# for every constructor and instance method the first argument should be self keyword\n",
    "# within the class the self can be used to declare instance variables and to access instance variables \n",
    "# "
   ]
  },
  {
   "cell_type": "code",
   "execution_count": 75,
   "metadata": {},
   "outputs": [],
   "source": [
    "# constructor :\n",
    "\n",
    "# the name of the constructor should be __init__()\n",
    "# used at the time of object creation\n",
    "# to declare and initialize instance variables\n",
    "# python will provide default constructor\n",
    "# "
   ]
  },
  {
   "cell_type": "code",
   "execution_count": 76,
   "metadata": {},
   "outputs": [],
   "source": [
    "class Test:\n",
    "    def __init__(self):\n",
    "        print(\"hari\")"
   ]
  },
  {
   "cell_type": "code",
   "execution_count": 77,
   "metadata": {},
   "outputs": [
    {
     "name": "stdout",
     "output_type": "stream",
     "text": [
      "hari\n",
      "hari\n"
     ]
    }
   ],
   "source": [
    "h1=Test()\n",
    "h2=Test()"
   ]
  },
  {
   "cell_type": "code",
   "execution_count": 78,
   "metadata": {},
   "outputs": [],
   "source": [
    "# 3 types of variables:\n",
    "# 1. instance variables,2.static variables,3.local variables\n",
    "\n",
    "\n",
    "# 3 types of methods\n",
    "# 1.instance methods,2.class methods,3.static methods"
   ]
  },
  {
   "cell_type": "code",
   "execution_count": 82,
   "metadata": {},
   "outputs": [],
   "source": [
    "class Hari:\n",
    "    def __init__ (self,name,rollno):\n",
    "        self.name=name\n",
    "        self.rollno=rollno\n",
    "    def info(self):\n",
    "        print(\"name is : \",self.name)\n",
    "        print(\"roll no is : \",self.rollno)"
   ]
  },
  {
   "cell_type": "code",
   "execution_count": 83,
   "metadata": {},
   "outputs": [],
   "source": [
    "a1=Hari(\"hari prakash\",1)"
   ]
  },
  {
   "cell_type": "code",
   "execution_count": 84,
   "metadata": {},
   "outputs": [
    {
     "name": "stdout",
     "output_type": "stream",
     "text": [
      "name is :  hari prakash\n",
      "roll no is :  1\n"
     ]
    }
   ],
   "source": [
    "a1.info()"
   ]
  },
  {
   "cell_type": "code",
   "execution_count": null,
   "metadata": {},
   "outputs": [],
   "source": [
    "head\n",
    "tail\n",
    "describe\n",
    "hp.isnull().sum()\n",
    "sbn.relplot(x=\"\",y=\"\",data=hp)\n",
    "sbn.pairplot(hp)\n"
   ]
  },
  {
   "cell_type": "code",
   "execution_count": null,
   "metadata": {},
   "outputs": [],
   "source": [
    "[this is a link](https://www.linkedin.com/in/hariprakash-uddandam-a3410a187)"
   ]
  },
  {
   "cell_type": "code",
   "execution_count": 88,
   "metadata": {},
   "outputs": [
    {
     "data": {
      "text/plain": [
       "Index(['Partner Org', 'Type', 'City', 'Partner Region', 'State', 'Owners',\n",
       "       'Country Code', 'Partner Country', 'Region'],\n",
       "      dtype='object')"
      ]
     },
     "execution_count": 88,
     "metadata": {},
     "output_type": "execute_result"
    }
   ],
   "source": [
    "hp1.columns"
   ]
  },
  {
   "cell_type": "code",
   "execution_count": 91,
   "metadata": {},
   "outputs": [
    {
     "name": "stderr",
     "output_type": "stream",
     "text": [
      "<ipython-input-91-54e7ab5e4b94>:1: SettingWithCopyWarning: \n",
      "A value is trying to be set on a copy of a slice from a DataFrame.\n",
      "Try using .loc[row_indexer,col_indexer] = value instead\n",
      "\n",
      "See the caveats in the documentation: https://pandas.pydata.org/pandas-docs/stable/user_guide/indexing.html#returning-a-view-versus-a-copy\n",
      "  hp1['col']='null'\n"
     ]
    }
   ],
   "source": [
    "hp1['col']='null'"
   ]
  },
  {
   "cell_type": "code",
   "execution_count": 92,
   "metadata": {},
   "outputs": [
    {
     "data": {
      "text/plain": [
       "Index(['Partner Org', 'Type', 'City', 'Partner Region', 'State', 'Owners',\n",
       "       'Country Code', 'Partner Country', 'Region', 'col'],\n",
       "      dtype='object')"
      ]
     },
     "execution_count": 92,
     "metadata": {},
     "output_type": "execute_result"
    }
   ],
   "source": [
    "hp1.columns"
   ]
  },
  {
   "cell_type": "code",
   "execution_count": 96,
   "metadata": {},
   "outputs": [
    {
     "name": "stdout",
     "output_type": "stream",
     "text": [
      "null    969\n",
      "Name: col, dtype: int64\n",
      "India    969\n",
      "Name: Region, dtype: int64\n"
     ]
    }
   ],
   "source": [
    "print(hp1['col'].value_counts())\n",
    "print(hp1['Region'].value_counts())\n"
   ]
  },
  {
   "cell_type": "code",
   "execution_count": 97,
   "metadata": {},
   "outputs": [
    {
     "name": "stderr",
     "output_type": "stream",
     "text": [
      "<ipython-input-97-59f3c39f47b6>:1: SettingWithCopyWarning: \n",
      "A value is trying to be set on a copy of a slice from a DataFrame.\n",
      "Try using .loc[row_indexer,col_indexer] = value instead\n",
      "\n",
      "See the caveats in the documentation: https://pandas.pydata.org/pandas-docs/stable/user_guide/indexing.html#returning-a-view-versus-a-copy\n",
      "  hp1['col2']='hari'\n"
     ]
    }
   ],
   "source": [
    "hp1['col2']='hari'"
   ]
  },
  {
   "cell_type": "code",
   "execution_count": 98,
   "metadata": {},
   "outputs": [
    {
     "data": {
      "text/plain": [
       "1324    hari\n",
       "1325    hari\n",
       "1326    hari\n",
       "1327    hari\n",
       "1328    hari\n",
       "Name: col2, dtype: object"
      ]
     },
     "execution_count": 98,
     "metadata": {},
     "output_type": "execute_result"
    }
   ],
   "source": [
    "hp1['col2'].head()"
   ]
  },
  {
   "cell_type": "code",
   "execution_count": 108,
   "metadata": {},
   "outputs": [
    {
     "name": "stdout",
     "output_type": "stream",
     "text": [
      "magic no 46 is reached! lets stop execution....\n",
      "i :  101\n",
      "result :  93326215443944152681699238856266700490715968264381621468592963895217599993229915608941463976156518286253697920827223758251185210916864000000000000000000000000\n"
     ]
    }
   ],
   "source": [
    "i=1\n",
    "hari=1\n",
    "\n",
    "while i<=100:\n",
    "    hari=hari*i\n",
    "    if i==46:\n",
    "        print(\"magic no 46 is reached! lets stop execution....\")\n",
    "    i+=1\n",
    "    \n",
    "    \n",
    "print(\"i : \",i)\n",
    "print(\"result : \",hari)"
   ]
  },
  {
   "cell_type": "code",
   "execution_count": 110,
   "metadata": {},
   "outputs": [
    {
     "data": {
      "text/plain": [
       "93326215443944152681699238856266700490715968264381621468592963895217599993229915608941463976156518286253697920827223758251185210916864000000000000000000000000"
      ]
     },
     "execution_count": 110,
     "metadata": {},
     "output_type": "execute_result"
    }
   ],
   "source": [
    "import math\n",
    "math.factorial(100)"
   ]
  },
  {
   "cell_type": "code",
   "execution_count": 111,
   "metadata": {},
   "outputs": [
    {
     "name": "stdout",
     "output_type": "stream",
     "text": [
      "skipping 2\n",
      "multiplying with 3\n",
      "skipping 4\n",
      "multiplying with 5\n",
      "skipping 6\n",
      "multiplying with 7\n",
      "skipping 8\n",
      "multiplying with 9\n",
      "skipping 10\n",
      "multiplying with 11\n",
      "skipping 12\n",
      "multiplying with 13\n",
      "skipping 14\n",
      "multiplying with 15\n",
      "skipping 16\n",
      "multiplying with 17\n",
      "skipping 18\n",
      "multiplying with 19\n",
      "skipping 20\n",
      "multiplying with 21\n",
      "i :  21\n",
      "result :  13749310575\n"
     ]
    }
   ],
   "source": [
    "i=1\n",
    "hari=1\n",
    "\n",
    "while i<=20:\n",
    "    i+=1\n",
    "    if i%2==0:\n",
    "        print('skipping {}'.format(i))\n",
    "        continue\n",
    "    print(\"multiplying with {}\".format(i))\n",
    "    hari=hari*i\n",
    "\n",
    "    \n",
    "    \n",
    "    \n",
    "print(\"i : \",i)\n",
    "print(\"result : \",hari)"
   ]
  },
  {
   "cell_type": "code",
   "execution_count": 116,
   "metadata": {},
   "outputs": [],
   "source": [
    "def loan_emi(amount,duration):\n",
    "    emi=amount/duration\n",
    "    print(\"the emi is RS{}\".format(emi))"
   ]
  },
  {
   "cell_type": "code",
   "execution_count": 117,
   "metadata": {},
   "outputs": [
    {
     "name": "stdout",
     "output_type": "stream",
     "text": [
      "the emi is RS1666.6666666666667\n"
     ]
    }
   ],
   "source": [
    "loan_emi(200000,10*12)"
   ]
  },
  {
   "cell_type": "code",
   "execution_count": 125,
   "metadata": {},
   "outputs": [
    {
     "data": {
      "text/plain": [
       "9"
      ]
     },
     "execution_count": 125,
     "metadata": {},
     "output_type": "execute_result"
    }
   ],
   "source": [
    "import math\n",
    "math.ceil(9.0)"
   ]
  },
  {
   "cell_type": "code",
   "execution_count": 126,
   "metadata": {},
   "outputs": [],
   "source": [
    "import numpy as np\n"
   ]
  },
  {
   "cell_type": "code",
   "execution_count": 127,
   "metadata": {},
   "outputs": [
    {
     "data": {
      "text/plain": [
       "array([ 1, 10, 20])"
      ]
     },
     "execution_count": 127,
     "metadata": {},
     "output_type": "execute_result"
    }
   ],
   "source": [
    "np.array([1,10,20])"
   ]
  },
  {
   "cell_type": "code",
   "execution_count": 128,
   "metadata": {},
   "outputs": [],
   "source": [
    "import re"
   ]
  },
  {
   "cell_type": "code",
   "execution_count": 132,
   "metadata": {},
   "outputs": [
    {
     "name": "stdout",
     "output_type": "stream",
     "text": [
      "\tTAB\n"
     ]
    }
   ],
   "source": [
    "print('\\tTAB')"
   ]
  },
  {
   "cell_type": "code",
   "execution_count": 134,
   "metadata": {},
   "outputs": [
    {
     "name": "stdout",
     "output_type": "stream",
     "text": [
      "\\tTAB\n"
     ]
    }
   ],
   "source": [
    "print(r'\\tTAB')"
   ]
  },
  {
   "cell_type": "code",
   "execution_count": 136,
   "metadata": {},
   "outputs": [],
   "source": [
    "sentence='start a sentence and then bring it to an end'\n",
    "pattern=re.compile(r'abc')\n",
    "matches=pattern.finditer(text_to_search)"
   ]
  },
  {
   "cell_type": "code",
   "execution_count": 137,
   "metadata": {},
   "outputs": [
    {
     "name": "stdout",
     "output_type": "stream",
     "text": [
      "Help on module re:\n",
      "\n",
      "NAME\n",
      "    re - Support for regular expressions (RE).\n",
      "\n",
      "MODULE REFERENCE\n",
      "    https://docs.python.org/3.8/library/re\n",
      "    \n",
      "    The following documentation is automatically generated from the Python\n",
      "    source files.  It may be incomplete, incorrect or include features that\n",
      "    are considered implementation detail and may vary between Python\n",
      "    implementations.  When in doubt, consult the module reference at the\n",
      "    location listed above.\n",
      "\n",
      "DESCRIPTION\n",
      "    This module provides regular expression matching operations similar to\n",
      "    those found in Perl.  It supports both 8-bit and Unicode strings; both\n",
      "    the pattern and the strings being processed can contain null bytes and\n",
      "    characters outside the US ASCII range.\n",
      "    \n",
      "    Regular expressions can contain both special and ordinary characters.\n",
      "    Most ordinary characters, like \"A\", \"a\", or \"0\", are the simplest\n",
      "    regular expressions; they simply match themselves.  You can\n",
      "    concatenate ordinary characters, so last matches the string 'last'.\n",
      "    \n",
      "    The special characters are:\n",
      "        \".\"      Matches any character except a newline.\n",
      "        \"^\"      Matches the start of the string.\n",
      "        \"$\"      Matches the end of the string or just before the newline at\n",
      "                 the end of the string.\n",
      "        \"*\"      Matches 0 or more (greedy) repetitions of the preceding RE.\n",
      "                 Greedy means that it will match as many repetitions as possible.\n",
      "        \"+\"      Matches 1 or more (greedy) repetitions of the preceding RE.\n",
      "        \"?\"      Matches 0 or 1 (greedy) of the preceding RE.\n",
      "        *?,+?,?? Non-greedy versions of the previous three special characters.\n",
      "        {m,n}    Matches from m to n repetitions of the preceding RE.\n",
      "        {m,n}?   Non-greedy version of the above.\n",
      "        \"\\\\\"     Either escapes special characters or signals a special sequence.\n",
      "        []       Indicates a set of characters.\n",
      "                 A \"^\" as the first character indicates a complementing set.\n",
      "        \"|\"      A|B, creates an RE that will match either A or B.\n",
      "        (...)    Matches the RE inside the parentheses.\n",
      "                 The contents can be retrieved or matched later in the string.\n",
      "        (?aiLmsux) The letters set the corresponding flags defined below.\n",
      "        (?:...)  Non-grouping version of regular parentheses.\n",
      "        (?P<name>...) The substring matched by the group is accessible by name.\n",
      "        (?P=name)     Matches the text matched earlier by the group named name.\n",
      "        (?#...)  A comment; ignored.\n",
      "        (?=...)  Matches if ... matches next, but doesn't consume the string.\n",
      "        (?!...)  Matches if ... doesn't match next.\n",
      "        (?<=...) Matches if preceded by ... (must be fixed length).\n",
      "        (?<!...) Matches if not preceded by ... (must be fixed length).\n",
      "        (?(id/name)yes|no) Matches yes pattern if the group with id/name matched,\n",
      "                           the (optional) no pattern otherwise.\n",
      "    \n",
      "    The special sequences consist of \"\\\\\" and a character from the list\n",
      "    below.  If the ordinary character is not on the list, then the\n",
      "    resulting RE will match the second character.\n",
      "        \\number  Matches the contents of the group of the same number.\n",
      "        \\A       Matches only at the start of the string.\n",
      "        \\Z       Matches only at the end of the string.\n",
      "        \\b       Matches the empty string, but only at the start or end of a word.\n",
      "        \\B       Matches the empty string, but not at the start or end of a word.\n",
      "        \\d       Matches any decimal digit; equivalent to the set [0-9] in\n",
      "                 bytes patterns or string patterns with the ASCII flag.\n",
      "                 In string patterns without the ASCII flag, it will match the whole\n",
      "                 range of Unicode digits.\n",
      "        \\D       Matches any non-digit character; equivalent to [^\\d].\n",
      "        \\s       Matches any whitespace character; equivalent to [ \\t\\n\\r\\f\\v] in\n",
      "                 bytes patterns or string patterns with the ASCII flag.\n",
      "                 In string patterns without the ASCII flag, it will match the whole\n",
      "                 range of Unicode whitespace characters.\n",
      "        \\S       Matches any non-whitespace character; equivalent to [^\\s].\n",
      "        \\w       Matches any alphanumeric character; equivalent to [a-zA-Z0-9_]\n",
      "                 in bytes patterns or string patterns with the ASCII flag.\n",
      "                 In string patterns without the ASCII flag, it will match the\n",
      "                 range of Unicode alphanumeric characters (letters plus digits\n",
      "                 plus underscore).\n",
      "                 With LOCALE, it will match the set [0-9_] plus characters defined\n",
      "                 as letters for the current locale.\n",
      "        \\W       Matches the complement of \\w.\n",
      "        \\\\       Matches a literal backslash.\n",
      "    \n",
      "    This module exports the following functions:\n",
      "        match     Match a regular expression pattern to the beginning of a string.\n",
      "        fullmatch Match a regular expression pattern to all of a string.\n",
      "        search    Search a string for the presence of a pattern.\n",
      "        sub       Substitute occurrences of a pattern found in a string.\n",
      "        subn      Same as sub, but also return the number of substitutions made.\n",
      "        split     Split a string by the occurrences of a pattern.\n",
      "        findall   Find all occurrences of a pattern in a string.\n",
      "        finditer  Return an iterator yielding a Match object for each match.\n",
      "        compile   Compile a pattern into a Pattern object.\n",
      "        purge     Clear the regular expression cache.\n",
      "        escape    Backslash all non-alphanumerics in a string.\n",
      "    \n",
      "    Each function other than purge and escape can take an optional 'flags' argument\n",
      "    consisting of one or more of the following module constants, joined by \"|\".\n",
      "    A, L, and U are mutually exclusive.\n",
      "        A  ASCII       For string patterns, make \\w, \\W, \\b, \\B, \\d, \\D\n",
      "                       match the corresponding ASCII character categories\n",
      "                       (rather than the whole Unicode categories, which is the\n",
      "                       default).\n",
      "                       For bytes patterns, this flag is the only available\n",
      "                       behaviour and needn't be specified.\n",
      "        I  IGNORECASE  Perform case-insensitive matching.\n",
      "        L  LOCALE      Make \\w, \\W, \\b, \\B, dependent on the current locale.\n",
      "        M  MULTILINE   \"^\" matches the beginning of lines (after a newline)\n",
      "                       as well as the string.\n",
      "                       \"$\" matches the end of lines (before a newline) as well\n",
      "                       as the end of the string.\n",
      "        S  DOTALL      \".\" matches any character at all, including the newline.\n",
      "        X  VERBOSE     Ignore whitespace and comments for nicer looking RE's.\n",
      "        U  UNICODE     For compatibility only. Ignored for string patterns (it\n",
      "                       is the default), and forbidden for bytes patterns.\n",
      "    \n",
      "    This module also defines an exception 'error'.\n",
      "\n",
      "CLASSES\n",
      "    builtins.Exception(builtins.BaseException)\n",
      "        error\n",
      "    builtins.object\n",
      "        Match\n",
      "        Pattern\n",
      "    \n",
      "    class Match(builtins.object)\n",
      "     |  The result of re.match() and re.search().\n",
      "     |  Match objects always have a boolean value of True.\n",
      "     |  \n",
      "     |  Methods defined here:\n",
      "     |  \n",
      "     |  __copy__(self, /)\n",
      "     |  \n",
      "     |  __deepcopy__(self, memo, /)\n",
      "     |  \n",
      "     |  __getitem__(self, key, /)\n",
      "     |      Return self[key].\n",
      "     |  \n",
      "     |  __repr__(self, /)\n",
      "     |      Return repr(self).\n",
      "     |  \n",
      "     |  end(self, group=0, /)\n",
      "     |      Return index of the end of the substring matched by group.\n",
      "     |  \n",
      "     |  expand(self, /, template)\n",
      "     |      Return the string obtained by doing backslash substitution on the string template, as done by the sub() method.\n",
      "     |  \n",
      "     |  group(...)\n",
      "     |      group([group1, ...]) -> str or tuple.\n",
      "     |      Return subgroup(s) of the match by indices or names.\n",
      "     |      For 0 returns the entire match.\n",
      "     |  \n",
      "     |  groupdict(self, /, default=None)\n",
      "     |      Return a dictionary containing all the named subgroups of the match, keyed by the subgroup name.\n",
      "     |      \n",
      "     |      default\n",
      "     |        Is used for groups that did not participate in the match.\n",
      "     |  \n",
      "     |  groups(self, /, default=None)\n",
      "     |      Return a tuple containing all the subgroups of the match, from 1.\n",
      "     |      \n",
      "     |      default\n",
      "     |        Is used for groups that did not participate in the match.\n",
      "     |  \n",
      "     |  span(self, group=0, /)\n",
      "     |      For match object m, return the 2-tuple (m.start(group), m.end(group)).\n",
      "     |  \n",
      "     |  start(self, group=0, /)\n",
      "     |      Return index of the start of the substring matched by group.\n",
      "     |  \n",
      "     |  ----------------------------------------------------------------------\n",
      "     |  Data descriptors defined here:\n",
      "     |  \n",
      "     |  endpos\n",
      "     |      The index into the string beyond which the RE engine will not go.\n",
      "     |  \n",
      "     |  lastgroup\n",
      "     |      The name of the last matched capturing group.\n",
      "     |  \n",
      "     |  lastindex\n",
      "     |      The integer index of the last matched capturing group.\n",
      "     |  \n",
      "     |  pos\n",
      "     |      The index into the string at which the RE engine started looking for a match.\n",
      "     |  \n",
      "     |  re\n",
      "     |      The regular expression object.\n",
      "     |  \n",
      "     |  regs\n",
      "     |  \n",
      "     |  string\n",
      "     |      The string passed to match() or search().\n",
      "    \n",
      "    class Pattern(builtins.object)\n",
      "     |  Compiled regular expression object.\n",
      "     |  \n",
      "     |  Methods defined here:\n",
      "     |  \n",
      "     |  __copy__(self, /)\n",
      "     |  \n",
      "     |  __deepcopy__(self, memo, /)\n",
      "     |  \n",
      "     |  __eq__(self, value, /)\n",
      "     |      Return self==value.\n",
      "     |  \n",
      "     |  __ge__(self, value, /)\n",
      "     |      Return self>=value.\n",
      "     |  \n",
      "     |  __gt__(self, value, /)\n",
      "     |      Return self>value.\n",
      "     |  \n",
      "     |  __hash__(self, /)\n",
      "     |      Return hash(self).\n",
      "     |  \n",
      "     |  __le__(self, value, /)\n",
      "     |      Return self<=value.\n",
      "     |  \n",
      "     |  __lt__(self, value, /)\n",
      "     |      Return self<value.\n",
      "     |  \n",
      "     |  __ne__(self, value, /)\n",
      "     |      Return self!=value.\n",
      "     |  \n",
      "     |  __repr__(self, /)\n",
      "     |      Return repr(self).\n",
      "     |  \n",
      "     |  findall(self, /, string, pos=0, endpos=9223372036854775807)\n",
      "     |      Return a list of all non-overlapping matches of pattern in string.\n",
      "     |  \n",
      "     |  finditer(self, /, string, pos=0, endpos=9223372036854775807)\n",
      "     |      Return an iterator over all non-overlapping matches for the RE pattern in string.\n",
      "     |      \n",
      "     |      For each match, the iterator returns a match object.\n",
      "     |  \n",
      "     |  fullmatch(self, /, string, pos=0, endpos=9223372036854775807)\n",
      "     |      Matches against all of the string.\n",
      "     |  \n",
      "     |  match(self, /, string, pos=0, endpos=9223372036854775807)\n",
      "     |      Matches zero or more characters at the beginning of the string.\n",
      "     |  \n",
      "     |  scanner(self, /, string, pos=0, endpos=9223372036854775807)\n",
      "     |  \n",
      "     |  search(self, /, string, pos=0, endpos=9223372036854775807)\n",
      "     |      Scan through string looking for a match, and return a corresponding match object instance.\n",
      "     |      \n",
      "     |      Return None if no position in the string matches.\n",
      "     |  \n",
      "     |  split(self, /, string, maxsplit=0)\n",
      "     |      Split string by the occurrences of pattern.\n",
      "     |  \n",
      "     |  sub(self, /, repl, string, count=0)\n",
      "     |      Return the string obtained by replacing the leftmost non-overlapping occurrences of pattern in string by the replacement repl.\n",
      "     |  \n",
      "     |  subn(self, /, repl, string, count=0)\n",
      "     |      Return the tuple (new_string, number_of_subs_made) found by replacing the leftmost non-overlapping occurrences of pattern with the replacement repl.\n",
      "     |  \n",
      "     |  ----------------------------------------------------------------------\n",
      "     |  Data descriptors defined here:\n",
      "     |  \n",
      "     |  flags\n",
      "     |      The regex matching flags.\n",
      "     |  \n",
      "     |  groupindex\n",
      "     |      A dictionary mapping group names to group numbers.\n",
      "     |  \n",
      "     |  groups\n",
      "     |      The number of capturing groups in the pattern.\n",
      "     |  \n",
      "     |  pattern\n",
      "     |      The pattern string from which the RE object was compiled.\n",
      "    \n",
      "    class error(builtins.Exception)\n",
      "     |  error(msg, pattern=None, pos=None)\n",
      "     |  \n",
      "     |  Exception raised for invalid regular expressions.\n",
      "     |  \n",
      "     |  Attributes:\n",
      "     |  \n",
      "     |      msg: The unformatted error message\n",
      "     |      pattern: The regular expression pattern\n",
      "     |      pos: The index in the pattern where compilation failed (may be None)\n",
      "     |      lineno: The line corresponding to pos (may be None)\n",
      "     |      colno: The column corresponding to pos (may be None)\n",
      "     |  \n",
      "     |  Method resolution order:\n",
      "     |      error\n",
      "     |      builtins.Exception\n",
      "     |      builtins.BaseException\n",
      "     |      builtins.object\n",
      "     |  \n",
      "     |  Methods defined here:\n",
      "     |  \n",
      "     |  __init__(self, msg, pattern=None, pos=None)\n",
      "     |      Initialize self.  See help(type(self)) for accurate signature.\n",
      "     |  \n",
      "     |  ----------------------------------------------------------------------\n",
      "     |  Data descriptors defined here:\n",
      "     |  \n",
      "     |  __weakref__\n",
      "     |      list of weak references to the object (if defined)\n",
      "     |  \n",
      "     |  ----------------------------------------------------------------------\n",
      "     |  Static methods inherited from builtins.Exception:\n",
      "     |  \n",
      "     |  __new__(*args, **kwargs) from builtins.type\n",
      "     |      Create and return a new object.  See help(type) for accurate signature.\n",
      "     |  \n",
      "     |  ----------------------------------------------------------------------\n",
      "     |  Methods inherited from builtins.BaseException:\n",
      "     |  \n",
      "     |  __delattr__(self, name, /)\n",
      "     |      Implement delattr(self, name).\n",
      "     |  \n",
      "     |  __getattribute__(self, name, /)\n",
      "     |      Return getattr(self, name).\n",
      "     |  \n",
      "     |  __reduce__(...)\n",
      "     |      Helper for pickle.\n",
      "     |  \n",
      "     |  __repr__(self, /)\n",
      "     |      Return repr(self).\n",
      "     |  \n",
      "     |  __setattr__(self, name, value, /)\n",
      "     |      Implement setattr(self, name, value).\n",
      "     |  \n",
      "     |  __setstate__(...)\n",
      "     |  \n",
      "     |  __str__(self, /)\n",
      "     |      Return str(self).\n",
      "     |  \n",
      "     |  with_traceback(...)\n",
      "     |      Exception.with_traceback(tb) --\n",
      "     |      set self.__traceback__ to tb and return self.\n",
      "     |  \n",
      "     |  ----------------------------------------------------------------------\n",
      "     |  Data descriptors inherited from builtins.BaseException:\n",
      "     |  \n",
      "     |  __cause__\n",
      "     |      exception cause\n",
      "     |  \n",
      "     |  __context__\n",
      "     |      exception context\n",
      "     |  \n",
      "     |  __dict__\n",
      "     |  \n",
      "     |  __suppress_context__\n",
      "     |  \n",
      "     |  __traceback__\n",
      "     |  \n",
      "     |  args\n",
      "\n",
      "FUNCTIONS\n",
      "    compile(pattern, flags=0)\n",
      "        Compile a regular expression pattern, returning a Pattern object.\n",
      "    \n",
      "    escape(pattern)\n",
      "        Escape special characters in a string.\n",
      "    \n",
      "    findall(pattern, string, flags=0)\n",
      "        Return a list of all non-overlapping matches in the string.\n",
      "        \n",
      "        If one or more capturing groups are present in the pattern, return\n",
      "        a list of groups; this will be a list of tuples if the pattern\n",
      "        has more than one group.\n",
      "        \n",
      "        Empty matches are included in the result.\n",
      "    \n",
      "    finditer(pattern, string, flags=0)\n",
      "        Return an iterator over all non-overlapping matches in the\n",
      "        string.  For each match, the iterator returns a Match object.\n",
      "        \n",
      "        Empty matches are included in the result.\n",
      "    \n",
      "    fullmatch(pattern, string, flags=0)\n",
      "        Try to apply the pattern to all of the string, returning\n",
      "        a Match object, or None if no match was found.\n",
      "    \n",
      "    match(pattern, string, flags=0)\n",
      "        Try to apply the pattern at the start of the string, returning\n",
      "        a Match object, or None if no match was found.\n",
      "    \n",
      "    purge()\n",
      "        Clear the regular expression caches\n",
      "    \n",
      "    search(pattern, string, flags=0)\n",
      "        Scan through string looking for a match to the pattern, returning\n",
      "        a Match object, or None if no match was found.\n",
      "    \n",
      "    split(pattern, string, maxsplit=0, flags=0)\n",
      "        Split the source string by the occurrences of the pattern,\n",
      "        returning a list containing the resulting substrings.  If\n",
      "        capturing parentheses are used in pattern, then the text of all\n",
      "        groups in the pattern are also returned as part of the resulting\n",
      "        list.  If maxsplit is nonzero, at most maxsplit splits occur,\n",
      "        and the remainder of the string is returned as the final element\n",
      "        of the list.\n",
      "    \n",
      "    sub(pattern, repl, string, count=0, flags=0)\n",
      "        Return the string obtained by replacing the leftmost\n",
      "        non-overlapping occurrences of the pattern in string by the\n",
      "        replacement repl.  repl can be either a string or a callable;\n",
      "        if a string, backslash escapes in it are processed.  If it is\n",
      "        a callable, it's passed the Match object and must return\n",
      "        a replacement string to be used.\n",
      "    \n",
      "    subn(pattern, repl, string, count=0, flags=0)\n",
      "        Return a 2-tuple containing (new_string, number).\n",
      "        new_string is the string obtained by replacing the leftmost\n",
      "        non-overlapping occurrences of the pattern in the source\n",
      "        string by the replacement repl.  number is the number of\n",
      "        substitutions that were made. repl can be either a string or a\n",
      "        callable; if a string, backslash escapes in it are processed.\n",
      "        If it is a callable, it's passed the Match object and must\n",
      "        return a replacement string to be used.\n",
      "    \n",
      "    template(pattern, flags=0)\n",
      "        Compile a template pattern, returning a Pattern object\n",
      "\n",
      "DATA\n",
      "    A = re.ASCII\n",
      "    ASCII = re.ASCII\n",
      "    DOTALL = re.DOTALL\n",
      "    I = re.IGNORECASE\n",
      "    IGNORECASE = re.IGNORECASE\n",
      "    L = re.LOCALE\n",
      "    LOCALE = re.LOCALE\n",
      "    M = re.MULTILINE\n",
      "    MULTILINE = re.MULTILINE\n",
      "    S = re.DOTALL\n",
      "    U = re.UNICODE\n",
      "    UNICODE = re.UNICODE\n",
      "    VERBOSE = re.VERBOSE\n",
      "    X = re.VERBOSE\n",
      "    __all__ = ['match', 'fullmatch', 'search', 'sub', 'subn', 'split', 'fi...\n",
      "\n",
      "VERSION\n",
      "    2.2.1\n",
      "\n",
      "FILE\n",
      "    c:\\users\\uddandah\\anaconda3\\lib\\re.py\n",
      "\n",
      "\n"
     ]
    }
   ],
   "source": [
    "# Regular Expressions\n",
    "# sequence of characters used for pattern matching\n",
    "help(re)"
   ]
  },
  {
   "cell_type": "code",
   "execution_count": 138,
   "metadata": {},
   "outputs": [],
   "source": [
    "# functions\n",
    "# 1.findall()\n",
    "# search()\n",
    "# split()\n",
    "# sub()\n",
    "# "
   ]
  },
  {
   "cell_type": "code",
   "execution_count": 143,
   "metadata": {},
   "outputs": [
    {
     "name": "stdout",
     "output_type": "stream",
     "text": [
      "['aka']\n"
     ]
    }
   ],
   "source": [
    "import re\n",
    "\n",
    "\n",
    "x=\"hari Prakash\"\n",
    "y=re.findall(\"aka\",x)\n",
    "print(y)"
   ]
  },
  {
   "cell_type": "code",
   "execution_count": 145,
   "metadata": {},
   "outputs": [
    {
     "name": "stdout",
     "output_type": "stream",
     "text": [
      "<re.Match object; span=(3, 4), match='i'>\n"
     ]
    }
   ],
   "source": [
    "import re\n",
    "\n",
    "\n",
    "x=\"hari Prakash\"\n",
    "y=re.search(\"i\",x)\n",
    "print(y)"
   ]
  },
  {
   "cell_type": "code",
   "execution_count": 147,
   "metadata": {},
   "outputs": [
    {
     "name": "stdout",
     "output_type": "stream",
     "text": [
      "3\n"
     ]
    }
   ],
   "source": [
    "import re\n",
    "\n",
    "\n",
    "x=\"hari Prakash\"\n",
    "y=re.search(\"i\",x)\n",
    "print(y.start())"
   ]
  },
  {
   "cell_type": "code",
   "execution_count": 150,
   "metadata": {},
   "outputs": [
    {
     "name": "stdout",
     "output_type": "stream",
     "text": [
      "lari Prakasl\n"
     ]
    }
   ],
   "source": [
    "import re\n",
    "\n",
    "\n",
    "x=\"hari Prakash\"\n",
    "y=re.sub(\"h\",'l',x)\n",
    "print(y)"
   ]
  },
  {
   "cell_type": "code",
   "execution_count": 156,
   "metadata": {},
   "outputs": [
    {
     "name": "stdout",
     "output_type": "stream",
     "text": [
      "ari Prakas@@@\n"
     ]
    }
   ],
   "source": [
    "x=\"hari Prakash@@@\"\n",
    "y=re.sub(\"@\",'',x)\n",
    "y=re.sub(\"h\",\"\",x)\n",
    "print(y)"
   ]
  },
  {
   "cell_type": "markdown",
   "metadata": {},
   "source": [
    "# Types of Analytics:\n",
    "\n",
    "* Descriptive Analytics: what has happend \n",
    "* Predictive Analytics : what will happen\n",
    "* Prescriptivr Analytics : how can we make it happen"
   ]
  },
  {
   "cell_type": "markdown",
   "metadata": {},
   "source": [
    "# Data analytics process steps:\n",
    "* data collection\n",
    "* data preparation\n",
    "* data exploration\n",
    "* data modelling\n",
    "* result interpretation"
   ]
  },
  {
   "cell_type": "markdown",
   "metadata": {},
   "source": [
    "# create  acronyms using python"
   ]
  },
  {
   "cell_type": "code",
   "execution_count": 164,
   "metadata": {},
   "outputs": [
    {
     "name": "stdout",
     "output_type": "stream",
     "text": [
      "enter a  phrase : hari prakash\n",
      " HP\n"
     ]
    }
   ],
   "source": [
    "user_input=str(input(\"enter a  phrase : \"))\n",
    "text=user_input.split()\n",
    "a=\" \"\n",
    "for i in text:\n",
    "    a=a+str(i[0]).upper()\n",
    "print(a)"
   ]
  },
  {
   "cell_type": "code",
   "execution_count": 165,
   "metadata": {},
   "outputs": [
    {
     "name": "stdout",
     "output_type": "stream",
     "text": [
      "Enter Your Email: hariprakashroyal446@gmail.com\n",
      "Your user name is 'hariprakashroyal446' and your domain is 'gmail.com'\n"
     ]
    }
   ],
   "source": [
    "email = input(\"Enter Your Email: \").strip()\n",
    "username = email[:email.index(\"@\")]\n",
    "domain_name = email[email.index(\"@\")+1:]\n",
    "format_ = (f\"Your user name is '{username}' and your domain is '{domain_name}'\")\n",
    "print(format_)"
   ]
  },
  {
   "cell_type": "code",
   "execution_count": 166,
   "metadata": {},
   "outputs": [],
   "source": [
    "import turtle as tu\n",
    "\n",
    "roo = tu.Turtle()  # Turtle object\n",
    "wn = tu.Screen()  # Screen Object\n",
    "wn.bgcolor(\"black\")  # Screen Bg color\n",
    "wn.title(\"Fractal Tree Pattern\")\n",
    "roo.left(90)  # moving the turtle 90 degrees towards left\n",
    "roo.speed(20)  # setting the speed of the turtle\n",
    "\n",
    "\n",
    "def draw(l):  # recursive function taking length 'l' as argument\n",
    "    if (l < 10):\n",
    "        return\n",
    "    else:\n",
    "\n",
    "        roo.pensize(2)  # Setting Pensize\n",
    "        roo.pencolor(\"yellow\")  # Setting Pencolor as yellow\n",
    "        roo.forward(l)  # moving turtle forward by 'l'\n",
    "        roo.left(30)  # moving the turtle 30 degrees towards left\n",
    "        draw(3 * l / 4)  # drawing a fractal on the left of the turtle object 'roo' with 3/4th of its length\n",
    "        roo.right(60)  # moving the turtle 60 degrees towards right\n",
    "        draw(3 * l / 4)  # drawing a fractal on the right of the turtle object 'roo' with 3/4th of its length\n",
    "        roo.left(30)  # moving the turtle 30 degrees towards left\n",
    "        roo.pensize(2)\n",
    "        roo.backward(l)  # returning the turtle back to its original psition\n",
    "\n",
    "\n",
    "draw(20)  # drawing 20 times\n",
    "\n",
    "roo.right(90)\n",
    "roo.speed(2000)\n",
    "\n",
    "\n",
    "# recursion\n",
    "def draw(l):\n",
    "    if (l < 10):\n",
    "        return\n",
    "    else:\n",
    "        roo.pensize(2)\n",
    "        roo.pencolor(\"magenta\")  # magenta\n",
    "        roo.forward(l)\n",
    "        roo.left(30)\n",
    "        draw(3 * l / 4)\n",
    "        roo.right(60)\n",
    "        draw(3 * l / 4)\n",
    "        roo.left(30)\n",
    "        roo.pensize(2)\n",
    "        roo.backward(l)\n",
    "\n",
    "\n",
    "draw(20)\n",
    "\n",
    "roo.left(270)\n",
    "roo.speed(2000)\n",
    "\n",
    "\n",
    "# recursion\n",
    "def draw(l):\n",
    "    if (l < 10):\n",
    "        return\n",
    "    else:\n",
    "        roo.pensize(2)\n",
    "        roo.pencolor(\"red\")  # red\n",
    "        roo.forward(l)\n",
    "        roo.left(30)\n",
    "        draw(3 * l / 4)\n",
    "        roo.right(60)\n",
    "        draw(3 * l / 4)\n",
    "        roo.left(30)\n",
    "        roo.pensize(2)\n",
    "        roo.backward(l)\n",
    "\n",
    "\n",
    "draw(20)\n",
    "\n",
    "roo.right(90)\n",
    "roo.speed(2000)\n",
    "\n",
    "\n",
    "# recursion\n",
    "def draw(l):\n",
    "    if (l < 10):\n",
    "        return\n",
    "    else:\n",
    "        roo.pensize(2)\n",
    "        roo.pencolor('#FFF8DC')  # white\n",
    "        roo.forward(l)\n",
    "        roo.left(30)\n",
    "        draw(3 * l / 4)\n",
    "        roo.right(60)\n",
    "        draw(3 * l / 4)\n",
    "        roo.left(30)\n",
    "        roo.pensize(2)\n",
    "        roo.backward(l)\n",
    "\n",
    "\n",
    "draw(20)\n",
    "\n",
    "\n",
    "########################################################\n",
    "\n",
    "def draw(l):\n",
    "    if (l < 10):\n",
    "        return\n",
    "    else:\n",
    "\n",
    "        roo.pensize(3)\n",
    "        roo.pencolor(\"lightgreen\")  # lightgreen\n",
    "        roo.forward(l)\n",
    "        roo.left(30)\n",
    "        draw(4 * l / 5)\n",
    "        roo.right(60)\n",
    "        draw(4 * l / 5)\n",
    "        roo.left(30)\n",
    "        roo.pensize(3)\n",
    "        roo.backward(l)\n",
    "\n",
    "\n",
    "draw(40)\n",
    "\n",
    "roo.right(90)\n",
    "roo.speed(2000)\n",
    "\n",
    "\n",
    "# recursion\n",
    "def draw(l):\n",
    "    if (l < 10):\n",
    "        return\n",
    "    else:\n",
    "        roo.pensize(3)\n",
    "        roo.pencolor(\"red\")  # red\n",
    "        roo.forward(l)\n",
    "        roo.left(30)\n",
    "        draw(4 * l / 5)\n",
    "        roo.right(60)\n",
    "        draw(4 * l / 5)\n",
    "        roo.left(30)\n",
    "        roo.pensize(3)\n",
    "        roo.backward(l)\n",
    "\n",
    "\n",
    "draw(40)\n",
    "\n",
    "roo.left(270)\n",
    "roo.speed(2000)\n",
    "\n",
    "\n",
    "# recursion\n",
    "def draw(l):\n",
    "    if (l < 10):\n",
    "        return\n",
    "    else:\n",
    "        roo.pensize(3)\n",
    "        roo.pencolor(\"yellow\")  # yellow\n",
    "        roo.forward(l)\n",
    "        roo.left(30)\n",
    "        draw(4 * l / 5)\n",
    "        roo.right(60)\n",
    "        draw(4 * l / 5)\n",
    "        roo.left(30)\n",
    "        roo.pensize(3)\n",
    "        roo.backward(l)\n",
    "\n",
    "\n",
    "draw(40)\n",
    "\n",
    "roo.right(90)\n",
    "roo.speed(2000)\n",
    "\n",
    "\n",
    "# recursion\n",
    "def draw(l):\n",
    "    if (l < 10):\n",
    "        return\n",
    "    else:\n",
    "        roo.pensize(3)\n",
    "        roo.pencolor('#FFF8DC')  # white\n",
    "        roo.forward(l)\n",
    "        roo.left(30)\n",
    "        draw(4 * l / 5)\n",
    "        roo.right(60)\n",
    "        draw(4 * l / 5)\n",
    "        roo.left(30)\n",
    "        roo.pensize(3)\n",
    "        roo.backward(l)\n",
    "\n",
    "\n",
    "draw(40)\n",
    "\n",
    "\n",
    "########################################################\n",
    "def draw(l):\n",
    "    if (l < 10):\n",
    "        return\n",
    "    else:\n",
    "\n",
    "        roo.pensize(2)\n",
    "        roo.pencolor(\"cyan\")  # cyan\n",
    "        roo.forward(l)\n",
    "        roo.left(30)\n",
    "        draw(6 * l / 7)\n",
    "        roo.right(60)\n",
    "        draw(6 * l / 7)\n",
    "        roo.left(30)\n",
    "        roo.pensize(2)\n",
    "        roo.backward(l)\n",
    "\n",
    "\n",
    "draw(60)\n",
    "\n",
    "roo.right(90)\n",
    "roo.speed(2000)\n",
    "\n",
    "\n",
    "# recursion\n",
    "def draw(l):\n",
    "    if (l < 10):\n",
    "        return\n",
    "    else:\n",
    "        roo.pensize(2)\n",
    "        roo.pencolor(\"yellow\")  # yellow\n",
    "        roo.forward(l)\n",
    "        roo.left(30)\n",
    "        draw(6 * l / 7)\n",
    "        roo.right(60)\n",
    "        draw(6 * l / 7)\n",
    "        roo.left(30)\n",
    "        roo.pensize(2)\n",
    "        roo.backward(l)\n",
    "\n",
    "\n",
    "draw(60)\n",
    "\n",
    "roo.left(270)\n",
    "roo.speed(2000)\n",
    "\n",
    "\n",
    "# recursion\n",
    "def draw(l):\n",
    "    if (l < 10):\n",
    "        return\n",
    "    else:\n",
    "        roo.pensize(2)\n",
    "        roo.pencolor(\"magenta\")  # magenta\n",
    "        roo.forward(l)\n",
    "        roo.left(30)\n",
    "        draw(6 * l / 7)\n",
    "        roo.right(60)\n",
    "        draw(6 * l / 7)\n",
    "        roo.left(30)\n",
    "        roo.pensize(2)\n",
    "        roo.backward(l)\n",
    "\n",
    "\n",
    "draw(60)\n",
    "\n",
    "roo.right(90)\n",
    "roo.speed(2000)\n",
    "\n",
    "\n",
    "# recursion\n",
    "def draw(l):\n",
    "    if (l < 10):\n",
    "        return\n",
    "    else:\n",
    "        roo.pensize(2)\n",
    "        roo.pencolor('#FFF8DC')  # white\n",
    "        roo.forward(l)\n",
    "        roo.left(30)\n",
    "        draw(6 * l / 7)\n",
    "        roo.right(60)\n",
    "        draw(6 * l / 7)\n",
    "        roo.left(30)\n",
    "        roo.pensize(2)\n",
    "        roo.backward(l)\n",
    "\n",
    "\n",
    "draw(60)\n",
    "wn.exitonclick()"
   ]
  },
  {
   "cell_type": "code",
   "execution_count": 171,
   "metadata": {},
   "outputs": [
    {
     "name": "stdout",
     "output_type": "stream",
     "text": [
      "X wins\n",
      "O wins\n",
      "X wins\n"
     ]
    }
   ],
   "source": [
    "from tkinter import *\n",
    "import numpy as np\n",
    "\n",
    "size_of_board = 600\n",
    "symbol_size = (size_of_board / 3 - size_of_board / 8) / 2\n",
    "symbol_thickness = 50\n",
    "symbol_X_color = '#EE4035'\n",
    "symbol_O_color = '#0492CF'\n",
    "Green_color = '#7BC043'\n",
    "\n",
    "\n",
    "class Tic_Tac_Toe():\n",
    "    # ------------------------------------------------------------------\n",
    "    # Initialization Functions:\n",
    "    # ------------------------------------------------------------------\n",
    "    def __init__(self):\n",
    "        self.window = Tk()\n",
    "        self.window.title('Tic-Tac-Toe')\n",
    "        self.canvas = Canvas(self.window, width=size_of_board, height=size_of_board)\n",
    "        self.canvas.pack()\n",
    "        # Input from user in form of clicks\n",
    "        self.window.bind('<Button-1>', self.click)\n",
    "\n",
    "        self.initialize_board()\n",
    "        self.player_X_turns = True\n",
    "        self.board_status = np.zeros(shape=(3, 3))\n",
    "\n",
    "        self.player_X_starts = True\n",
    "        self.reset_board = False\n",
    "        self.gameover = False\n",
    "        self.tie = False\n",
    "        self.X_wins = False\n",
    "        self.O_wins = False\n",
    "\n",
    "        self.X_score = 0\n",
    "        self.O_score = 0\n",
    "        self.tie_score = 0\n",
    "\n",
    "    def mainloop(self):\n",
    "        self.window.mainloop()\n",
    "\n",
    "    def initialize_board(self):\n",
    "        for i in range(2):\n",
    "            self.canvas.create_line((i + 1) * size_of_board / 3, 0, (i + 1) * size_of_board / 3, size_of_board)\n",
    "\n",
    "        for i in range(2):\n",
    "            self.canvas.create_line(0, (i + 1) * size_of_board / 3, size_of_board, (i + 1) * size_of_board / 3)\n",
    "\n",
    "    def play_again(self):\n",
    "        self.initialize_board()\n",
    "        self.player_X_starts = not self.player_X_starts\n",
    "        self.player_X_turns = self.player_X_starts\n",
    "        self.board_status = np.zeros(shape=(3, 3))\n",
    "\n",
    "    # ------------------------------------------------------------------\n",
    "    # Drawing Functions:\n",
    "    # The modules required to draw required game based object on canvas\n",
    "    # ------------------------------------------------------------------\n",
    "\n",
    "    def draw_O(self, logical_position):\n",
    "        logical_position = np.array(logical_position)\n",
    "        # logical_position = grid value on the board\n",
    "        # grid_position = actual pixel values of the center of the grid\n",
    "        grid_position = self.convert_logical_to_grid_position(logical_position)\n",
    "        self.canvas.create_oval(grid_position[0] - symbol_size, grid_position[1] - symbol_size,\n",
    "                                grid_position[0] + symbol_size, grid_position[1] + symbol_size, width=symbol_thickness,\n",
    "                                outline=symbol_O_color)\n",
    "\n",
    "    def draw_X(self, logical_position):\n",
    "        grid_position = self.convert_logical_to_grid_position(logical_position)\n",
    "        self.canvas.create_line(grid_position[0] - symbol_size, grid_position[1] - symbol_size,\n",
    "                                grid_position[0] + symbol_size, grid_position[1] + symbol_size, width=symbol_thickness,\n",
    "                                fill=symbol_X_color)\n",
    "        self.canvas.create_line(grid_position[0] - symbol_size, grid_position[1] + symbol_size,\n",
    "                                grid_position[0] + symbol_size, grid_position[1] - symbol_size, width=symbol_thickness,\n",
    "                                fill=symbol_X_color)\n",
    "\n",
    "    def display_gameover(self):\n",
    "\n",
    "        if self.X_wins:\n",
    "            self.X_score += 1\n",
    "            text = 'Winner: Player 1 (X)'\n",
    "            color = symbol_X_color\n",
    "        elif self.O_wins:\n",
    "            self.O_score += 1\n",
    "            text = 'Winner: Player 2 (O)'\n",
    "            color = symbol_O_color\n",
    "        else:\n",
    "            self.tie_score += 1\n",
    "            text = 'Its a tie'\n",
    "            color = 'gray'\n",
    "\n",
    "        self.canvas.delete(\"all\")\n",
    "        self.canvas.create_text(size_of_board / 2, size_of_board / 3, font=\"cmr 60 bold\", fill=color, text=text)\n",
    "\n",
    "        score_text = 'Scores \\n'\n",
    "        self.canvas.create_text(size_of_board / 2, 5 * size_of_board / 8, font=\"cmr 40 bold\", fill=Green_color,\n",
    "                                text=score_text)\n",
    "\n",
    "        score_text = 'Player 1 (X) : ' + str(self.X_score) + '\\n'\n",
    "        score_text += 'Player 2 (O): ' + str(self.O_score) + '\\n'\n",
    "        score_text += 'Tie                    : ' + str(self.tie_score)\n",
    "        self.canvas.create_text(size_of_board / 2, 3 * size_of_board / 4, font=\"cmr 30 bold\", fill=Green_color,\n",
    "                                text=score_text)\n",
    "        self.reset_board = True\n",
    "\n",
    "        score_text = 'Click to play again \\n'\n",
    "        self.canvas.create_text(size_of_board / 2, 15 * size_of_board / 16, font=\"cmr 20 bold\", fill=\"gray\",\n",
    "                                text=score_text)\n",
    "\n",
    "    # ------------------------------------------------------------------\n",
    "    # Logical Functions:\n",
    "    # The modules required to carry out game logic\n",
    "    # ------------------------------------------------------------------\n",
    "\n",
    "    def convert_logical_to_grid_position(self, logical_position):\n",
    "        logical_position = np.array(logical_position, dtype=int)\n",
    "        return (size_of_board / 3) * logical_position + size_of_board / 6\n",
    "\n",
    "    def convert_grid_to_logical_position(self, grid_position):\n",
    "        grid_position = np.array(grid_position)\n",
    "        return np.array(grid_position // (size_of_board / 3), dtype=int)\n",
    "\n",
    "    def is_grid_occupied(self, logical_position):\n",
    "        if self.board_status[logical_position[0]][logical_position[1]] == 0:\n",
    "            return False\n",
    "        else:\n",
    "            return True\n",
    "\n",
    "    def is_winner(self, player):\n",
    "\n",
    "        player = -1 if player == 'X' else 1\n",
    "\n",
    "        # Three in a row\n",
    "        for i in range(3):\n",
    "            if self.board_status[i][0] == self.board_status[i][1] == self.board_status[i][2] == player:\n",
    "                return True\n",
    "            if self.board_status[0][i] == self.board_status[1][i] == self.board_status[2][i] == player:\n",
    "                return True\n",
    "\n",
    "        # Diagonals\n",
    "        if self.board_status[0][0] == self.board_status[1][1] == self.board_status[2][2] == player:\n",
    "            return True\n",
    "\n",
    "        if self.board_status[0][2] == self.board_status[1][1] == self.board_status[2][0] == player:\n",
    "            return True\n",
    "\n",
    "        return False\n",
    "\n",
    "    def is_tie(self):\n",
    "\n",
    "        r, c = np.where(self.board_status == 0)\n",
    "        tie = False\n",
    "        if len(r) == 0:\n",
    "            tie = True\n",
    "\n",
    "        return tie\n",
    "\n",
    "    def is_gameover(self):\n",
    "        # Either someone wins or all grid occupied\n",
    "        self.X_wins = self.is_winner('X')\n",
    "        if not self.X_wins:\n",
    "            self.O_wins = self.is_winner('O')\n",
    "\n",
    "        if not self.O_wins:\n",
    "            self.tie = self.is_tie()\n",
    "\n",
    "        gameover = self.X_wins or self.O_wins or self.tie\n",
    "\n",
    "        if self.X_wins:\n",
    "            print('X wins')\n",
    "        if self.O_wins:\n",
    "            print('O wins')\n",
    "        if self.tie:\n",
    "            print('Its a tie')\n",
    "\n",
    "        return gameover\n",
    "\n",
    "\n",
    "\n",
    "\n",
    "\n",
    "    def click(self, event):\n",
    "        grid_position = [event.x, event.y]\n",
    "        logical_position = self.convert_grid_to_logical_position(grid_position)\n",
    "\n",
    "        if not self.reset_board:\n",
    "            if self.player_X_turns:\n",
    "                if not self.is_grid_occupied(logical_position):\n",
    "                    self.draw_X(logical_position)\n",
    "                    self.board_status[logical_position[0]][logical_position[1]] = -1\n",
    "                    self.player_X_turns = not self.player_X_turns\n",
    "            else:\n",
    "                if not self.is_grid_occupied(logical_position):\n",
    "                    self.draw_O(logical_position)\n",
    "                    self.board_status[logical_position[0]][logical_position[1]] = 1\n",
    "                    self.player_X_turns = not self.player_X_turns\n",
    "\n",
    "            # Check if game is concluded\n",
    "            if self.is_gameover():\n",
    "                self.display_gameover()\n",
    "                # print('Done')\n",
    "        else:  # Play Again\n",
    "            self.canvas.delete(\"all\")\n",
    "            self.play_again()\n",
    "            self.reset_board = False\n",
    "\n",
    "\n",
    "game_instance = Tic_Tac_Toe()\n",
    "game_instance.mainloop()"
   ]
  },
  {
   "cell_type": "code",
   "execution_count": 172,
   "metadata": {},
   "outputs": [
    {
     "ename": "NameError",
     "evalue": "name 'cv' is not defined",
     "output_type": "error",
     "traceback": [
      "\u001b[1;31m---------------------------------------------------------------------------\u001b[0m",
      "\u001b[1;31mNameError\u001b[0m                                 Traceback (most recent call last)",
      "\u001b[1;32m<ipython-input-172-4a12d6ff32bd>\u001b[0m in \u001b[0;36m<module>\u001b[1;34m\u001b[0m\n\u001b[0;32m     66\u001b[0m \u001b[0mgenderProto\u001b[0m \u001b[1;33m=\u001b[0m \u001b[1;34m\"gender_deploy.prototxt\"\u001b[0m\u001b[1;33m\u001b[0m\u001b[1;33m\u001b[0m\u001b[0m\n\u001b[0;32m     67\u001b[0m \u001b[0mgenderModel\u001b[0m \u001b[1;33m=\u001b[0m \u001b[1;34m\"gender_net.caffemodel\"\u001b[0m\u001b[1;33m\u001b[0m\u001b[1;33m\u001b[0m\u001b[0m\n\u001b[1;32m---> 68\u001b[1;33m \u001b[0mageNet\u001b[0m \u001b[1;33m=\u001b[0m \u001b[0mcv\u001b[0m\u001b[1;33m.\u001b[0m\u001b[0mdnn\u001b[0m\u001b[1;33m.\u001b[0m\u001b[0mreadNet\u001b[0m\u001b[1;33m(\u001b[0m\u001b[0mageModel\u001b[0m\u001b[1;33m,\u001b[0m \u001b[0mageProto\u001b[0m\u001b[1;33m)\u001b[0m\u001b[1;33m\u001b[0m\u001b[1;33m\u001b[0m\u001b[0m\n\u001b[0m\u001b[0;32m     69\u001b[0m \u001b[1;33m\u001b[0m\u001b[0m\n\u001b[0;32m     70\u001b[0m \u001b[0mgenderList\u001b[0m \u001b[1;33m=\u001b[0m \u001b[1;33m[\u001b[0m\u001b[1;34m'Male'\u001b[0m\u001b[1;33m,\u001b[0m \u001b[1;34m'Female'\u001b[0m\u001b[1;33m]\u001b[0m\u001b[1;33m\u001b[0m\u001b[1;33m\u001b[0m\u001b[0m\n",
      "\u001b[1;31mNameError\u001b[0m: name 'cv' is not defined"
     ]
    }
   ],
   "source": [
    "'''Skip to content\n",
    "THECLEVERPROGRAMMER\n",
    "ALL ARTICLES\n",
    "ABOUT\n",
    "Age and Gender Detection with Python\n",
    "Age and Gender Detection with Machine Learning using the Python programming language.\n",
    "Default image AMAN KHARWALOCTOBER 29, 2020MACHINE LEARNING\n",
    "In this article, I will take you through the task of Age and Gender Detection with Machine Learning by using the Python programming language. Age and Gender Detection is the task of Computer vision so I will be using the OpenCV library in Python.\n",
    "\n",
    "\n",
    " \n",
    "Before getting started with the task of Age and Gender Detection with Python, I will first take you through what the concept means and how to deal with the problem of age and gender detection. Understanding the concept is important so that in future you can easily perform the task of age and gender detection with not python only but with any programming language.\n",
    "\n",
    "Also, Read – Machine Learning Full Course for free.\n",
    "\n",
    "Introduction to Age and Gender Detection\n",
    "The task of detecting age and gender, however, is an inherently difficult problem, more so than many other computer vision tasks. The main reason for this difficulty gap lies in the data required to train these types of systems.\n",
    "\n",
    "While general object detection tasks can often have access to hundreds of thousands or even millions of images for training, datasets with age and/or gender labels are considerably smaller, usually in the thousands or, at best, tens of thousands.\n",
    "\n",
    "\n",
    " \n",
    "The reason is that to have tags for such images, we need to access the personal information of the subjects in the images. Namely, we would need their date of birth and gender, and in particular date of birth is infrequently published information.\n",
    "\n",
    "Namely, we would need their date of birth and gender, and in particular date of birth is infrequently published information. Therefore, we have to settle for the nature of this problem that we are addressing and adapt network architectures and algorithmic approaches to deal with these limitations.\n",
    "\n",
    "Age and Gender Detection with Python\n",
    "The areas of classification by age and sex have been studied for decades. Various approaches have been taken over the years to tackle this problem, with varying levels of success. Now let’s start with the task of detecting age and gender using the Python programming language.\n",
    "\n",
    "I will present the problem of gender detection as a classification problem and the age detection problem as a regression problem. However, estimating age accurately using regression is difficult. Even humans cannot accurately predict an age by looking at a person. However, we do know if they are in their 30s or 40s. This is also what I’m going to follow using Python.\n",
    "\n",
    "\n",
    " \n",
    "Getting Started:\n",
    "Now let’s get started with the task of Age and Gender detection using the Python programming language. I will first start with writing the code for detecting faces because without face detection we will not be able to move further with the task of age and gender prediction.\n",
    "\n",
    "You can download the necessary OpenCV pre-trained models that you will need in the task of age and gender detection from here. Now after importing the OpenCV module in your python file you can get started with the code below.\n",
    "\n",
    "Python code for Face Detection:'''\n",
    "\n",
    "def getFaceBox(net, frame, conf_threshold=0.7):\n",
    "    frameOpencvDnn = frame.copy()\n",
    "    frameHeight = frameOpencvDnn.shape[0]\n",
    "    frameWidth = frameOpencvDnn.shape[1]\n",
    "    blob = cv.dnn.blobFromImage(frameOpencvDnn, 1.0, (300, 300), [104, 117, 123], True, False)\n",
    "\n",
    "    net.setInput(blob)\n",
    "    detections = net.forward()\n",
    "    bboxes = []\n",
    "    for i in range(detections.shape[2]):\n",
    "        confidence = detections[0, 0, i, 2]\n",
    "        if confidence > conf_threshold:\n",
    "            x1 = int(detections[0, 0, i, 3] * frameWidth)\n",
    "            y1 = int(detections[0, 0, i, 4] * frameHeight)\n",
    "            x2 = int(detections[0, 0, i, 5] * frameWidth)\n",
    "            y2 = int(detections[0, 0, i, 6] * frameHeight)\n",
    "            bboxes.append([x1, y1, x2, y2])\n",
    "            cv.rectangle(frameOpencvDnn, (x1, y1), (x2, y2), (0, 255, 0), int(round(frameHeight/150)), 8)\n",
    "    return frameOpencvDnn, bboxes\n",
    "# Now the next step is to predict the gender of humans in the image. Here I will load the gender network into memory and transmit the detected face across the network for the gender detection task.\n",
    "\n",
    "\n",
    " \n",
    "# Python code for Gender Detection:\n",
    "\n",
    "genderProto = \"gender_deploy.prototxt\"\n",
    "genderModel = \"gender_net.caffemodel\"\n",
    "ageNet = cv.dnn.readNet(ageModel, ageProto)\n",
    "\n",
    "genderList = ['Male', 'Female']\n",
    "\n",
    "blob = cv.dnn.blobFromImage(face, 1, (227, 227), MODEL_MEAN_VALUES, swapRB=False)\n",
    "genderNet.setInput(blob)\n",
    "genderPreds = genderNet.forward()\n",
    "gender = genderList[genderPreds[0].argmax()]\n",
    "print(\"Gender Output : {}\".format(genderPreds))\n",
    "print(\"Gender : {}\".format(gender))\n",
    "# Now the next task is to predict the age of the human in the image. Here I will load the ageing network and use the forward pass to get the output. Since the network architecture is similar to that of the Gender Network, we can make the most of all outputs to get the intended age group for the task to detect age.\n",
    "\n",
    "# Python code for age detection:\n",
    "\n",
    "ageProto = \"age_deploy.prototxt\"\n",
    "ageModel = \"age_net.caffemodel\"\n",
    "ageNet = cv.dnn.readNet(ageModel, ageProto)\n",
    "\n",
    "ageList = ['(0 - 2)', '(4 - 6)', '(8 - 12)', '(15 - 20)', '(25 - 32)', '(38 - 43)', '(48 - 53)', '(60 - 100)']\n",
    "\n",
    "ageNet.setInput(blob)\n",
    "agePreds = ageNet.forward()\n",
    "age = ageList[agePreds[0].argmax()]\n",
    "print(\"Gender Output : {}\".format(agePreds))\n",
    "print(\"Gender : {}\".format(age))\n",
    "# The last code we need to write is to display the output:\n",
    "\n",
    "\n",
    " \n",
    "label = \"{}, {}\".format(gender, age)\n",
    "cv.putText(frameFace, label, (bbox[0], bbox[1]-20), cv.FONT_HERSHEY_SIMPLEX, 0.8, (255, 0, 0), 3, cv.LINE_AA)\n",
    "cv.imshow(\"Age Gender Demo\", frameFace)\n",
    "# age and gender detection\n",
    "# So, as you can see from the output, we are able to predict both gender and age with a high level of accuracy. Hope you liked this article on age and gender classification with the Python programming language. Please feel free to ask your valuable questions in the comments section below.\n",
    "\n",
    "''''Default image\n",
    "Aman Kharwal\n",
    "Coder with the ❤️ of a Writer || Data Scientist | Solopreneur | Founder\n",
    "    \n",
    "Loops in C++: For Loops, While Loops, and Do-While Loops\n",
    "PREVIOUS  POST\n",
    "Loops in C++: For Loops, While Loops, and Do-While Loops\n",
    "NEXT  POST\n",
    "How to Contribute to Open Source Projects with Your Coding Skills\n",
    "How to Contribute to Open Source Projects with Your Coding Skills\n",
    "\n",
    " \n",
    "Search\n",
    "\n",
    "Related Posts\n",
    "Sales Prediction with Machine Learning\n",
    "Sales Prediction with Machine Learning\n",
    "May 19, 2021\n",
    "PyTorch or TensorFlow for Deep Learning\n",
    "PyTorch or TensorFlow for Deep Learning\n",
    "May 19, 2021\n",
    "What is Multicollinearity in Machine Learning?\n",
    "What is Multicollinearity in Machine Learning?\n",
    "May 18, 2021\n",
    "Most Important Data Visualizations in Data Science\n",
    "Most Important Data Visualizations in Data Science\n",
    "May 18, 2021\n",
    "Leave a Reply\n",
    "\n",
    "Facebook\n",
    "Instagram\n",
    "Medium\n",
    "LinkedIn\n",
    "THECLEVERPROGRAMMER\n",
    "ALL ARTICLES\n",
    "ABOUT\n",
    "Copyright © Thecleverprogrammer.com 2021 '''"
   ]
  },
  {
   "cell_type": "code",
   "execution_count": 1,
   "metadata": {},
   "outputs": [],
   "source": [
    "import numpy as np\n",
    "import pandas as pd\n",
    "import matplotlib.pyplot as plt\n",
    "import seaborn as sbn\n"
   ]
  },
  {
   "cell_type": "code",
   "execution_count": 13,
   "metadata": {},
   "outputs": [
    {
     "name": "stdout",
     "output_type": "stream",
     "text": [
      "Hi i'm  Hari Prakash\n",
      "my age is :  25\n",
      "I'M eligible to vote\n"
     ]
    }
   ],
   "source": [
    "class person:\n",
    "    def __init__(self):\n",
    "        self.name=\"Hari Prakash\"\n",
    "        self.gender=\"Male\"\n",
    "        self.age=25\n",
    "    def talk(self):\n",
    "        print(\"Hi i'm \",self.name)\n",
    "        print(\"my age is : \",self.age)\n",
    "    def vote(self):\n",
    "        if self.age<18:\n",
    "            print(\" i'm not eligible for voting\")\n",
    "        else:\n",
    "            print(\"I'M eligible to vote\")\n",
    "obj=person()\n",
    "obj.talk()\n",
    "obj.vote()\n",
    "\n"
   ]
  },
  {
   "cell_type": "code",
   "execution_count": 16,
   "metadata": {},
   "outputs": [
    {
     "name": "stdout",
     "output_type": "stream",
     "text": [
      "Hi i'm  hari prakash\n",
      "my age is :  25\n",
      "I'M eligible to vote\n",
      "Hi i'm  deep\n",
      "my age is :  24\n",
      "I'M eligible to vote\n"
     ]
    }
   ],
   "source": [
    "class person:\n",
    "    def __init__(self,n,g,a):\n",
    "        self.name=n\n",
    "        self.gender=g\n",
    "        self.age=a\n",
    "    def talk(self):\n",
    "        print(\"Hi i'm \",self.name)\n",
    "        print(\"my age is : \",self.age)\n",
    "    def vote(self):\n",
    "        if self.age<18:\n",
    "            print(\" i'm not eligible for voting\")\n",
    "        else:\n",
    "            print(\"I'M eligible to vote\")\n",
    "obj1=person('hari prakash',\"m\",25)\n",
    "obj1.talk()\n",
    "obj1.vote()\n",
    "obj2=person('deep',\"fm\",24)\n",
    "obj2.talk()\n",
    "obj2.vote()\n",
    "\n"
   ]
  },
  {
   "cell_type": "code",
   "execution_count": 17,
   "metadata": {},
   "outputs": [
    {
     "name": "stdout",
     "output_type": "stream",
     "text": [
      "C:\\Users\\UDDANDAH\\Desktop\n"
     ]
    }
   ],
   "source": [
    "import os\n",
    "\n",
    "def c_d():\n",
    "    cwd=os.getcwd()\n",
    "    print(cwd)\n",
    "c_d()"
   ]
  },
  {
   "cell_type": "code",
   "execution_count": 20,
   "metadata": {},
   "outputs": [
    {
     "data": {
      "text/plain": [
       "time.struct_time(tm_year=2021, tm_mon=5, tm_mday=25, tm_hour=10, tm_min=33, tm_sec=17, tm_wday=1, tm_yday=145, tm_isdst=0)"
      ]
     },
     "execution_count": 20,
     "metadata": {},
     "output_type": "execute_result"
    }
   ],
   "source": [
    "import time\n",
    "time.localtime()"
   ]
  },
  {
   "cell_type": "code",
   "execution_count": 21,
   "metadata": {},
   "outputs": [
    {
     "data": {
      "text/plain": [
       "True"
      ]
     },
     "execution_count": 21,
     "metadata": {},
     "output_type": "execute_result"
    }
   ],
   "source": [
    "import keyword\n",
    "keyword.kwlist\n",
    "#this will get you the list of all keywords in python.\n",
    "keyword.iskeyword('try')\n",
    "#this will return true, if the mentioned name is a keyword."
   ]
  },
  {
   "cell_type": "markdown",
   "metadata": {},
   "source": [
    "* stats is an area of applied mathematics concern with data collection data analysis data interpretation and data presentation"
   ]
  },
  {
   "cell_type": "code",
   "execution_count": 24,
   "metadata": {},
   "outputs": [],
   "source": [
    "import numpy as np\n",
    "import pandas as pd\n",
    "import matplotlib.pyplot as plt\n",
    "import seaborn as sbn"
   ]
  },
  {
   "cell_type": "code",
   "execution_count": 28,
   "metadata": {},
   "outputs": [],
   "source": [
    "hd=pd.read_excel(r\"C:\\Users\\UDDANDAH\\Desktop/kmsptycode.xlsx\")"
   ]
  },
  {
   "cell_type": "code",
   "execution_count": 29,
   "metadata": {},
   "outputs": [
    {
     "data": {
      "text/html": [
       "<div>\n",
       "<style scoped>\n",
       "    .dataframe tbody tr th:only-of-type {\n",
       "        vertical-align: middle;\n",
       "    }\n",
       "\n",
       "    .dataframe tbody tr th {\n",
       "        vertical-align: top;\n",
       "    }\n",
       "\n",
       "    .dataframe thead th {\n",
       "        text-align: right;\n",
       "    }\n",
       "</style>\n",
       "<table border=\"1\" class=\"dataframe\">\n",
       "  <thead>\n",
       "    <tr style=\"text-align: right;\">\n",
       "      <th></th>\n",
       "      <th>kms_id</th>\n",
       "      <th>Unnamed: 1</th>\n",
       "    </tr>\n",
       "  </thead>\n",
       "  <tbody>\n",
       "    <tr>\n",
       "      <th>0</th>\n",
       "      <td>@HPCS_KMS3042</td>\n",
       "      <td>NaN</td>\n",
       "    </tr>\n",
       "    <tr>\n",
       "      <th>1</th>\n",
       "      <td>@HPCS_KMS4173</td>\n",
       "      <td>NaN</td>\n",
       "    </tr>\n",
       "    <tr>\n",
       "      <th>2</th>\n",
       "      <td>@HPCS_KMS4173</td>\n",
       "      <td>NaN</td>\n",
       "    </tr>\n",
       "    <tr>\n",
       "      <th>3</th>\n",
       "      <td>@HPCS_KMS1384</td>\n",
       "      <td>NaN</td>\n",
       "    </tr>\n",
       "    <tr>\n",
       "      <th>4</th>\n",
       "      <td>@HPCS_KMS0719</td>\n",
       "      <td>NaN</td>\n",
       "    </tr>\n",
       "  </tbody>\n",
       "</table>\n",
       "</div>"
      ],
      "text/plain": [
       "          kms_id Unnamed: 1\n",
       "0  @HPCS_KMS3042        NaN\n",
       "1  @HPCS_KMS4173        NaN\n",
       "2  @HPCS_KMS4173        NaN\n",
       "3  @HPCS_KMS1384        NaN\n",
       "4  @HPCS_KMS0719        NaN"
      ]
     },
     "execution_count": 29,
     "metadata": {},
     "output_type": "execute_result"
    }
   ],
   "source": [
    "hd.head()"
   ]
  },
  {
   "cell_type": "code",
   "execution_count": 30,
   "metadata": {},
   "outputs": [
    {
     "data": {
      "text/plain": [
       "Index(['kms_id', 'Unnamed: 1'], dtype='object')"
      ]
     },
     "execution_count": 30,
     "metadata": {},
     "output_type": "execute_result"
    }
   ],
   "source": [
    "hd.columns"
   ]
  },
  {
   "cell_type": "code",
   "execution_count": 32,
   "metadata": {},
   "outputs": [],
   "source": [
    "del hd[\"Unnamed: 1\"]"
   ]
  },
  {
   "cell_type": "code",
   "execution_count": 33,
   "metadata": {},
   "outputs": [
    {
     "data": {
      "text/html": [
       "<div>\n",
       "<style scoped>\n",
       "    .dataframe tbody tr th:only-of-type {\n",
       "        vertical-align: middle;\n",
       "    }\n",
       "\n",
       "    .dataframe tbody tr th {\n",
       "        vertical-align: top;\n",
       "    }\n",
       "\n",
       "    .dataframe thead th {\n",
       "        text-align: right;\n",
       "    }\n",
       "</style>\n",
       "<table border=\"1\" class=\"dataframe\">\n",
       "  <thead>\n",
       "    <tr style=\"text-align: right;\">\n",
       "      <th></th>\n",
       "      <th>kms_id</th>\n",
       "    </tr>\n",
       "  </thead>\n",
       "  <tbody>\n",
       "    <tr>\n",
       "      <th>0</th>\n",
       "      <td>@HPCS_KMS3042</td>\n",
       "    </tr>\n",
       "    <tr>\n",
       "      <th>1</th>\n",
       "      <td>@HPCS_KMS4173</td>\n",
       "    </tr>\n",
       "    <tr>\n",
       "      <th>2</th>\n",
       "      <td>@HPCS_KMS4173</td>\n",
       "    </tr>\n",
       "    <tr>\n",
       "      <th>3</th>\n",
       "      <td>@HPCS_KMS1384</td>\n",
       "    </tr>\n",
       "    <tr>\n",
       "      <th>4</th>\n",
       "      <td>@HPCS_KMS0719</td>\n",
       "    </tr>\n",
       "  </tbody>\n",
       "</table>\n",
       "</div>"
      ],
      "text/plain": [
       "          kms_id\n",
       "0  @HPCS_KMS3042\n",
       "1  @HPCS_KMS4173\n",
       "2  @HPCS_KMS4173\n",
       "3  @HPCS_KMS1384\n",
       "4  @HPCS_KMS0719"
      ]
     },
     "execution_count": 33,
     "metadata": {},
     "output_type": "execute_result"
    }
   ],
   "source": [
    "hd.head()"
   ]
  },
  {
   "cell_type": "code",
   "execution_count": 60,
   "metadata": {},
   "outputs": [
    {
     "ename": "TypeError",
     "evalue": "string indices must be integers",
     "output_type": "error",
     "traceback": [
      "\u001b[1;31m---------------------------------------------------------------------------\u001b[0m",
      "\u001b[1;31mTypeError\u001b[0m                                 Traceback (most recent call last)",
      "\u001b[1;32m<ipython-input-60-0592d30f1169>\u001b[0m in \u001b[0;36m<module>\u001b[1;34m\u001b[0m\n\u001b[1;32m----> 1\u001b[1;33m \u001b[0mhd1\u001b[0m\u001b[1;33m[\u001b[0m\u001b[1;34m\"kk\"\u001b[0m\u001b[1;33m]\u001b[0m\u001b[1;33m=\u001b[0m\u001b[0mhd\u001b[0m\u001b[1;33m[\u001b[0m\u001b[1;34m\"kms_id\"\u001b[0m\u001b[1;33m]\u001b[0m\u001b[1;33m.\u001b[0m\u001b[0mreplace\u001b[0m\u001b[1;33m(\u001b[0m\u001b[1;34m\"@HPCS_\"\u001b[0m\u001b[1;33m,\u001b[0m\u001b[1;34m\" \"\u001b[0m\u001b[1;33m)\u001b[0m\u001b[1;33m\u001b[0m\u001b[1;33m\u001b[0m\u001b[0m\n\u001b[0m\u001b[0;32m      2\u001b[0m \u001b[0mprint\u001b[0m\u001b[1;33m(\u001b[0m\u001b[0mhd1\u001b[0m\u001b[1;33m[\u001b[0m\u001b[1;34m\"kk\"\u001b[0m\u001b[1;33m]\u001b[0m\u001b[1;33m)\u001b[0m\u001b[1;33m\u001b[0m\u001b[1;33m\u001b[0m\u001b[0m\n",
      "\u001b[1;31mTypeError\u001b[0m: string indices must be integers"
     ]
    }
   ],
   "source": [
    "hd1[\"kk\"]=hd[\"kms_id\"].replace(\"@HPCS_\",\" \")\n",
    "print(hd1[\"kk\"])"
   ]
  },
  {
   "cell_type": "code",
   "execution_count": 37,
   "metadata": {},
   "outputs": [
    {
     "data": {
      "text/plain": [
       "0    @HPCS_KMS3042\n",
       "1    @HPCS_KMS4173\n",
       "2    @HPCS_KMS4173\n",
       "3    @HPCS_KMS1384\n",
       "4    @HPCS_KMS0719\n",
       "Name: kms_id, dtype: object"
      ]
     },
     "execution_count": 37,
     "metadata": {},
     "output_type": "execute_result"
    }
   ],
   "source": [
    "hd1.head()"
   ]
  },
  {
   "cell_type": "code",
   "execution_count": 38,
   "metadata": {},
   "outputs": [
    {
     "name": "stdout",
     "output_type": "stream",
     "text": [
      "0      @HPCS_KMS3042\n",
      "1      @HPCS_KMS4173\n",
      "2      @HPCS_KMS4173\n",
      "3      @HPCS_KMS1384\n",
      "4      @HPCS_KMS0719\n",
      "           ...      \n",
      "995    @HPCS_KMS3824\n",
      "996    @HPCS_KMS3824\n",
      "997              NaN\n",
      "998     HPCS_KMS4567\n",
      "999     HPCS_KMS4567\n",
      "Name: Kms, Length: 1000, dtype: object\n"
     ]
    }
   ],
   "source": [
    "bad_c=['@HPCS_']\n",
    "for i in bad_c:\n",
    "    hd[\"Kms\"]=hd['kms_id'].replace(i,'')\n",
    "    print(hd['Kms'])"
   ]
  },
  {
   "cell_type": "code",
   "execution_count": 39,
   "metadata": {},
   "outputs": [
    {
     "data": {
      "text/html": [
       "<div>\n",
       "<style scoped>\n",
       "    .dataframe tbody tr th:only-of-type {\n",
       "        vertical-align: middle;\n",
       "    }\n",
       "\n",
       "    .dataframe tbody tr th {\n",
       "        vertical-align: top;\n",
       "    }\n",
       "\n",
       "    .dataframe thead th {\n",
       "        text-align: right;\n",
       "    }\n",
       "</style>\n",
       "<table border=\"1\" class=\"dataframe\">\n",
       "  <thead>\n",
       "    <tr style=\"text-align: right;\">\n",
       "      <th></th>\n",
       "      <th>kms_id</th>\n",
       "      <th>Kms</th>\n",
       "    </tr>\n",
       "  </thead>\n",
       "  <tbody>\n",
       "    <tr>\n",
       "      <th>0</th>\n",
       "      <td>@HPCS_KMS3042</td>\n",
       "      <td>@HPCS_KMS3042</td>\n",
       "    </tr>\n",
       "    <tr>\n",
       "      <th>1</th>\n",
       "      <td>@HPCS_KMS4173</td>\n",
       "      <td>@HPCS_KMS4173</td>\n",
       "    </tr>\n",
       "    <tr>\n",
       "      <th>2</th>\n",
       "      <td>@HPCS_KMS4173</td>\n",
       "      <td>@HPCS_KMS4173</td>\n",
       "    </tr>\n",
       "    <tr>\n",
       "      <th>3</th>\n",
       "      <td>@HPCS_KMS1384</td>\n",
       "      <td>@HPCS_KMS1384</td>\n",
       "    </tr>\n",
       "    <tr>\n",
       "      <th>4</th>\n",
       "      <td>@HPCS_KMS0719</td>\n",
       "      <td>@HPCS_KMS0719</td>\n",
       "    </tr>\n",
       "  </tbody>\n",
       "</table>\n",
       "</div>"
      ],
      "text/plain": [
       "          kms_id            Kms\n",
       "0  @HPCS_KMS3042  @HPCS_KMS3042\n",
       "1  @HPCS_KMS4173  @HPCS_KMS4173\n",
       "2  @HPCS_KMS4173  @HPCS_KMS4173\n",
       "3  @HPCS_KMS1384  @HPCS_KMS1384\n",
       "4  @HPCS_KMS0719  @HPCS_KMS0719"
      ]
     },
     "execution_count": 39,
     "metadata": {},
     "output_type": "execute_result"
    }
   ],
   "source": [
    "import re\n",
    "hd.head()"
   ]
  },
  {
   "cell_type": "code",
   "execution_count": 40,
   "metadata": {},
   "outputs": [],
   "source": [
    "del hd[\"Kms\"]"
   ]
  },
  {
   "cell_type": "code",
   "execution_count": 41,
   "metadata": {},
   "outputs": [
    {
     "data": {
      "text/html": [
       "<div>\n",
       "<style scoped>\n",
       "    .dataframe tbody tr th:only-of-type {\n",
       "        vertical-align: middle;\n",
       "    }\n",
       "\n",
       "    .dataframe tbody tr th {\n",
       "        vertical-align: top;\n",
       "    }\n",
       "\n",
       "    .dataframe thead th {\n",
       "        text-align: right;\n",
       "    }\n",
       "</style>\n",
       "<table border=\"1\" class=\"dataframe\">\n",
       "  <thead>\n",
       "    <tr style=\"text-align: right;\">\n",
       "      <th></th>\n",
       "      <th>kms_id</th>\n",
       "    </tr>\n",
       "  </thead>\n",
       "  <tbody>\n",
       "    <tr>\n",
       "      <th>0</th>\n",
       "      <td>@HPCS_KMS3042</td>\n",
       "    </tr>\n",
       "    <tr>\n",
       "      <th>1</th>\n",
       "      <td>@HPCS_KMS4173</td>\n",
       "    </tr>\n",
       "    <tr>\n",
       "      <th>2</th>\n",
       "      <td>@HPCS_KMS4173</td>\n",
       "    </tr>\n",
       "    <tr>\n",
       "      <th>3</th>\n",
       "      <td>@HPCS_KMS1384</td>\n",
       "    </tr>\n",
       "    <tr>\n",
       "      <th>4</th>\n",
       "      <td>@HPCS_KMS0719</td>\n",
       "    </tr>\n",
       "  </tbody>\n",
       "</table>\n",
       "</div>"
      ],
      "text/plain": [
       "          kms_id\n",
       "0  @HPCS_KMS3042\n",
       "1  @HPCS_KMS4173\n",
       "2  @HPCS_KMS4173\n",
       "3  @HPCS_KMS1384\n",
       "4  @HPCS_KMS0719"
      ]
     },
     "execution_count": 41,
     "metadata": {},
     "output_type": "execute_result"
    }
   ],
   "source": [
    "import re\n",
    "hd.head()"
   ]
  },
  {
   "cell_type": "code",
   "execution_count": 65,
   "metadata": {},
   "outputs": [
    {
     "name": "stdout",
     "output_type": "stream",
     "text": [
      "SKMS3042\n"
     ]
    }
   ],
   "source": [
    "sty='@HPCS_KMS3042'\n",
    "hd=re.sub(r\"[^KMS0-9]\",\"\",sty)\n",
    "\n",
    "\n",
    "hd1=sty.replace(\"@HPCS_\",'')\n",
    "\n",
    "\n",
    "print(hd)"
   ]
  },
  {
   "cell_type": "code",
   "execution_count": 72,
   "metadata": {},
   "outputs": [],
   "source": [
    "from datetime import datetime"
   ]
  },
  {
   "cell_type": "code",
   "execution_count": 77,
   "metadata": {},
   "outputs": [
    {
     "name": "stdout",
     "output_type": "stream",
     "text": [
      "395 days, 0:01:45.571882\n"
     ]
    }
   ],
   "source": [
    "x=datetime.now()\n",
    "y=datetime(2020, 4, 26, 12, 4, 28, 351091)\n",
    "print(x-y)"
   ]
  },
  {
   "cell_type": "code",
   "execution_count": 75,
   "metadata": {},
   "outputs": [
    {
     "data": {
      "text/plain": [
       "datetime.datetime(2021, 5, 26, 12, 4, 28, 351091)"
      ]
     },
     "execution_count": 75,
     "metadata": {},
     "output_type": "execute_result"
    }
   ],
   "source": [
    "x"
   ]
  },
  {
   "cell_type": "code",
   "execution_count": 79,
   "metadata": {},
   "outputs": [
    {
     "data": {
      "text/plain": [
       "datetime.date(2021, 5, 26)"
      ]
     },
     "execution_count": 79,
     "metadata": {},
     "output_type": "execute_result"
    }
   ],
   "source": [
    "datetime.now().date()"
   ]
  },
  {
   "cell_type": "code",
   "execution_count": 80,
   "metadata": {},
   "outputs": [
    {
     "ename": "TypeError",
     "evalue": "'str' object does not support item assignment",
     "output_type": "error",
     "traceback": [
      "\u001b[1;31m---------------------------------------------------------------------------\u001b[0m",
      "\u001b[1;31mTypeError\u001b[0m                                 Traceback (most recent call last)",
      "\u001b[1;32m<ipython-input-80-cf632379dc01>\u001b[0m in \u001b[0;36m<module>\u001b[1;34m\u001b[0m\n\u001b[1;32m----> 1\u001b[1;33m \u001b[0mhd\u001b[0m\u001b[1;33m[\u001b[0m\u001b[1;34m'date'\u001b[0m\u001b[1;33m]\u001b[0m\u001b[1;33m=\u001b[0m\u001b[0mdatetime\u001b[0m\u001b[1;33m.\u001b[0m\u001b[0mnow\u001b[0m\u001b[1;33m(\u001b[0m\u001b[1;33m)\u001b[0m\u001b[1;33m.\u001b[0m\u001b[0mdate\u001b[0m\u001b[1;33m(\u001b[0m\u001b[1;33m)\u001b[0m\u001b[1;33m\u001b[0m\u001b[1;33m\u001b[0m\u001b[0m\n\u001b[0m",
      "\u001b[1;31mTypeError\u001b[0m: 'str' object does not support item assignment"
     ]
    }
   ],
   "source": [
    "hd['date']=datetime.now().date()"
   ]
  },
  {
   "cell_type": "code",
   "execution_count": 84,
   "metadata": {},
   "outputs": [
    {
     "name": "stderr",
     "output_type": "stream",
     "text": [
      "E\n",
      "======================================================================\n",
      "ERROR: C:\\Users\\UDDANDAH\\AppData\\Roaming\\jupyter\\runtime\\kernel-80c73ede-2485-47d2-8508-930aa2db8723 (unittest.loader._FailedTest)\n",
      "----------------------------------------------------------------------\n",
      "AttributeError: module '__main__' has no attribute 'C:\\Users\\UDDANDAH\\AppData\\Roaming\\jupyter\\runtime\\kernel-80c73ede-2485-47d2-8508-930aa2db8723'\n",
      "\n",
      "----------------------------------------------------------------------\n",
      "Ran 1 test in 0.002s\n",
      "\n",
      "FAILED (errors=1)\n"
     ]
    },
    {
     "ename": "SystemExit",
     "evalue": "True",
     "output_type": "error",
     "traceback": [
      "An exception has occurred, use %tb to see the full traceback.\n",
      "\u001b[1;31mSystemExit\u001b[0m\u001b[1;31m:\u001b[0m True\n"
     ]
    },
    {
     "name": "stderr",
     "output_type": "stream",
     "text": [
      "C:\\Users\\UDDANDAH\\Anaconda3\\lib\\site-packages\\IPython\\core\\interactiveshell.py:3426: UserWarning: To exit: use 'exit', 'quit', or Ctrl-D.\n",
      "  warn(\"To exit: use 'exit', 'quit', or Ctrl-D.\", stacklevel=1)\n"
     ]
    }
   ],
   "source": [
    "\n",
    "import unittest\n",
    "from datetime import datetime, timedelta\n",
    "\n",
    "\n",
    "def business_days(start, end):\n",
    "    \"\"\"\n",
    "    Calculating business days between two dates excluding weekends\n",
    "    :param start: First date\n",
    "    :param end: Second date\n",
    "    :rtype: integer\n",
    "    \"\"\"\n",
    "\n",
    "    days = (end - start).days\n",
    "    (full_weeks, remaining_days) = divmod(days, 7)\n",
    "    business_days_count = full_weeks * 5\n",
    "    \n",
    "    if not remaining_days:\n",
    "        return business_days_count\n",
    "\n",
    "    full_weeks_dt = start + timedelta(days=full_weeks * 7)\n",
    "    max_weekday = full_weeks_dt.isoweekday() + remaining_days\n",
    "    \n",
    "    if max_weekday > 7:\n",
    "        remaining_days -= 2\n",
    "    elif max_weekday > 6:\n",
    "        remaining_days -= 1\n",
    "\n",
    "    return business_days_count + remaining_days\n",
    "\n",
    "\n",
    "class BusinessDaysTest(unittest.TestCase):\n",
    "    def test_full_weeks(self):\n",
    "        dates_results = (\n",
    "            (datetime(2012, 7, 9), datetime(2012, 7, 16), 5),\n",
    "            (datetime(2012, 7, 3), datetime(2012, 7, 24), 15),\n",
    "        )\n",
    "        for date1, date2, expected in dates_results:\n",
    "            self.assertEqual(business_days(date1, date2), expected)\n",
    "\n",
    "    def test_partial_Weeks(self):\n",
    "        dates_results = (\n",
    "            (datetime(2012, 7, 9), datetime(2012, 7, 14), 5),\n",
    "            (datetime(2012, 7, 3), datetime(2012, 7, 20), 13),\n",
    "            (datetime(2012, 6, 25), datetime(2012, 7, 11), 12),\n",
    "        )\n",
    "        for date1, date2, expected in dates_results:\n",
    "            self.assertEqual(business_days(date1, date2), expected)\n",
    "\n",
    "\n",
    "if __name__ == '__main__':\n",
    "        unittest.main()\n",
    " "
   ]
  },
  {
   "cell_type": "code",
   "execution_count": 87,
   "metadata": {},
   "outputs": [
    {
     "name": "stdout",
     "output_type": "stream",
     "text": [
      "467 days\n"
     ]
    }
   ],
   "source": [
    " # Python3 program two find number of\n",
    "# days between two given dates\n",
    " \n",
    "# A date has day 'd', month 'm' and year 'y'\n",
    " \n",
    " \n",
    "class Date:\n",
    "    def __init__(self, d, m, y):\n",
    "        self.d = d\n",
    "        self.m = m\n",
    "        self.y = y\n",
    " \n",
    " \n",
    "# To store number of days in all months from\n",
    "# January to Dec.\n",
    "monthDays = [31, 28, 31, 30, 31, 30,\n",
    "             31, 31, 30, 31, 30, 31]\n",
    " \n",
    "# This function counts number of leap years\n",
    "# before the given date\n",
    " \n",
    " \n",
    "def countLeapYears(d):\n",
    " \n",
    "    years = d.y\n",
    " \n",
    "    # Check if the current year needs to be considered\n",
    "    # for the count of leap years or not\n",
    "    if (d.m <= 2):\n",
    "        years -= 1\n",
    " \n",
    "    # An year is a leap year if it is a multiple of 4,\n",
    "    # multiple of 400 and not a multiple of 100.\n",
    "    return int(years / 4) - int(years / 100) + int(years / 400)\n",
    " \n",
    " \n",
    "# This function returns number of days between two\n",
    "# given dates\n",
    "def getDifference(dt1, dt2):\n",
    " \n",
    "    # COUNT TOTAL NUMBER OF DAYS BEFORE FIRST DATE 'dt1'\n",
    " \n",
    "    # initialize count using years and day\n",
    "    n1 = dt1.y * 365 + dt1.d\n",
    " \n",
    "    # Add days for months in given date\n",
    "    for i in range(0, dt1.m - 1):\n",
    "        n1 += monthDays[i]\n",
    " \n",
    "    # Since every leap year is of 366 days,\n",
    "    # Add a day for every leap year\n",
    "    n1 += countLeapYears(dt1)\n",
    " \n",
    "    # SIMILARLY, COUNT TOTAL NUMBER OF DAYS BEFORE 'dt2'\n",
    " \n",
    "    n2 = dt2.y * 365 + dt2.d\n",
    "    for i in range(0, dt2.m - 1):\n",
    "        n2 += monthDays[i]\n",
    "    n2 += countLeapYears(dt2)\n",
    " \n",
    "    # return difference between two counts\n",
    "    return (n2 - n1)\n",
    " \n",
    " \n",
    "# Driver program\n",
    "dt1 = Date(13, 12, 2017)\n",
    "dt2 = Date(25, 3, 2019)\n",
    " \n",
    "print(getDifference(dt1, dt2), \"days\")\n"
   ]
  },
  {
   "cell_type": "code",
   "execution_count": 89,
   "metadata": {},
   "outputs": [],
   "source": [
    "hp=pd.read_csv(r\"C:\\Users\\UDDANDAH\\Desktop\\Work\\pythonfakenewsdetection\\Fake.csv\")"
   ]
  },
  {
   "cell_type": "code",
   "execution_count": 90,
   "metadata": {},
   "outputs": [
    {
     "data": {
      "text/html": [
       "<div>\n",
       "<style scoped>\n",
       "    .dataframe tbody tr th:only-of-type {\n",
       "        vertical-align: middle;\n",
       "    }\n",
       "\n",
       "    .dataframe tbody tr th {\n",
       "        vertical-align: top;\n",
       "    }\n",
       "\n",
       "    .dataframe thead th {\n",
       "        text-align: right;\n",
       "    }\n",
       "</style>\n",
       "<table border=\"1\" class=\"dataframe\">\n",
       "  <thead>\n",
       "    <tr style=\"text-align: right;\">\n",
       "      <th></th>\n",
       "      <th>version https://git-lfs.github.com/spec/v1</th>\n",
       "    </tr>\n",
       "  </thead>\n",
       "  <tbody>\n",
       "    <tr>\n",
       "      <th>0</th>\n",
       "      <td>oid sha256:bebf8bcfe95678bf2c732bf413a2ce5f621...</td>\n",
       "    </tr>\n",
       "    <tr>\n",
       "      <th>1</th>\n",
       "      <td>size 62789876</td>\n",
       "    </tr>\n",
       "  </tbody>\n",
       "</table>\n",
       "</div>"
      ],
      "text/plain": [
       "          version https://git-lfs.github.com/spec/v1\n",
       "0  oid sha256:bebf8bcfe95678bf2c732bf413a2ce5f621...\n",
       "1                                      size 62789876"
      ]
     },
     "execution_count": 90,
     "metadata": {},
     "output_type": "execute_result"
    }
   ],
   "source": [
    "hp.head()"
   ]
  },
  {
   "cell_type": "code",
   "execution_count": 91,
   "metadata": {},
   "outputs": [],
   "source": [
    "hp1=pd.read_csv(r\"C:\\Users\\UDDANDAH\\Desktop\\Work\\pythonfakenewsdetection\\True.csv\")"
   ]
  },
  {
   "cell_type": "code",
   "execution_count": 92,
   "metadata": {},
   "outputs": [
    {
     "data": {
      "text/html": [
       "<div>\n",
       "<style scoped>\n",
       "    .dataframe tbody tr th:only-of-type {\n",
       "        vertical-align: middle;\n",
       "    }\n",
       "\n",
       "    .dataframe tbody tr th {\n",
       "        vertical-align: top;\n",
       "    }\n",
       "\n",
       "    .dataframe thead th {\n",
       "        text-align: right;\n",
       "    }\n",
       "</style>\n",
       "<table border=\"1\" class=\"dataframe\">\n",
       "  <thead>\n",
       "    <tr style=\"text-align: right;\">\n",
       "      <th></th>\n",
       "      <th>version https://git-lfs.github.com/spec/v1</th>\n",
       "    </tr>\n",
       "  </thead>\n",
       "  <tbody>\n",
       "    <tr>\n",
       "      <th>0</th>\n",
       "      <td>oid sha256:ba0844414a65dc6ae7402b8eee5306da24b...</td>\n",
       "    </tr>\n",
       "    <tr>\n",
       "      <th>1</th>\n",
       "      <td>size 53582940</td>\n",
       "    </tr>\n",
       "  </tbody>\n",
       "</table>\n",
       "</div>"
      ],
      "text/plain": [
       "          version https://git-lfs.github.com/spec/v1\n",
       "0  oid sha256:ba0844414a65dc6ae7402b8eee5306da24b...\n",
       "1                                      size 53582940"
      ]
     },
     "execution_count": 92,
     "metadata": {},
     "output_type": "execute_result"
    }
   ],
   "source": [
    "hp1.head()"
   ]
  },
  {
   "cell_type": "code",
   "execution_count": 93,
   "metadata": {},
   "outputs": [],
   "source": [
    "import numpy as np\n",
    "import pandas as pd\n",
    "import matplotlib.pyplot as plt\n",
    "import seaborn as sbn"
   ]
  },
  {
   "cell_type": "code",
   "execution_count": 94,
   "metadata": {},
   "outputs": [],
   "source": [
    "cpc=pd.read_csv(r\"C:\\Users\\UDDANDAH\\Desktop\\Data\\star_report.csv\")"
   ]
  },
  {
   "cell_type": "code",
   "execution_count": 95,
   "metadata": {},
   "outputs": [
    {
     "data": {
      "text/html": [
       "<div>\n",
       "<style scoped>\n",
       "    .dataframe tbody tr th:only-of-type {\n",
       "        vertical-align: middle;\n",
       "    }\n",
       "\n",
       "    .dataframe tbody tr th {\n",
       "        vertical-align: top;\n",
       "    }\n",
       "\n",
       "    .dataframe thead th {\n",
       "        text-align: right;\n",
       "    }\n",
       "</style>\n",
       "<table border=\"1\" class=\"dataframe\">\n",
       "  <thead>\n",
       "    <tr style=\"text-align: right;\">\n",
       "      <th></th>\n",
       "      <th>service_order_id</th>\n",
       "      <th>crm_order_no</th>\n",
       "      <th>crm_order_creation</th>\n",
       "      <th>service_order_created_date</th>\n",
       "      <th>service_order_status</th>\n",
       "      <th>service_type</th>\n",
       "      <th>customer_id</th>\n",
       "      <th>customer_name</th>\n",
       "      <th>customer_mobile</th>\n",
       "      <th>customer_phone</th>\n",
       "      <th>...</th>\n",
       "      <th>reference_d</th>\n",
       "      <th>reference_e</th>\n",
       "      <th>reference_f</th>\n",
       "      <th>reference_g</th>\n",
       "      <th>reference_h</th>\n",
       "      <th>order_submitted_date</th>\n",
       "      <th>order_acknowledged</th>\n",
       "      <th>order_closed_date</th>\n",
       "      <th>submitted_by_bot_on</th>\n",
       "      <th>is_it_latest_data</th>\n",
       "    </tr>\n",
       "  </thead>\n",
       "  <tbody>\n",
       "    <tr>\n",
       "      <th>0</th>\n",
       "      <td>50228880</td>\n",
       "      <td>105881388</td>\n",
       "      <td>00:00.0</td>\n",
       "      <td>20210112</td>\n",
       "      <td>Closed</td>\n",
       "      <td>NaN</td>\n",
       "      <td>f5f291fa-a</td>\n",
       "      <td>Suresh Chandra</td>\n",
       "      <td>9.178920e+11</td>\n",
       "      <td>9.782820e+09</td>\n",
       "      <td>...</td>\n",
       "      <td>NaN</td>\n",
       "      <td>NaN</td>\n",
       "      <td>NaN</td>\n",
       "      <td>@HPCS_KMS3042</td>\n",
       "      <td>NaN</td>\n",
       "      <td>20210115.0</td>\n",
       "      <td>20210122.0</td>\n",
       "      <td>20210122.0</td>\n",
       "      <td>32:17.0</td>\n",
       "      <td>1</td>\n",
       "    </tr>\n",
       "    <tr>\n",
       "      <th>1</th>\n",
       "      <td>50228879</td>\n",
       "      <td>105881370</td>\n",
       "      <td>00:00.0</td>\n",
       "      <td>20210112</td>\n",
       "      <td>Closed</td>\n",
       "      <td>NaN</td>\n",
       "      <td>3e91e4ff-a</td>\n",
       "      <td>GAURAV  KARMA</td>\n",
       "      <td>9.198990e+11</td>\n",
       "      <td>9.899321e+09</td>\n",
       "      <td>...</td>\n",
       "      <td>NaN</td>\n",
       "      <td>NaN</td>\n",
       "      <td>NaN</td>\n",
       "      <td>@HPCS_KMS4173</td>\n",
       "      <td>NaN</td>\n",
       "      <td>20210119.0</td>\n",
       "      <td>20210123.0</td>\n",
       "      <td>20210123.0</td>\n",
       "      <td>32:17.0</td>\n",
       "      <td>1</td>\n",
       "    </tr>\n",
       "    <tr>\n",
       "      <th>2</th>\n",
       "      <td>50228879</td>\n",
       "      <td>105881370</td>\n",
       "      <td>00:00.0</td>\n",
       "      <td>20210112</td>\n",
       "      <td>Closed</td>\n",
       "      <td>NaN</td>\n",
       "      <td>3e91e4ff-a</td>\n",
       "      <td>GAURAV  KARMA</td>\n",
       "      <td>9.198990e+11</td>\n",
       "      <td>9.899321e+09</td>\n",
       "      <td>...</td>\n",
       "      <td>NaN</td>\n",
       "      <td>NaN</td>\n",
       "      <td>NaN</td>\n",
       "      <td>@HPCS_KMS4173</td>\n",
       "      <td>NaN</td>\n",
       "      <td>20210119.0</td>\n",
       "      <td>20210123.0</td>\n",
       "      <td>20210123.0</td>\n",
       "      <td>32:17.0</td>\n",
       "      <td>1</td>\n",
       "    </tr>\n",
       "    <tr>\n",
       "      <th>3</th>\n",
       "      <td>50228869</td>\n",
       "      <td>105881122</td>\n",
       "      <td>00:00.0</td>\n",
       "      <td>20210112</td>\n",
       "      <td>Closed</td>\n",
       "      <td>NaN</td>\n",
       "      <td>0cbcb534-5</td>\n",
       "      <td>Pradeep Pradeep</td>\n",
       "      <td>9.198380e+11</td>\n",
       "      <td>9.838373e+09</td>\n",
       "      <td>...</td>\n",
       "      <td>NaN</td>\n",
       "      <td>NaN</td>\n",
       "      <td>NaN</td>\n",
       "      <td>@HPCS_KMS1384</td>\n",
       "      <td>NaN</td>\n",
       "      <td>20210114.0</td>\n",
       "      <td>20210114.0</td>\n",
       "      <td>20210118.0</td>\n",
       "      <td>32:17.2</td>\n",
       "      <td>1</td>\n",
       "    </tr>\n",
       "    <tr>\n",
       "      <th>4</th>\n",
       "      <td>50228878</td>\n",
       "      <td>105881341</td>\n",
       "      <td>00:00.0</td>\n",
       "      <td>20210112</td>\n",
       "      <td>Closed</td>\n",
       "      <td>NaN</td>\n",
       "      <td>53b480b7-a</td>\n",
       "      <td>suraj suraj</td>\n",
       "      <td>9.198120e+11</td>\n",
       "      <td>9.811753e+09</td>\n",
       "      <td>...</td>\n",
       "      <td>NaN</td>\n",
       "      <td>NaN</td>\n",
       "      <td>NaN</td>\n",
       "      <td>@HPCS_KMS0719</td>\n",
       "      <td>NaN</td>\n",
       "      <td>20210112.0</td>\n",
       "      <td>20210118.0</td>\n",
       "      <td>20210118.0</td>\n",
       "      <td>32:17.0</td>\n",
       "      <td>1</td>\n",
       "    </tr>\n",
       "  </tbody>\n",
       "</table>\n",
       "<p>5 rows × 107 columns</p>\n",
       "</div>"
      ],
      "text/plain": [
       "   service_order_id  crm_order_no crm_order_creation  \\\n",
       "0          50228880     105881388            00:00.0   \n",
       "1          50228879     105881370            00:00.0   \n",
       "2          50228879     105881370            00:00.0   \n",
       "3          50228869     105881122            00:00.0   \n",
       "4          50228878     105881341            00:00.0   \n",
       "\n",
       "   service_order_created_date service_order_status  service_type customer_id  \\\n",
       "0                    20210112               Closed           NaN  f5f291fa-a   \n",
       "1                    20210112               Closed           NaN  3e91e4ff-a   \n",
       "2                    20210112               Closed           NaN  3e91e4ff-a   \n",
       "3                    20210112               Closed           NaN  0cbcb534-5   \n",
       "4                    20210112               Closed           NaN  53b480b7-a   \n",
       "\n",
       "     customer_name  customer_mobile  customer_phone  ...  reference_d  \\\n",
       "0   Suresh Chandra     9.178920e+11    9.782820e+09  ...          NaN   \n",
       "1    GAURAV  KARMA     9.198990e+11    9.899321e+09  ...          NaN   \n",
       "2    GAURAV  KARMA     9.198990e+11    9.899321e+09  ...          NaN   \n",
       "3  Pradeep Pradeep     9.198380e+11    9.838373e+09  ...          NaN   \n",
       "4      suraj suraj     9.198120e+11    9.811753e+09  ...          NaN   \n",
       "\n",
       "  reference_e reference_f    reference_g reference_h order_submitted_date  \\\n",
       "0         NaN         NaN  @HPCS_KMS3042         NaN           20210115.0   \n",
       "1         NaN         NaN  @HPCS_KMS4173         NaN           20210119.0   \n",
       "2         NaN         NaN  @HPCS_KMS4173         NaN           20210119.0   \n",
       "3         NaN         NaN  @HPCS_KMS1384         NaN           20210114.0   \n",
       "4         NaN         NaN  @HPCS_KMS0719         NaN           20210112.0   \n",
       "\n",
       "  order_acknowledged order_closed_date submitted_by_bot_on is_it_latest_data  \n",
       "0         20210122.0        20210122.0             32:17.0                 1  \n",
       "1         20210123.0        20210123.0             32:17.0                 1  \n",
       "2         20210123.0        20210123.0             32:17.0                 1  \n",
       "3         20210114.0        20210118.0             32:17.2                 1  \n",
       "4         20210118.0        20210118.0             32:17.0                 1  \n",
       "\n",
       "[5 rows x 107 columns]"
      ]
     },
     "execution_count": 95,
     "metadata": {},
     "output_type": "execute_result"
    }
   ],
   "source": [
    "cpc.head()"
   ]
  },
  {
   "cell_type": "code",
   "execution_count": 96,
   "metadata": {},
   "outputs": [
    {
     "data": {
      "text/plain": [
       "(1000, 107)"
      ]
     },
     "execution_count": 96,
     "metadata": {},
     "output_type": "execute_result"
    }
   ],
   "source": [
    "cpc.shape"
   ]
  },
  {
   "cell_type": "code",
   "execution_count": 98,
   "metadata": {},
   "outputs": [
    {
     "data": {
      "text/plain": [
       "service_order_id                int64\n",
       "crm_order_no                    int64\n",
       "crm_order_creation             object\n",
       "service_order_created_date      int64\n",
       "service_order_status           object\n",
       "                               ...   \n",
       "order_submitted_date          float64\n",
       "order_acknowledged            float64\n",
       "order_closed_date             float64\n",
       "submitted_by_bot_on            object\n",
       "is_it_latest_data               int64\n",
       "Length: 107, dtype: object"
      ]
     },
     "execution_count": 98,
     "metadata": {},
     "output_type": "execute_result"
    }
   ],
   "source": [
    "cpc.dtypes"
   ]
  },
  {
   "cell_type": "code",
   "execution_count": 99,
   "metadata": {},
   "outputs": [
    {
     "data": {
      "text/plain": [
       "service_order_id               0\n",
       "crm_order_no                   0\n",
       "crm_order_creation             0\n",
       "service_order_created_date     0\n",
       "service_order_status           0\n",
       "                              ..\n",
       "order_submitted_date           1\n",
       "order_acknowledged            17\n",
       "order_closed_date             19\n",
       "submitted_by_bot_on            0\n",
       "is_it_latest_data              0\n",
       "Length: 107, dtype: int64"
      ]
     },
     "execution_count": 99,
     "metadata": {},
     "output_type": "execute_result"
    }
   ],
   "source": [
    "cpc.isnull().sum()"
   ]
  },
  {
   "cell_type": "code",
   "execution_count": 100,
   "metadata": {},
   "outputs": [
    {
     "data": {
      "text/html": [
       "<div>\n",
       "<style scoped>\n",
       "    .dataframe tbody tr th:only-of-type {\n",
       "        vertical-align: middle;\n",
       "    }\n",
       "\n",
       "    .dataframe tbody tr th {\n",
       "        vertical-align: top;\n",
       "    }\n",
       "\n",
       "    .dataframe thead th {\n",
       "        text-align: right;\n",
       "    }\n",
       "</style>\n",
       "<table border=\"1\" class=\"dataframe\">\n",
       "  <thead>\n",
       "    <tr style=\"text-align: right;\">\n",
       "      <th></th>\n",
       "      <th>count</th>\n",
       "      <th>mean</th>\n",
       "      <th>std</th>\n",
       "      <th>min</th>\n",
       "      <th>25%</th>\n",
       "      <th>50%</th>\n",
       "      <th>75%</th>\n",
       "      <th>max</th>\n",
       "    </tr>\n",
       "  </thead>\n",
       "  <tbody>\n",
       "    <tr>\n",
       "      <th>service_order_id</th>\n",
       "      <td>1000.0</td>\n",
       "      <td>5.022823e+07</td>\n",
       "      <td>1.931095e+03</td>\n",
       "      <td>50220958.0</td>\n",
       "      <td>5.022814e+07</td>\n",
       "      <td>5.022839e+07</td>\n",
       "      <td>5.022864e+07</td>\n",
       "      <td>5.023829e+07</td>\n",
       "    </tr>\n",
       "    <tr>\n",
       "      <th>crm_order_no</th>\n",
       "      <td>1000.0</td>\n",
       "      <td>1.058538e+08</td>\n",
       "      <td>9.647474e+04</td>\n",
       "      <td>105533123.0</td>\n",
       "      <td>1.058477e+08</td>\n",
       "      <td>1.058570e+08</td>\n",
       "      <td>1.058715e+08</td>\n",
       "      <td>1.064070e+08</td>\n",
       "    </tr>\n",
       "    <tr>\n",
       "      <th>service_order_created_date</th>\n",
       "      <td>1000.0</td>\n",
       "      <td>2.020927e+07</td>\n",
       "      <td>2.612139e+03</td>\n",
       "      <td>20201103.0</td>\n",
       "      <td>2.021011e+07</td>\n",
       "      <td>2.021011e+07</td>\n",
       "      <td>2.021011e+07</td>\n",
       "      <td>2.021042e+07</td>\n",
       "    </tr>\n",
       "    <tr>\n",
       "      <th>service_type</th>\n",
       "      <td>0.0</td>\n",
       "      <td>NaN</td>\n",
       "      <td>NaN</td>\n",
       "      <td>NaN</td>\n",
       "      <td>NaN</td>\n",
       "      <td>NaN</td>\n",
       "      <td>NaN</td>\n",
       "      <td>NaN</td>\n",
       "    </tr>\n",
       "    <tr>\n",
       "      <th>customer_mobile</th>\n",
       "      <td>1000.0</td>\n",
       "      <td>1.191110e+12</td>\n",
       "      <td>4.224343e+12</td>\n",
       "      <td>835595736.0</td>\n",
       "      <td>9.180960e+11</td>\n",
       "      <td>9.193225e+11</td>\n",
       "      <td>9.198200e+11</td>\n",
       "      <td>9.191890e+13</td>\n",
       "    </tr>\n",
       "    <tr>\n",
       "      <th>customer_phone</th>\n",
       "      <td>995.0</td>\n",
       "      <td>1.258446e+10</td>\n",
       "      <td>5.761884e+10</td>\n",
       "      <td>22.0</td>\n",
       "      <td>8.188318e+09</td>\n",
       "      <td>9.388107e+09</td>\n",
       "      <td>9.830162e+09</td>\n",
       "      <td>9.199900e+11</td>\n",
       "    </tr>\n",
       "    <tr>\n",
       "      <th>customer_fax</th>\n",
       "      <td>0.0</td>\n",
       "      <td>NaN</td>\n",
       "      <td>NaN</td>\n",
       "      <td>NaN</td>\n",
       "      <td>NaN</td>\n",
       "      <td>NaN</td>\n",
       "      <td>NaN</td>\n",
       "      <td>NaN</td>\n",
       "    </tr>\n",
       "    <tr>\n",
       "      <th>customer_alternate_name</th>\n",
       "      <td>0.0</td>\n",
       "      <td>NaN</td>\n",
       "      <td>NaN</td>\n",
       "      <td>NaN</td>\n",
       "      <td>NaN</td>\n",
       "      <td>NaN</td>\n",
       "      <td>NaN</td>\n",
       "      <td>NaN</td>\n",
       "    </tr>\n",
       "    <tr>\n",
       "      <th>warranty_type</th>\n",
       "      <td>0.0</td>\n",
       "      <td>NaN</td>\n",
       "      <td>NaN</td>\n",
       "      <td>NaN</td>\n",
       "      <td>NaN</td>\n",
       "      <td>NaN</td>\n",
       "      <td>NaN</td>\n",
       "      <td>NaN</td>\n",
       "    </tr>\n",
       "    <tr>\n",
       "      <th>pop_date</th>\n",
       "      <td>15.0</td>\n",
       "      <td>2.019782e+07</td>\n",
       "      <td>6.860694e+03</td>\n",
       "      <td>20181016.0</td>\n",
       "      <td>2.019536e+07</td>\n",
       "      <td>2.020022e+07</td>\n",
       "      <td>2.020051e+07</td>\n",
       "      <td>2.021010e+07</td>\n",
       "    </tr>\n",
       "    <tr>\n",
       "      <th>purchase_country</th>\n",
       "      <td>0.0</td>\n",
       "      <td>NaN</td>\n",
       "      <td>NaN</td>\n",
       "      <td>NaN</td>\n",
       "      <td>NaN</td>\n",
       "      <td>NaN</td>\n",
       "      <td>NaN</td>\n",
       "      <td>NaN</td>\n",
       "    </tr>\n",
       "    <tr>\n",
       "      <th>override_reason</th>\n",
       "      <td>0.0</td>\n",
       "      <td>NaN</td>\n",
       "      <td>NaN</td>\n",
       "      <td>NaN</td>\n",
       "      <td>NaN</td>\n",
       "      <td>NaN</td>\n",
       "      <td>NaN</td>\n",
       "      <td>NaN</td>\n",
       "    </tr>\n",
       "    <tr>\n",
       "      <th>override_code</th>\n",
       "      <td>0.0</td>\n",
       "      <td>NaN</td>\n",
       "      <td>NaN</td>\n",
       "      <td>NaN</td>\n",
       "      <td>NaN</td>\n",
       "      <td>NaN</td>\n",
       "      <td>NaN</td>\n",
       "      <td>NaN</td>\n",
       "    </tr>\n",
       "    <tr>\n",
       "      <th>symptom_code_application</th>\n",
       "      <td>0.0</td>\n",
       "      <td>NaN</td>\n",
       "      <td>NaN</td>\n",
       "      <td>NaN</td>\n",
       "      <td>NaN</td>\n",
       "      <td>NaN</td>\n",
       "      <td>NaN</td>\n",
       "      <td>NaN</td>\n",
       "    </tr>\n",
       "    <tr>\n",
       "      <th>shipping_address3</th>\n",
       "      <td>0.0</td>\n",
       "      <td>NaN</td>\n",
       "      <td>NaN</td>\n",
       "      <td>NaN</td>\n",
       "      <td>NaN</td>\n",
       "      <td>NaN</td>\n",
       "      <td>NaN</td>\n",
       "      <td>NaN</td>\n",
       "    </tr>\n",
       "    <tr>\n",
       "      <th>shipping_alt_attention</th>\n",
       "      <td>0.0</td>\n",
       "      <td>NaN</td>\n",
       "      <td>NaN</td>\n",
       "      <td>NaN</td>\n",
       "      <td>NaN</td>\n",
       "      <td>NaN</td>\n",
       "      <td>NaN</td>\n",
       "      <td>NaN</td>\n",
       "    </tr>\n",
       "    <tr>\n",
       "      <th>shipping_instructions</th>\n",
       "      <td>0.0</td>\n",
       "      <td>NaN</td>\n",
       "      <td>NaN</td>\n",
       "      <td>NaN</td>\n",
       "      <td>NaN</td>\n",
       "      <td>NaN</td>\n",
       "      <td>NaN</td>\n",
       "      <td>NaN</td>\n",
       "    </tr>\n",
       "    <tr>\n",
       "      <th>line_item</th>\n",
       "      <td>825.0</td>\n",
       "      <td>1.581818e+00</td>\n",
       "      <td>9.142396e-01</td>\n",
       "      <td>1.0</td>\n",
       "      <td>1.000000e+00</td>\n",
       "      <td>1.000000e+00</td>\n",
       "      <td>2.000000e+00</td>\n",
       "      <td>8.000000e+00</td>\n",
       "    </tr>\n",
       "    <tr>\n",
       "      <th>line_item_creation_date</th>\n",
       "      <td>825.0</td>\n",
       "      <td>2.020937e+07</td>\n",
       "      <td>2.476481e+03</td>\n",
       "      <td>20201105.0</td>\n",
       "      <td>2.021011e+07</td>\n",
       "      <td>2.021011e+07</td>\n",
       "      <td>2.021011e+07</td>\n",
       "      <td>2.021042e+07</td>\n",
       "    </tr>\n",
       "    <tr>\n",
       "      <th>part_category</th>\n",
       "      <td>0.0</td>\n",
       "      <td>NaN</td>\n",
       "      <td>NaN</td>\n",
       "      <td>NaN</td>\n",
       "      <td>NaN</td>\n",
       "      <td>NaN</td>\n",
       "      <td>NaN</td>\n",
       "      <td>NaN</td>\n",
       "    </tr>\n",
       "    <tr>\n",
       "      <th>part_quantity</th>\n",
       "      <td>825.0</td>\n",
       "      <td>1.000000e+00</td>\n",
       "      <td>0.000000e+00</td>\n",
       "      <td>1.0</td>\n",
       "      <td>1.000000e+00</td>\n",
       "      <td>1.000000e+00</td>\n",
       "      <td>1.000000e+00</td>\n",
       "      <td>1.000000e+00</td>\n",
       "    </tr>\n",
       "    <tr>\n",
       "      <th>part_ship_date</th>\n",
       "      <td>0.0</td>\n",
       "      <td>NaN</td>\n",
       "      <td>NaN</td>\n",
       "      <td>NaN</td>\n",
       "      <td>NaN</td>\n",
       "      <td>NaN</td>\n",
       "      <td>NaN</td>\n",
       "      <td>NaN</td>\n",
       "    </tr>\n",
       "    <tr>\n",
       "      <th>part_delivery_date</th>\n",
       "      <td>825.0</td>\n",
       "      <td>2.020937e+07</td>\n",
       "      <td>2.476481e+03</td>\n",
       "      <td>20201105.0</td>\n",
       "      <td>2.021011e+07</td>\n",
       "      <td>2.021011e+07</td>\n",
       "      <td>2.021011e+07</td>\n",
       "      <td>2.021042e+07</td>\n",
       "    </tr>\n",
       "    <tr>\n",
       "      <th>part_returned_date</th>\n",
       "      <td>825.0</td>\n",
       "      <td>2.020937e+07</td>\n",
       "      <td>2.476481e+03</td>\n",
       "      <td>20201105.0</td>\n",
       "      <td>2.021011e+07</td>\n",
       "      <td>2.021011e+07</td>\n",
       "      <td>2.021011e+07</td>\n",
       "      <td>2.021042e+07</td>\n",
       "    </tr>\n",
       "    <tr>\n",
       "      <th>return_serial</th>\n",
       "      <td>0.0</td>\n",
       "      <td>NaN</td>\n",
       "      <td>NaN</td>\n",
       "      <td>NaN</td>\n",
       "      <td>NaN</td>\n",
       "      <td>NaN</td>\n",
       "      <td>NaN</td>\n",
       "      <td>NaN</td>\n",
       "    </tr>\n",
       "    <tr>\n",
       "      <th>repair_partner_id</th>\n",
       "      <td>1000.0</td>\n",
       "      <td>1.029984e+04</td>\n",
       "      <td>1.424569e+02</td>\n",
       "      <td>10050.0</td>\n",
       "      <td>1.014500e+04</td>\n",
       "      <td>1.031800e+04</td>\n",
       "      <td>1.041400e+04</td>\n",
       "      <td>1.054200e+04</td>\n",
       "    </tr>\n",
       "    <tr>\n",
       "      <th>date_unit_received</th>\n",
       "      <td>0.0</td>\n",
       "      <td>NaN</td>\n",
       "      <td>NaN</td>\n",
       "      <td>NaN</td>\n",
       "      <td>NaN</td>\n",
       "      <td>NaN</td>\n",
       "      <td>NaN</td>\n",
       "      <td>NaN</td>\n",
       "    </tr>\n",
       "    <tr>\n",
       "      <th>repair_start</th>\n",
       "      <td>981.0</td>\n",
       "      <td>2.020941e+07</td>\n",
       "      <td>2.417845e+03</td>\n",
       "      <td>20200924.0</td>\n",
       "      <td>2.021011e+07</td>\n",
       "      <td>2.021011e+07</td>\n",
       "      <td>2.021012e+07</td>\n",
       "      <td>2.021022e+07</td>\n",
       "    </tr>\n",
       "    <tr>\n",
       "      <th>delay_code</th>\n",
       "      <td>1000.0</td>\n",
       "      <td>7.620000e-01</td>\n",
       "      <td>6.555805e-01</td>\n",
       "      <td>0.0</td>\n",
       "      <td>0.000000e+00</td>\n",
       "      <td>1.000000e+00</td>\n",
       "      <td>1.000000e+00</td>\n",
       "      <td>3.000000e+00</td>\n",
       "    </tr>\n",
       "    <tr>\n",
       "      <th>repair_end</th>\n",
       "      <td>1000.0</td>\n",
       "      <td>2.020943e+07</td>\n",
       "      <td>2.397643e+03</td>\n",
       "      <td>20201107.0</td>\n",
       "      <td>2.021011e+07</td>\n",
       "      <td>2.021011e+07</td>\n",
       "      <td>2.021012e+07</td>\n",
       "      <td>2.021042e+07</td>\n",
       "    </tr>\n",
       "    <tr>\n",
       "      <th>repair_partner_activity_3</th>\n",
       "      <td>0.0</td>\n",
       "      <td>NaN</td>\n",
       "      <td>NaN</td>\n",
       "      <td>NaN</td>\n",
       "      <td>NaN</td>\n",
       "      <td>NaN</td>\n",
       "      <td>NaN</td>\n",
       "      <td>NaN</td>\n",
       "    </tr>\n",
       "    <tr>\n",
       "      <th>order_submitted_date</th>\n",
       "      <td>999.0</td>\n",
       "      <td>2.020938e+07</td>\n",
       "      <td>2.468533e+03</td>\n",
       "      <td>20201105.0</td>\n",
       "      <td>2.021011e+07</td>\n",
       "      <td>2.021011e+07</td>\n",
       "      <td>2.021011e+07</td>\n",
       "      <td>2.021042e+07</td>\n",
       "    </tr>\n",
       "    <tr>\n",
       "      <th>order_acknowledged</th>\n",
       "      <td>983.0</td>\n",
       "      <td>2.020940e+07</td>\n",
       "      <td>2.429237e+03</td>\n",
       "      <td>20201105.0</td>\n",
       "      <td>2.021011e+07</td>\n",
       "      <td>2.021011e+07</td>\n",
       "      <td>2.021012e+07</td>\n",
       "      <td>2.021041e+07</td>\n",
       "    </tr>\n",
       "    <tr>\n",
       "      <th>order_closed_date</th>\n",
       "      <td>981.0</td>\n",
       "      <td>2.020941e+07</td>\n",
       "      <td>2.416559e+03</td>\n",
       "      <td>20201112.0</td>\n",
       "      <td>2.021011e+07</td>\n",
       "      <td>2.021012e+07</td>\n",
       "      <td>2.021012e+07</td>\n",
       "      <td>2.021022e+07</td>\n",
       "    </tr>\n",
       "    <tr>\n",
       "      <th>is_it_latest_data</th>\n",
       "      <td>1000.0</td>\n",
       "      <td>1.000000e+00</td>\n",
       "      <td>0.000000e+00</td>\n",
       "      <td>1.0</td>\n",
       "      <td>1.000000e+00</td>\n",
       "      <td>1.000000e+00</td>\n",
       "      <td>1.000000e+00</td>\n",
       "      <td>1.000000e+00</td>\n",
       "    </tr>\n",
       "  </tbody>\n",
       "</table>\n",
       "</div>"
      ],
      "text/plain": [
       "                             count          mean           std          min  \\\n",
       "service_order_id            1000.0  5.022823e+07  1.931095e+03   50220958.0   \n",
       "crm_order_no                1000.0  1.058538e+08  9.647474e+04  105533123.0   \n",
       "service_order_created_date  1000.0  2.020927e+07  2.612139e+03   20201103.0   \n",
       "service_type                   0.0           NaN           NaN          NaN   \n",
       "customer_mobile             1000.0  1.191110e+12  4.224343e+12  835595736.0   \n",
       "customer_phone               995.0  1.258446e+10  5.761884e+10         22.0   \n",
       "customer_fax                   0.0           NaN           NaN          NaN   \n",
       "customer_alternate_name        0.0           NaN           NaN          NaN   \n",
       "warranty_type                  0.0           NaN           NaN          NaN   \n",
       "pop_date                      15.0  2.019782e+07  6.860694e+03   20181016.0   \n",
       "purchase_country               0.0           NaN           NaN          NaN   \n",
       "override_reason                0.0           NaN           NaN          NaN   \n",
       "override_code                  0.0           NaN           NaN          NaN   \n",
       "symptom_code_application       0.0           NaN           NaN          NaN   \n",
       "shipping_address3              0.0           NaN           NaN          NaN   \n",
       "shipping_alt_attention         0.0           NaN           NaN          NaN   \n",
       "shipping_instructions          0.0           NaN           NaN          NaN   \n",
       "line_item                    825.0  1.581818e+00  9.142396e-01          1.0   \n",
       "line_item_creation_date      825.0  2.020937e+07  2.476481e+03   20201105.0   \n",
       "part_category                  0.0           NaN           NaN          NaN   \n",
       "part_quantity                825.0  1.000000e+00  0.000000e+00          1.0   \n",
       "part_ship_date                 0.0           NaN           NaN          NaN   \n",
       "part_delivery_date           825.0  2.020937e+07  2.476481e+03   20201105.0   \n",
       "part_returned_date           825.0  2.020937e+07  2.476481e+03   20201105.0   \n",
       "return_serial                  0.0           NaN           NaN          NaN   \n",
       "repair_partner_id           1000.0  1.029984e+04  1.424569e+02      10050.0   \n",
       "date_unit_received             0.0           NaN           NaN          NaN   \n",
       "repair_start                 981.0  2.020941e+07  2.417845e+03   20200924.0   \n",
       "delay_code                  1000.0  7.620000e-01  6.555805e-01          0.0   \n",
       "repair_end                  1000.0  2.020943e+07  2.397643e+03   20201107.0   \n",
       "repair_partner_activity_3      0.0           NaN           NaN          NaN   \n",
       "order_submitted_date         999.0  2.020938e+07  2.468533e+03   20201105.0   \n",
       "order_acknowledged           983.0  2.020940e+07  2.429237e+03   20201105.0   \n",
       "order_closed_date            981.0  2.020941e+07  2.416559e+03   20201112.0   \n",
       "is_it_latest_data           1000.0  1.000000e+00  0.000000e+00          1.0   \n",
       "\n",
       "                                     25%           50%           75%  \\\n",
       "service_order_id            5.022814e+07  5.022839e+07  5.022864e+07   \n",
       "crm_order_no                1.058477e+08  1.058570e+08  1.058715e+08   \n",
       "service_order_created_date  2.021011e+07  2.021011e+07  2.021011e+07   \n",
       "service_type                         NaN           NaN           NaN   \n",
       "customer_mobile             9.180960e+11  9.193225e+11  9.198200e+11   \n",
       "customer_phone              8.188318e+09  9.388107e+09  9.830162e+09   \n",
       "customer_fax                         NaN           NaN           NaN   \n",
       "customer_alternate_name              NaN           NaN           NaN   \n",
       "warranty_type                        NaN           NaN           NaN   \n",
       "pop_date                    2.019536e+07  2.020022e+07  2.020051e+07   \n",
       "purchase_country                     NaN           NaN           NaN   \n",
       "override_reason                      NaN           NaN           NaN   \n",
       "override_code                        NaN           NaN           NaN   \n",
       "symptom_code_application             NaN           NaN           NaN   \n",
       "shipping_address3                    NaN           NaN           NaN   \n",
       "shipping_alt_attention               NaN           NaN           NaN   \n",
       "shipping_instructions                NaN           NaN           NaN   \n",
       "line_item                   1.000000e+00  1.000000e+00  2.000000e+00   \n",
       "line_item_creation_date     2.021011e+07  2.021011e+07  2.021011e+07   \n",
       "part_category                        NaN           NaN           NaN   \n",
       "part_quantity               1.000000e+00  1.000000e+00  1.000000e+00   \n",
       "part_ship_date                       NaN           NaN           NaN   \n",
       "part_delivery_date          2.021011e+07  2.021011e+07  2.021011e+07   \n",
       "part_returned_date          2.021011e+07  2.021011e+07  2.021011e+07   \n",
       "return_serial                        NaN           NaN           NaN   \n",
       "repair_partner_id           1.014500e+04  1.031800e+04  1.041400e+04   \n",
       "date_unit_received                   NaN           NaN           NaN   \n",
       "repair_start                2.021011e+07  2.021011e+07  2.021012e+07   \n",
       "delay_code                  0.000000e+00  1.000000e+00  1.000000e+00   \n",
       "repair_end                  2.021011e+07  2.021011e+07  2.021012e+07   \n",
       "repair_partner_activity_3            NaN           NaN           NaN   \n",
       "order_submitted_date        2.021011e+07  2.021011e+07  2.021011e+07   \n",
       "order_acknowledged          2.021011e+07  2.021011e+07  2.021012e+07   \n",
       "order_closed_date           2.021011e+07  2.021012e+07  2.021012e+07   \n",
       "is_it_latest_data           1.000000e+00  1.000000e+00  1.000000e+00   \n",
       "\n",
       "                                     max  \n",
       "service_order_id            5.023829e+07  \n",
       "crm_order_no                1.064070e+08  \n",
       "service_order_created_date  2.021042e+07  \n",
       "service_type                         NaN  \n",
       "customer_mobile             9.191890e+13  \n",
       "customer_phone              9.199900e+11  \n",
       "customer_fax                         NaN  \n",
       "customer_alternate_name              NaN  \n",
       "warranty_type                        NaN  \n",
       "pop_date                    2.021010e+07  \n",
       "purchase_country                     NaN  \n",
       "override_reason                      NaN  \n",
       "override_code                        NaN  \n",
       "symptom_code_application             NaN  \n",
       "shipping_address3                    NaN  \n",
       "shipping_alt_attention               NaN  \n",
       "shipping_instructions                NaN  \n",
       "line_item                   8.000000e+00  \n",
       "line_item_creation_date     2.021042e+07  \n",
       "part_category                        NaN  \n",
       "part_quantity               1.000000e+00  \n",
       "part_ship_date                       NaN  \n",
       "part_delivery_date          2.021042e+07  \n",
       "part_returned_date          2.021042e+07  \n",
       "return_serial                        NaN  \n",
       "repair_partner_id           1.054200e+04  \n",
       "date_unit_received                   NaN  \n",
       "repair_start                2.021022e+07  \n",
       "delay_code                  3.000000e+00  \n",
       "repair_end                  2.021042e+07  \n",
       "repair_partner_activity_3            NaN  \n",
       "order_submitted_date        2.021042e+07  \n",
       "order_acknowledged          2.021041e+07  \n",
       "order_closed_date           2.021022e+07  \n",
       "is_it_latest_data           1.000000e+00  "
      ]
     },
     "execution_count": 100,
     "metadata": {},
     "output_type": "execute_result"
    }
   ],
   "source": [
    "cpc.describe().T"
   ]
  },
  {
   "cell_type": "code",
   "execution_count": 101,
   "metadata": {},
   "outputs": [
    {
     "data": {
      "text/plain": [
       "Index(['service_order_id', 'crm_order_no', 'crm_order_creation',\n",
       "       'service_order_created_date', 'service_order_status', 'service_type',\n",
       "       'customer_id', 'customer_name', 'customer_mobile', 'customer_phone',\n",
       "       ...\n",
       "       'reference_d', 'reference_e', 'reference_f', 'reference_g',\n",
       "       'reference_h', 'order_submitted_date', 'order_acknowledged',\n",
       "       'order_closed_date', 'submitted_by_bot_on', 'is_it_latest_data'],\n",
       "      dtype='object', length=107)"
      ]
     },
     "execution_count": 101,
     "metadata": {},
     "output_type": "execute_result"
    }
   ],
   "source": [
    "cpc.columns"
   ]
  },
  {
   "cell_type": "code",
   "execution_count": 102,
   "metadata": {},
   "outputs": [
    {
     "data": {
      "text/plain": [
       "0    @HPCS_KMS3042\n",
       "1    @HPCS_KMS4173\n",
       "2    @HPCS_KMS4173\n",
       "3    @HPCS_KMS1384\n",
       "4    @HPCS_KMS0719\n",
       "Name: reference_g, dtype: object"
      ]
     },
     "execution_count": 102,
     "metadata": {},
     "output_type": "execute_result"
    }
   ],
   "source": [
    "cpc[\"reference_g\"].head()"
   ]
  },
  {
   "cell_type": "code",
   "execution_count": 124,
   "metadata": {},
   "outputs": [
    {
     "name": "stdout",
     "output_type": "stream",
     "text": [
      "6         HPCS_kms6971\n",
      "7                  NaN\n",
      "8     @@@@HPCS_KMS0604\n",
      "9         HPCS_KMS1402\n",
      "10        HPCS_KMS1402\n",
      "11                 NaN\n",
      "Name: reference_g, dtype: object\n"
     ]
    }
   ],
   "source": [
    "#cpc[\"kms_id\"]=cpc[\"reference_g\"].str.replace(\"@HPCS_\",'')\n",
    "\n",
    "cpc[\"kms_id\"]=print(cpc[\"reference_g\"][6:12])"
   ]
  },
  {
   "cell_type": "code",
   "execution_count": 125,
   "metadata": {},
   "outputs": [
    {
     "data": {
      "text/plain": [
       "0     None\n",
       "1     None\n",
       "2     None\n",
       "3     None\n",
       "4     None\n",
       "5     None\n",
       "6     None\n",
       "7     None\n",
       "8     None\n",
       "9     None\n",
       "10    None\n",
       "11    None\n",
       "12    None\n",
       "13    None\n",
       "14    None\n",
       "15    None\n",
       "16    None\n",
       "17    None\n",
       "18    None\n",
       "19    None\n",
       "20    None\n",
       "21    None\n",
       "22    None\n",
       "23    None\n",
       "24    None\n",
       "25    None\n",
       "26    None\n",
       "27    None\n",
       "28    None\n",
       "29    None\n",
       "30    None\n",
       "31    None\n",
       "32    None\n",
       "33    None\n",
       "34    None\n",
       "35    None\n",
       "36    None\n",
       "37    None\n",
       "38    None\n",
       "39    None\n",
       "40    None\n",
       "41    None\n",
       "42    None\n",
       "43    None\n",
       "44    None\n",
       "45    None\n",
       "46    None\n",
       "47    None\n",
       "48    None\n",
       "49    None\n",
       "50    None\n",
       "51    None\n",
       "52    None\n",
       "53    None\n",
       "54    None\n",
       "55    None\n",
       "56    None\n",
       "57    None\n",
       "58    None\n",
       "59    None\n",
       "60    None\n",
       "61    None\n",
       "62    None\n",
       "63    None\n",
       "64    None\n",
       "65    None\n",
       "66    None\n",
       "67    None\n",
       "68    None\n",
       "69    None\n",
       "70    None\n",
       "71    None\n",
       "72    None\n",
       "73    None\n",
       "74    None\n",
       "75    None\n",
       "76    None\n",
       "77    None\n",
       "78    None\n",
       "79    None\n",
       "80    None\n",
       "81    None\n",
       "82    None\n",
       "83    None\n",
       "84    None\n",
       "85    None\n",
       "86    None\n",
       "87    None\n",
       "88    None\n",
       "89    None\n",
       "90    None\n",
       "91    None\n",
       "92    None\n",
       "93    None\n",
       "94    None\n",
       "95    None\n",
       "96    None\n",
       "97    None\n",
       "98    None\n",
       "99    None\n",
       "Name: kms_id, dtype: object"
      ]
     },
     "execution_count": 125,
     "metadata": {},
     "output_type": "execute_result"
    }
   ],
   "source": [
    "pd.options.display.max_rows=None\n",
    "pd.options.display.max_columns=None\n",
    "\n",
    "cpc[\"kms_id\"].head(100)"
   ]
  },
  {
   "cell_type": "code",
   "execution_count": 118,
   "metadata": {},
   "outputs": [
    {
     "name": "stdout",
     "output_type": "stream",
     "text": [
      "0    @HPCS_KMS3042\n",
      "1    @HPCS_KMS4173\n",
      "2    @HPCS_KMS4173\n",
      "3    @HPCS_KMS1384\n",
      "4    @HPCS_KMS0719\n",
      "Name: reference_g, dtype: object\n",
      "0    @HPCS_KMS3042\n",
      "1    @HPCS_KMS4173\n",
      "2    @HPCS_KMS4173\n",
      "3    @HPCS_KMS1384\n",
      "4    @HPCS_KMS0719\n",
      "Name: reference_g, dtype: object\n",
      "0    @HPCS_KMS3042\n",
      "1    @HPCS_KMS4173\n",
      "2    @HPCS_KMS4173\n",
      "3    @HPCS_KMS1384\n",
      "4    @HPCS_KMS0719\n",
      "Name: reference_g, dtype: object\n",
      "0    @HPCS_KMS3042\n",
      "1    @HPCS_KMS4173\n",
      "2    @HPCS_KMS4173\n",
      "3    @HPCS_KMS1384\n",
      "4    @HPCS_KMS0719\n",
      "Name: reference_g, dtype: object\n",
      "0    @HPCS_KMS3042\n",
      "1    @HPCS_KMS4173\n",
      "2    @HPCS_KMS4173\n",
      "3    @HPCS_KMS1384\n",
      "4    @HPCS_KMS0719\n",
      "Name: reference_g, dtype: object\n",
      "0    @HPCS_KMS3042\n",
      "1    @HPCS_KMS4173\n",
      "2    @HPCS_KMS4173\n",
      "3    @HPCS_KMS1384\n",
      "4    @HPCS_KMS0719\n",
      "Name: reference_g, dtype: object\n",
      "0    @HPCS_KMS3042\n",
      "1    @HPCS_KMS4173\n",
      "2    @HPCS_KMS4173\n",
      "3    @HPCS_KMS1384\n",
      "4    @HPCS_KMS0719\n",
      "Name: reference_g, dtype: object\n",
      "0    @HPCS_KMS3042\n",
      "1    @HPCS_KMS4173\n",
      "2    @HPCS_KMS4173\n",
      "3    @HPCS_KMS1384\n",
      "4    @HPCS_KMS0719\n",
      "Name: reference_g, dtype: object\n",
      "0    @HPCS_KMS3042\n",
      "1    @HPCS_KMS4173\n",
      "2    @HPCS_KMS4173\n",
      "3    @HPCS_KMS1384\n",
      "4    @HPCS_KMS0719\n",
      "Name: reference_g, dtype: object\n",
      "0    @HPCS_KMS3042\n",
      "1    @HPCS_KMS4173\n",
      "2    @HPCS_KMS4173\n",
      "3    @HPCS_KMS1384\n",
      "4    @HPCS_KMS0719\n",
      "Name: reference_g, dtype: object\n",
      "0    @HPCS_KMS3042\n",
      "1    @HPCS_KMS4173\n",
      "2    @HPCS_KMS4173\n",
      "3    @HPCS_KMS1384\n",
      "4    @HPCS_KMS0719\n",
      "Name: reference_g, dtype: object\n",
      "0    @HPCS_KMS3042\n",
      "1    @HPCS_KMS4173\n",
      "2    @HPCS_KMS4173\n",
      "3    @HPCS_KMS1384\n",
      "4    @HPCS_KMS0719\n",
      "Name: reference_g, dtype: object\n",
      "0    @HPCS_KMS3042\n",
      "1    @HPCS_KMS4173\n",
      "2    @HPCS_KMS4173\n",
      "3    @HPCS_KMS1384\n",
      "4    @HPCS_KMS0719\n",
      "Name: reference_g, dtype: object\n",
      "0    @HPCS_KMS3042\n",
      "1    @HPCS_KMS4173\n",
      "2    @HPCS_KMS4173\n",
      "3    @HPCS_KMS1384\n",
      "4    @HPCS_KMS0719\n",
      "Name: reference_g, dtype: object\n",
      "0    @HPCS_KMS3042\n",
      "1    @HPCS_KMS4173\n",
      "2    @HPCS_KMS4173\n",
      "3    @HPCS_KMS1384\n",
      "4    @HPCS_KMS0719\n",
      "Name: reference_g, dtype: object\n",
      "0    @HPCS_KMS3042\n",
      "1    @HPCS_KMS4173\n",
      "2    @HPCS_KMS4173\n",
      "3    @HPCS_KMS1384\n",
      "4    @HPCS_KMS0719\n",
      "Name: reference_g, dtype: object\n",
      "0    @HPCS_KMS3042\n",
      "1    @HPCS_KMS4173\n",
      "2    @HPCS_KMS4173\n",
      "3    @HPCS_KMS1384\n",
      "4    @HPCS_KMS0719\n",
      "Name: reference_g, dtype: object\n",
      "0    @HPCS_KMS3042\n",
      "1    @HPCS_KMS4173\n",
      "2    @HPCS_KMS4173\n",
      "3    @HPCS_KMS1384\n",
      "4    @HPCS_KMS0719\n",
      "Name: reference_g, dtype: object\n",
      "0    @HPCS_KMS3042\n",
      "1    @HPCS_KMS4173\n",
      "2    @HPCS_KMS4173\n",
      "3    @HPCS_KMS1384\n",
      "4    @HPCS_KMS0719\n",
      "Name: reference_g, dtype: object\n",
      "0    @HPCS_KMS3042\n",
      "1    @HPCS_KMS4173\n",
      "2    @HPCS_KMS4173\n",
      "3    @HPCS_KMS1384\n",
      "4    @HPCS_KMS0719\n",
      "Name: reference_g, dtype: object\n",
      "0    @HPCS_KMS3042\n",
      "1    @HPCS_KMS4173\n",
      "2    @HPCS_KMS4173\n",
      "3    @HPCS_KMS1384\n",
      "4    @HPCS_KMS0719\n",
      "Name: reference_g, dtype: object\n",
      "0    @HPCS_KMS3042\n",
      "1    @HPCS_KMS4173\n",
      "2    @HPCS_KMS4173\n",
      "3    @HPCS_KMS1384\n",
      "4    @HPCS_KMS0719\n",
      "Name: reference_g, dtype: object\n",
      "0    @HPCS_KMS3042\n",
      "1    @HPCS_KMS4173\n",
      "2    @HPCS_KMS4173\n",
      "3    @HPCS_KMS1384\n",
      "4    @HPCS_KMS0719\n",
      "Name: reference_g, dtype: object\n",
      "0    @HPCS_KMS3042\n",
      "1    @HPCS_KMS4173\n",
      "2    @HPCS_KMS4173\n",
      "3    @HPCS_KMS1384\n",
      "4    @HPCS_KMS0719\n",
      "Name: reference_g, dtype: object\n",
      "0    @HPCS_KMS3042\n",
      "1    @HPCS_KMS4173\n",
      "2    @HPCS_KMS4173\n",
      "3    @HPCS_KMS1384\n",
      "4    @HPCS_KMS0719\n",
      "Name: reference_g, dtype: object\n",
      "0    @HPCS_KMS3042\n",
      "1    @HPCS_KMS4173\n",
      "2    @HPCS_KMS4173\n",
      "3    @HPCS_KMS1384\n",
      "4    @HPCS_KMS0719\n",
      "Name: reference_g, dtype: object\n",
      "0    @HPCS_KMS3042\n",
      "1    @HPCS_KMS4173\n",
      "2    @HPCS_KMS4173\n",
      "3    @HPCS_KMS1384\n",
      "4    @HPCS_KMS0719\n",
      "Name: reference_g, dtype: object\n",
      "0    @HPCS_KMS3042\n",
      "1    @HPCS_KMS4173\n",
      "2    @HPCS_KMS4173\n",
      "3    @HPCS_KMS1384\n",
      "4    @HPCS_KMS0719\n",
      "Name: reference_g, dtype: object\n",
      "0    @HPCS_KMS3042\n",
      "1    @HPCS_KMS4173\n",
      "2    @HPCS_KMS4173\n",
      "3    @HPCS_KMS1384\n",
      "4    @HPCS_KMS0719\n",
      "Name: reference_g, dtype: object\n",
      "0    @HPCS_KMS3042\n",
      "1    @HPCS_KMS4173\n",
      "2    @HPCS_KMS4173\n",
      "3    @HPCS_KMS1384\n",
      "4    @HPCS_KMS0719\n",
      "Name: reference_g, dtype: object\n",
      "0    @HPCS_KMS3042\n",
      "1    @HPCS_KMS4173\n",
      "2    @HPCS_KMS4173\n",
      "3    @HPCS_KMS1384\n",
      "4    @HPCS_KMS0719\n",
      "Name: reference_g, dtype: object\n",
      "0    @HPCS_KMS3042\n",
      "1    @HPCS_KMS4173\n",
      "2    @HPCS_KMS4173\n",
      "3    @HPCS_KMS1384\n",
      "4    @HPCS_KMS0719\n",
      "Name: reference_g, dtype: object\n",
      "0    @HPCS_KMS3042\n",
      "1    @HPCS_KMS4173\n",
      "2    @HPCS_KMS4173\n",
      "3    @HPCS_KMS1384\n",
      "4    @HPCS_KMS0719\n",
      "Name: reference_g, dtype: object\n",
      "0    @HPCS_KMS3042\n",
      "1    @HPCS_KMS4173\n",
      "2    @HPCS_KMS4173\n",
      "3    @HPCS_KMS1384\n",
      "4    @HPCS_KMS0719\n",
      "Name: reference_g, dtype: object\n",
      "0    @HPCS_KMS3042\n",
      "1    @HPCS_KMS4173\n",
      "2    @HPCS_KMS4173\n",
      "3    @HPCS_KMS1384\n",
      "4    @HPCS_KMS0719\n",
      "Name: reference_g, dtype: object\n",
      "0    @HPCS_KMS3042\n",
      "1    @HPCS_KMS4173\n",
      "2    @HPCS_KMS4173\n",
      "3    @HPCS_KMS1384\n",
      "4    @HPCS_KMS0719\n",
      "Name: reference_g, dtype: object\n",
      "0    @HPCS_KMS3042\n",
      "1    @HPCS_KMS4173\n",
      "2    @HPCS_KMS4173\n",
      "3    @HPCS_KMS1384\n",
      "4    @HPCS_KMS0719\n",
      "Name: reference_g, dtype: object\n",
      "0    @HPCS_KMS3042\n",
      "1    @HPCS_KMS4173\n",
      "2    @HPCS_KMS4173\n",
      "3    @HPCS_KMS1384\n",
      "4    @HPCS_KMS0719\n",
      "Name: reference_g, dtype: object\n",
      "0    @HPCS_KMS3042\n",
      "1    @HPCS_KMS4173\n",
      "2    @HPCS_KMS4173\n",
      "3    @HPCS_KMS1384\n",
      "4    @HPCS_KMS0719\n",
      "Name: reference_g, dtype: object\n",
      "0    @HPCS_KMS3042\n",
      "1    @HPCS_KMS4173\n",
      "2    @HPCS_KMS4173\n",
      "3    @HPCS_KMS1384\n",
      "4    @HPCS_KMS0719\n",
      "Name: reference_g, dtype: object\n",
      "0    @HPCS_KMS3042\n",
      "1    @HPCS_KMS4173\n",
      "2    @HPCS_KMS4173\n",
      "3    @HPCS_KMS1384\n",
      "4    @HPCS_KMS0719\n",
      "Name: reference_g, dtype: object\n",
      "0    @HPCS_KMS3042\n",
      "1    @HPCS_KMS4173\n",
      "2    @HPCS_KMS4173\n",
      "3    @HPCS_KMS1384\n",
      "4    @HPCS_KMS0719\n",
      "Name: reference_g, dtype: object\n",
      "0    @HPCS_KMS3042\n",
      "1    @HPCS_KMS4173\n",
      "2    @HPCS_KMS4173\n",
      "3    @HPCS_KMS1384\n",
      "4    @HPCS_KMS0719\n",
      "Name: reference_g, dtype: object\n",
      "0    @HPCS_KMS3042\n",
      "1    @HPCS_KMS4173\n",
      "2    @HPCS_KMS4173\n",
      "3    @HPCS_KMS1384\n",
      "4    @HPCS_KMS0719\n",
      "Name: reference_g, dtype: object\n",
      "0    @HPCS_KMS3042\n",
      "1    @HPCS_KMS4173\n",
      "2    @HPCS_KMS4173\n",
      "3    @HPCS_KMS1384\n",
      "4    @HPCS_KMS0719\n",
      "Name: reference_g, dtype: object\n",
      "0    @HPCS_KMS3042\n",
      "1    @HPCS_KMS4173\n",
      "2    @HPCS_KMS4173\n",
      "3    @HPCS_KMS1384\n",
      "4    @HPCS_KMS0719\n",
      "Name: reference_g, dtype: object\n",
      "0    @HPCS_KMS3042\n",
      "1    @HPCS_KMS4173\n",
      "2    @HPCS_KMS4173\n",
      "3    @HPCS_KMS1384\n",
      "4    @HPCS_KMS0719\n",
      "Name: reference_g, dtype: object\n",
      "0    @HPCS_KMS3042\n",
      "1    @HPCS_KMS4173\n",
      "2    @HPCS_KMS4173\n",
      "3    @HPCS_KMS1384\n",
      "4    @HPCS_KMS0719\n",
      "Name: reference_g, dtype: object\n",
      "0    @HPCS_KMS3042\n",
      "1    @HPCS_KMS4173\n",
      "2    @HPCS_KMS4173\n",
      "3    @HPCS_KMS1384\n",
      "4    @HPCS_KMS0719\n",
      "Name: reference_g, dtype: object\n",
      "0    @HPCS_KMS3042\n",
      "1    @HPCS_KMS4173\n",
      "2    @HPCS_KMS4173\n",
      "3    @HPCS_KMS1384\n",
      "4    @HPCS_KMS0719\n",
      "Name: reference_g, dtype: object\n",
      "0    @HPCS_KMS3042\n",
      "1    @HPCS_KMS4173\n",
      "2    @HPCS_KMS4173\n",
      "3    @HPCS_KMS1384\n",
      "4    @HPCS_KMS0719\n",
      "Name: reference_g, dtype: object\n",
      "0    @HPCS_KMS3042\n",
      "1    @HPCS_KMS4173\n",
      "2    @HPCS_KMS4173\n",
      "3    @HPCS_KMS1384\n",
      "4    @HPCS_KMS0719\n",
      "Name: reference_g, dtype: object\n",
      "0    @HPCS_KMS3042\n",
      "1    @HPCS_KMS4173\n",
      "2    @HPCS_KMS4173\n",
      "3    @HPCS_KMS1384\n",
      "4    @HPCS_KMS0719\n",
      "Name: reference_g, dtype: object\n",
      "0    @HPCS_KMS3042\n",
      "1    @HPCS_KMS4173\n",
      "2    @HPCS_KMS4173\n",
      "3    @HPCS_KMS1384\n",
      "4    @HPCS_KMS0719\n",
      "Name: reference_g, dtype: object\n",
      "0    @HPCS_KMS3042\n",
      "1    @HPCS_KMS4173\n",
      "2    @HPCS_KMS4173\n",
      "3    @HPCS_KMS1384\n",
      "4    @HPCS_KMS0719\n",
      "Name: reference_g, dtype: object\n",
      "0    @HPCS_KMS3042\n",
      "1    @HPCS_KMS4173\n",
      "2    @HPCS_KMS4173\n",
      "3    @HPCS_KMS1384\n",
      "4    @HPCS_KMS0719\n",
      "Name: reference_g, dtype: object\n",
      "0    @HPCS_KMS3042\n",
      "1    @HPCS_KMS4173\n",
      "2    @HPCS_KMS4173\n",
      "3    @HPCS_KMS1384\n",
      "4    @HPCS_KMS0719\n",
      "Name: reference_g, dtype: object\n",
      "0    @HPCS_KMS3042\n",
      "1    @HPCS_KMS4173\n",
      "2    @HPCS_KMS4173\n",
      "3    @HPCS_KMS1384\n",
      "4    @HPCS_KMS0719\n",
      "Name: reference_g, dtype: object\n",
      "0    @HPCS_KMS3042\n",
      "1    @HPCS_KMS4173\n",
      "2    @HPCS_KMS4173\n",
      "3    @HPCS_KMS1384\n",
      "4    @HPCS_KMS0719\n",
      "Name: reference_g, dtype: object\n",
      "0    @HPCS_KMS3042\n",
      "1    @HPCS_KMS4173\n",
      "2    @HPCS_KMS4173\n",
      "3    @HPCS_KMS1384\n",
      "4    @HPCS_KMS0719\n",
      "Name: reference_g, dtype: object\n",
      "0    @HPCS_KMS3042\n",
      "1    @HPCS_KMS4173\n",
      "2    @HPCS_KMS4173\n",
      "3    @HPCS_KMS1384\n",
      "4    @HPCS_KMS0719\n",
      "Name: reference_g, dtype: object\n",
      "0    @HPCS_KMS3042\n",
      "1    @HPCS_KMS4173\n",
      "2    @HPCS_KMS4173\n",
      "3    @HPCS_KMS1384\n",
      "4    @HPCS_KMS0719\n",
      "Name: reference_g, dtype: object\n",
      "0    @HPCS_KMS3042\n",
      "1    @HPCS_KMS4173\n",
      "2    @HPCS_KMS4173\n",
      "3    @HPCS_KMS1384\n",
      "4    @HPCS_KMS0719\n",
      "Name: reference_g, dtype: object\n",
      "0    @HPCS_KMS3042\n",
      "1    @HPCS_KMS4173\n",
      "2    @HPCS_KMS4173\n",
      "3    @HPCS_KMS1384\n",
      "4    @HPCS_KMS0719\n",
      "Name: reference_g, dtype: object\n",
      "0    @HPCS_KMS3042\n",
      "1    @HPCS_KMS4173\n",
      "2    @HPCS_KMS4173\n",
      "3    @HPCS_KMS1384\n",
      "4    @HPCS_KMS0719\n",
      "Name: reference_g, dtype: object\n",
      "0    @HPCS_KMS3042\n",
      "1    @HPCS_KMS4173\n",
      "2    @HPCS_KMS4173\n",
      "3    @HPCS_KMS1384\n",
      "4    @HPCS_KMS0719\n",
      "Name: reference_g, dtype: object\n",
      "0    @HPCS_KMS3042\n",
      "1    @HPCS_KMS4173\n",
      "2    @HPCS_KMS4173\n",
      "3    @HPCS_KMS1384\n",
      "4    @HPCS_KMS0719\n",
      "Name: reference_g, dtype: object\n",
      "0    @HPCS_KMS3042\n",
      "1    @HPCS_KMS4173\n",
      "2    @HPCS_KMS4173\n",
      "3    @HPCS_KMS1384\n",
      "4    @HPCS_KMS0719\n",
      "Name: reference_g, dtype: object\n",
      "0    @HPCS_KMS3042\n",
      "1    @HPCS_KMS4173\n",
      "2    @HPCS_KMS4173\n",
      "3    @HPCS_KMS1384\n",
      "4    @HPCS_KMS0719\n",
      "Name: reference_g, dtype: object\n",
      "0    @HPCS_KMS3042\n",
      "1    @HPCS_KMS4173\n",
      "2    @HPCS_KMS4173\n",
      "3    @HPCS_KMS1384\n",
      "4    @HPCS_KMS0719\n",
      "Name: reference_g, dtype: object\n",
      "0    @HPCS_KMS3042\n",
      "1    @HPCS_KMS4173\n",
      "2    @HPCS_KMS4173\n",
      "3    @HPCS_KMS1384\n",
      "4    @HPCS_KMS0719\n",
      "Name: reference_g, dtype: object\n",
      "0    @HPCS_KMS3042\n",
      "1    @HPCS_KMS4173\n",
      "2    @HPCS_KMS4173\n",
      "3    @HPCS_KMS1384\n",
      "4    @HPCS_KMS0719\n",
      "Name: reference_g, dtype: object\n",
      "0    @HPCS_KMS3042\n",
      "1    @HPCS_KMS4173\n",
      "2    @HPCS_KMS4173\n",
      "3    @HPCS_KMS1384\n",
      "4    @HPCS_KMS0719\n",
      "Name: reference_g, dtype: object\n",
      "0    @HPCS_KMS3042\n",
      "1    @HPCS_KMS4173\n",
      "2    @HPCS_KMS4173\n",
      "3    @HPCS_KMS1384\n",
      "4    @HPCS_KMS0719\n",
      "Name: reference_g, dtype: object\n",
      "0    @HPCS_KMS3042\n",
      "1    @HPCS_KMS4173\n",
      "2    @HPCS_KMS4173\n",
      "3    @HPCS_KMS1384\n",
      "4    @HPCS_KMS0719\n",
      "Name: reference_g, dtype: object\n",
      "0    @HPCS_KMS3042\n",
      "1    @HPCS_KMS4173\n",
      "2    @HPCS_KMS4173\n",
      "3    @HPCS_KMS1384\n",
      "4    @HPCS_KMS0719\n",
      "Name: reference_g, dtype: object\n",
      "0    @HPCS_KMS3042\n",
      "1    @HPCS_KMS4173\n",
      "2    @HPCS_KMS4173\n",
      "3    @HPCS_KMS1384\n",
      "4    @HPCS_KMS0719\n",
      "Name: reference_g, dtype: object\n",
      "0    @HPCS_KMS3042\n",
      "1    @HPCS_KMS4173\n",
      "2    @HPCS_KMS4173\n",
      "3    @HPCS_KMS1384\n",
      "4    @HPCS_KMS0719\n",
      "Name: reference_g, dtype: object\n",
      "0    @HPCS_KMS3042\n",
      "1    @HPCS_KMS4173\n",
      "2    @HPCS_KMS4173\n",
      "3    @HPCS_KMS1384\n",
      "4    @HPCS_KMS0719\n",
      "Name: reference_g, dtype: object\n",
      "0    @HPCS_KMS3042\n",
      "1    @HPCS_KMS4173\n",
      "2    @HPCS_KMS4173\n",
      "3    @HPCS_KMS1384\n",
      "4    @HPCS_KMS0719\n",
      "Name: reference_g, dtype: object\n",
      "0    @HPCS_KMS3042\n",
      "1    @HPCS_KMS4173\n",
      "2    @HPCS_KMS4173\n",
      "3    @HPCS_KMS1384\n",
      "4    @HPCS_KMS0719\n",
      "Name: reference_g, dtype: object\n",
      "0    @HPCS_KMS3042\n",
      "1    @HPCS_KMS4173\n",
      "2    @HPCS_KMS4173\n",
      "3    @HPCS_KMS1384\n",
      "4    @HPCS_KMS0719\n",
      "Name: reference_g, dtype: object\n",
      "0    @HPCS_KMS3042\n",
      "1    @HPCS_KMS4173\n",
      "2    @HPCS_KMS4173\n",
      "3    @HPCS_KMS1384\n",
      "4    @HPCS_KMS0719\n",
      "Name: reference_g, dtype: object\n",
      "0    @HPCS_KMS3042\n",
      "1    @HPCS_KMS4173\n",
      "2    @HPCS_KMS4173\n",
      "3    @HPCS_KMS1384\n",
      "4    @HPCS_KMS0719\n",
      "Name: reference_g, dtype: object\n",
      "0    @HPCS_KMS3042\n",
      "1    @HPCS_KMS4173\n",
      "2    @HPCS_KMS4173\n",
      "3    @HPCS_KMS1384\n",
      "4    @HPCS_KMS0719\n",
      "Name: reference_g, dtype: object\n",
      "0    @HPCS_KMS3042\n",
      "1    @HPCS_KMS4173\n",
      "2    @HPCS_KMS4173\n",
      "3    @HPCS_KMS1384\n",
      "4    @HPCS_KMS0719\n",
      "Name: reference_g, dtype: object\n",
      "0    @HPCS_KMS3042\n",
      "1    @HPCS_KMS4173\n",
      "2    @HPCS_KMS4173\n",
      "3    @HPCS_KMS1384\n",
      "4    @HPCS_KMS0719\n",
      "Name: reference_g, dtype: object\n",
      "0    @HPCS_KMS3042\n",
      "1    @HPCS_KMS4173\n",
      "2    @HPCS_KMS4173\n",
      "3    @HPCS_KMS1384\n",
      "4    @HPCS_KMS0719\n",
      "Name: reference_g, dtype: object\n",
      "0    @HPCS_KMS3042\n",
      "1    @HPCS_KMS4173\n",
      "2    @HPCS_KMS4173\n",
      "3    @HPCS_KMS1384\n",
      "4    @HPCS_KMS0719\n",
      "Name: reference_g, dtype: object\n",
      "0    @HPCS_KMS3042\n",
      "1    @HPCS_KMS4173\n",
      "2    @HPCS_KMS4173\n",
      "3    @HPCS_KMS1384\n",
      "4    @HPCS_KMS0719\n",
      "Name: reference_g, dtype: object\n",
      "0    @HPCS_KMS3042\n",
      "1    @HPCS_KMS4173\n",
      "2    @HPCS_KMS4173\n",
      "3    @HPCS_KMS1384\n",
      "4    @HPCS_KMS0719\n",
      "Name: reference_g, dtype: object\n",
      "0    @HPCS_KMS3042\n",
      "1    @HPCS_KMS4173\n",
      "2    @HPCS_KMS4173\n",
      "3    @HPCS_KMS1384\n",
      "4    @HPCS_KMS0719\n",
      "Name: reference_g, dtype: object\n",
      "0    @HPCS_KMS3042\n",
      "1    @HPCS_KMS4173\n",
      "2    @HPCS_KMS4173\n",
      "3    @HPCS_KMS1384\n",
      "4    @HPCS_KMS0719\n",
      "Name: reference_g, dtype: object\n",
      "0    @HPCS_KMS3042\n",
      "1    @HPCS_KMS4173\n",
      "2    @HPCS_KMS4173\n",
      "3    @HPCS_KMS1384\n",
      "4    @HPCS_KMS0719\n",
      "Name: reference_g, dtype: object\n",
      "0    @HPCS_KMS3042\n",
      "1    @HPCS_KMS4173\n",
      "2    @HPCS_KMS4173\n",
      "3    @HPCS_KMS1384\n",
      "4    @HPCS_KMS0719\n",
      "Name: reference_g, dtype: object\n",
      "0    @HPCS_KMS3042\n",
      "1    @HPCS_KMS4173\n",
      "2    @HPCS_KMS4173\n",
      "3    @HPCS_KMS1384\n",
      "4    @HPCS_KMS0719\n",
      "Name: reference_g, dtype: object\n",
      "0    @HPCS_KMS3042\n",
      "1    @HPCS_KMS4173\n",
      "2    @HPCS_KMS4173\n",
      "3    @HPCS_KMS1384\n",
      "4    @HPCS_KMS0719\n",
      "Name: reference_g, dtype: object\n",
      "0    @HPCS_KMS3042\n",
      "1    @HPCS_KMS4173\n",
      "2    @HPCS_KMS4173\n",
      "3    @HPCS_KMS1384\n",
      "4    @HPCS_KMS0719\n",
      "Name: reference_g, dtype: object\n",
      "0    @HPCS_KMS3042\n",
      "1    @HPCS_KMS4173\n",
      "2    @HPCS_KMS4173\n",
      "3    @HPCS_KMS1384\n",
      "4    @HPCS_KMS0719\n",
      "Name: reference_g, dtype: object\n",
      "0    @HPCS_KMS3042\n",
      "1    @HPCS_KMS4173\n",
      "2    @HPCS_KMS4173\n",
      "3    @HPCS_KMS1384\n",
      "4    @HPCS_KMS0719\n",
      "Name: reference_g, dtype: object\n",
      "0    @HPCS_KMS3042\n",
      "1    @HPCS_KMS4173\n",
      "2    @HPCS_KMS4173\n",
      "3    @HPCS_KMS1384\n",
      "4    @HPCS_KMS0719\n",
      "Name: reference_g, dtype: object\n",
      "0    @HPCS_KMS3042\n",
      "1    @HPCS_KMS4173\n",
      "2    @HPCS_KMS4173\n",
      "3    @HPCS_KMS1384\n",
      "4    @HPCS_KMS0719\n",
      "Name: reference_g, dtype: object\n",
      "0    @HPCS_KMS3042\n",
      "1    @HPCS_KMS4173\n",
      "2    @HPCS_KMS4173\n",
      "3    @HPCS_KMS1384\n",
      "4    @HPCS_KMS0719\n",
      "Name: reference_g, dtype: object\n",
      "0    @HPCS_KMS3042\n",
      "1    @HPCS_KMS4173\n",
      "2    @HPCS_KMS4173\n",
      "3    @HPCS_KMS1384\n",
      "4    @HPCS_KMS0719\n",
      "Name: reference_g, dtype: object\n",
      "0    @HPCS_KMS3042\n",
      "1    @HPCS_KMS4173\n",
      "2    @HPCS_KMS4173\n",
      "3    @HPCS_KMS1384\n",
      "4    @HPCS_KMS0719\n",
      "Name: reference_g, dtype: object\n",
      "0    @HPCS_KMS3042\n",
      "1    @HPCS_KMS4173\n",
      "2    @HPCS_KMS4173\n",
      "3    @HPCS_KMS1384\n",
      "4    @HPCS_KMS0719\n",
      "Name: reference_g, dtype: object\n",
      "0    @HPCS_KMS3042\n",
      "1    @HPCS_KMS4173\n",
      "2    @HPCS_KMS4173\n",
      "3    @HPCS_KMS1384\n",
      "4    @HPCS_KMS0719\n",
      "Name: reference_g, dtype: object\n",
      "0    @HPCS_KMS3042\n",
      "1    @HPCS_KMS4173\n",
      "2    @HPCS_KMS4173\n",
      "3    @HPCS_KMS1384\n",
      "4    @HPCS_KMS0719\n",
      "Name: reference_g, dtype: object\n"
     ]
    }
   ],
   "source": [
    "for i in cpc:\n",
    "    print(cpc[\"reference_g\"].head())"
   ]
  },
  {
   "cell_type": "code",
   "execution_count": 127,
   "metadata": {},
   "outputs": [
    {
     "name": "stdout",
     "output_type": "stream",
     "text": [
      "kms6971\n"
     ]
    }
   ],
   "source": [
    "x='HPCS_kms6971'\n",
    "print(x[5:])"
   ]
  },
  {
   "cell_type": "code",
   "execution_count": null,
   "metadata": {},
   "outputs": [],
   "source": []
  }
 ],
 "metadata": {
  "kernelspec": {
   "display_name": "Python 3",
   "language": "python",
   "name": "python3"
  },
  "language_info": {
   "codemirror_mode": {
    "name": "ipython",
    "version": 3
   },
   "file_extension": ".py",
   "mimetype": "text/x-python",
   "name": "python",
   "nbconvert_exporter": "python",
   "pygments_lexer": "ipython3",
   "version": "3.8.5"
  }
 },
 "nbformat": 4,
 "nbformat_minor": 4
}
