{
 "cells": [
  {
   "cell_type": "markdown",
   "metadata": {},
   "source": [
    "\n",
    "Question 1\n",
    "Question:\n",
    "Write a program which will find all such numbers which are divisible by 7 but are not a multiple of 5, between 2000 and 3200 (both included).The numbers obtained should be printed in a comma-separated sequence on a single line.\n",
    "\n",
    "Hints:\n",
    "Consider use range(#begin, #end) method."
   ]
  },
  {
   "cell_type": "code",
   "execution_count": 1,
   "metadata": {},
   "outputs": [
    {
     "name": "stdout",
     "output_type": "stream",
     "text": [
      "2002,2009,2016,2023,2037,2044,2051,2058,2072,2079,2086,2093,2107,2114,2121,2128,2142,2149,2156,2163,2177,2184,2191,2198,2212,2219,2226,2233,2247,2254,2261,2268,2282,2289,2296,2303,2317,2324,2331,2338,2352,2359,2366,2373,2387,2394,2401,2408,2422,2429,2436,2443,2457,2464,2471,2478,2492,2499,2506,2513,2527,2534,2541,2548,2562,2569,2576,2583,2597,2604,2611,2618,2632,2639,2646,2653,2667,2674,2681,2688,2702,2709,2716,2723,2737,2744,2751,2758,2772,2779,2786,2793,2807,2814,2821,2828,2842,2849,2856,2863,2877,2884,2891,2898,2912,2919,2926,2933,2947,2954,2961,2968,2982,2989,2996,3003,3017,3024,3031,3038,3052,3059,3066,3073,3087,3094,3101,3108,3122,3129,3136,3143,3157,3164,3171,3178,3192,3199,\b\n"
     ]
    }
   ],
   "source": [
    "#Solutions:\n",
    "\n",
    "#Using for loops\n",
    "\n",
    "for i in range(2000, 3201):\n",
    "    if i % 7 == 0 and i % 5 != 0:\n",
    "        print(i, end=\",\")\n",
    "print(\"\\b\")"
   ]
  },
  {
   "cell_type": "code",
   "execution_count": 2,
   "metadata": {},
   "outputs": [
    {
     "name": "stdout",
     "output_type": "stream",
     "text": [
      "2002,2009,2016,2023,2037,2044,2051,2058,2072,2079,2086,2093,2107,2114,2121,2128,2142,2149,2156,2163,2177,2184,2191,2198,2212,2219,2226,2233,2247,2254,2261,2268,2282,2289,2296,2303,2317,2324,2331,2338,2352,2359,2366,2373,2387,2394,2401,2408,2422,2429,2436,2443,2457,2464,2471,2478,2492,2499,2506,2513,2527,2534,2541,2548,2562,2569,2576,2583,2597,2604,2611,2618,2632,2639,2646,2653,2667,2674,2681,2688,2702,2709,2716,2723,2737,2744,2751,2758,2772,2779,2786,2793,2807,2814,2821,2828,2842,2849,2856,2863,2877,2884,2891,2898,2912,2919,2926,2933,2947,2954,2961,2968,2982,2989,2996,3003,3017,3024,3031,3038,3052,3059,3066,3073,3087,3094,3101,3108,3122,3129,3136,3143,3157,3164,3171,3178,3192,3199\n"
     ]
    }
   ],
   "source": [
    "#Using generators and list comprehension\n",
    "\n",
    "print(*(i for i in range(2000, 3201) if i % 7 == 0 and i % 5 != 0), sep=\",\")"
   ]
  },
  {
   "cell_type": "markdown",
   "metadata": {},
   "source": [
    "\n",
    "Question 2\n",
    "Question:\n",
    "Write a program which can compute the factorial of a given numbers.The results should be printed in a comma-separated sequence on a single line.Suppose the following input is supplied to the program: 8 Then, the output should be:40320\n",
    "\n",
    "Hints:\n",
    "In case of input data being supplied to the question, it should be assumed to be a console input."
   ]
  },
  {
   "cell_type": "code",
   "execution_count": 5,
   "metadata": {},
   "outputs": [
    {
     "name": "stdout",
     "output_type": "stream",
     "text": [
      "4\n",
      "24\n"
     ]
    }
   ],
   "source": [
    "#Solutions:\n",
    "\n",
    "#Using While Loop\n",
    "\n",
    "n = int(input())  # input() function takes input as string type\n",
    "# int() converts it to integer type\n",
    "fact = 1\n",
    "i = 1\n",
    "while i <= n:\n",
    "    fact = fact * i\n",
    "    i = i + 1\n",
    "print(fact)"
   ]
  },
  {
   "cell_type": "code",
   "execution_count": 6,
   "metadata": {},
   "outputs": [
    {
     "name": "stdout",
     "output_type": "stream",
     "text": [
      "4\n",
      "24\n"
     ]
    }
   ],
   "source": [
    "#Using For Loop\n",
    "\n",
    "n = int(input())  # input() function takes input as string type\n",
    "# int() converts it to integer type\n",
    "fact = 1\n",
    "for i in range(1, n + 1):\n",
    "    fact = fact * i\n",
    "print(fact)"
   ]
  },
  {
   "cell_type": "code",
   "execution_count": 7,
   "metadata": {},
   "outputs": [
    {
     "name": "stdout",
     "output_type": "stream",
     "text": [
      "4\n",
      "24\n"
     ]
    }
   ],
   "source": [
    "#Using Lambda Function\n",
    "\n",
    "# Solution by:  harshraj22\n",
    "n = int(input())\n",
    "\n",
    "\n",
    "def shortFact(x):\n",
    "    return 1 if x <= 1 else x * shortFact(x - 1)\n",
    "\n",
    "\n",
    "print(shortFact(n))"
   ]
  },
  {
   "cell_type": "markdown",
   "metadata": {},
   "source": [
    "\n",
    "Question 3\n",
    "Question:\n",
    "With a given integral number n, write a program to generate a dictionary that contains (i, i x i) such that is an integral number between 1 and n (both included). and then the program should print the dictionary.Suppose the following input is supplied to the program: 8\n",
    "\n",
    "Then, the output should be:\n",
    "\n",
    "{1: 1, 2: 4, 3: 9, 4: 16, 5: 25, 6: 36, 7: 49, 8: 64}\n",
    "\n",
    "Hints:\n",
    "In case of input data being supplied to the question, it should be assumed to be a console input.Consider use dict()"
   ]
  },
  {
   "cell_type": "code",
   "execution_count": 9,
   "metadata": {},
   "outputs": [
    {
     "name": "stdout",
     "output_type": "stream",
     "text": [
      "10\n",
      "{1: 1, 2: 4, 3: 9, 4: 16, 5: 25, 6: 36, 7: 49, 8: 64, 9: 81, 10: 100}\n"
     ]
    }
   ],
   "source": [
    "#Solutions:\n",
    "\n",
    "#Using For loop\n",
    "\n",
    "n = int(input())\n",
    "ans = {}\n",
    "for i in range(1, n + 1):\n",
    "    ans[i] = i * i\n",
    "print(ans)\n"
   ]
  },
  {
   "cell_type": "code",
   "execution_count": 10,
   "metadata": {},
   "outputs": [
    {
     "name": "stdout",
     "output_type": "stream",
     "text": [
      "10\n",
      "{1: 1, 2: 4, 3: 9, 4: 16, 5: 25, 6: 36, 7: 49, 8: 64, 9: 81, 10: 100}\n"
     ]
    }
   ],
   "source": [
    "#Using dictionary comprehension\n",
    "\n",
    "n = int(input())\n",
    "ans = {i: i * i for i in range(1, n + 1)}\n",
    "print(ans)"
   ]
  },
  {
   "cell_type": "markdown",
   "metadata": {},
   "source": [
    "Question 4\n",
    "Question:\n",
    "Write a program which accepts a sequence of comma-separated numbers from console and generate a list and a tuple which contains every number.Suppose the following input is supplied to the program:\n",
    "\n",
    "34,67,55,33,12,98\n",
    "\n",
    "Then, the output should be:\n",
    "\n",
    "['34', '67', '55', '33', '12', '98'] ('34', '67', '55', '33', '12', '98')\n",
    "\n",
    "Hints:\n",
    "In case of input data being supplied to the question, it should be assumed to be a console input.tuple() method can convert list to tuple"
   ]
  },
  {
   "cell_type": "code",
   "execution_count": 12,
   "metadata": {},
   "outputs": [
    {
     "name": "stdout",
     "output_type": "stream",
     "text": [
      "1,3,4,5,6,7,8\n",
      "['1', '3', '4', '5', '6', '7', '8']\n",
      "('1', '3', '4', '5', '6', '7', '8')\n"
     ]
    }
   ],
   "source": [
    "#Solutions:\n",
    "\n",
    "lst = input().split(\",\")\n",
    "# the input is being taken as string and as it is string it has a built in\n",
    "# method name split. ',' inside split function does split where it finds any ','\n",
    "# and save the input as list in lst variable\n",
    "\n",
    "tpl = tuple(lst)  # tuple method converts list to tuple\n",
    "\n",
    "print(lst)\n",
    "print(tpl)"
   ]
  },
  {
   "cell_type": "markdown",
   "metadata": {},
   "source": [
    "Question 5¶\n",
    "Question:\n",
    "Define a class which has at least two methods:\n",
    "\n",
    "getString: to get a string from console input\n",
    "printString: to print the string in upper case.\n",
    "Also please include simple test function to test the class methods.\n",
    "\n",
    "Hints:\n",
    "_Use init method to construct some parameters_"
   ]
  },
  {
   "cell_type": "code",
   "execution_count": 14,
   "metadata": {},
   "outputs": [
    {
     "name": "stdout",
     "output_type": "stream",
     "text": [
      "hariprakash\n",
      "HARIPRAKASH\n"
     ]
    }
   ],
   "source": [
    "#Solutions:\n",
    "\n",
    "\n",
    "class IOstring:\n",
    "    def __init__(self):\n",
    "        pass\n",
    "\n",
    "    def get_string(self):\n",
    "        self.s = input()\n",
    "\n",
    "    def print_string(self):\n",
    "        print(self.s.upper())\n",
    "\n",
    "\n",
    "xx = IOstring()\n",
    "xx.get_string()\n",
    "xx.print_string()"
   ]
  },
  {
   "cell_type": "markdown",
   "metadata": {},
   "source": [
    "Question 6\n",
    "Question:\n",
    "Write a program that calculates and prints the value according to the given formula:\n",
    "\n",
    "Q = Square root of [(2 C D)/H]\n",
    "\n",
    "Following are the fixed values of C and H:\n",
    "\n",
    "C is 50. H is 30.\n",
    "\n",
    "D is the variable whose values should be input to your program in a comma-separated sequence.For example Let us assume the following comma separated input sequence is given to the program:\n",
    "\n",
    "100,150,180\n",
    "\n",
    "The output of the program should be:\n",
    "\n",
    "18,22,24\n",
    "\n",
    "Hints:\n",
    "If the output received is in decimal form, it should be rounded off to its nearest value (for example, if the output received is 26.0, it should be printed as 26).In case of input data being supplied to the question, it should be assumed to be a console input."
   ]
  },
  {
   "cell_type": "code",
   "execution_count": 16,
   "metadata": {},
   "outputs": [
    {
     "name": "stdout",
     "output_type": "stream",
     "text": [
      "23\n",
      "9\n"
     ]
    }
   ],
   "source": [
    "#Solutions:\n",
    "\n",
    "\n",
    "from math import sqrt  # import specific functions as importing all using *\n",
    "\n",
    "# is bad practice\n",
    "\n",
    "C, H = 50, 30\n",
    "\n",
    "\n",
    "def calc(D):\n",
    "    return sqrt((2 * C * D) / H)\n",
    "\n",
    "\n",
    "D = [int(i) for i in input().split(\",\")]  # splits in comma position and set up in list\n",
    "D = [int(i) for i in D]  # converts string to integer\n",
    "D = [calc(i) for i in D]  # returns floating value by calc method for every item in D\n",
    "D = [round(i) for i in D]  # All the floating values are rounded\n",
    "D = [\n",
    "    str(i) for i in D\n",
    "]  # All the integers are converted to string to be able to apply join operation\n",
    "\n",
    "print(\",\".join(D))"
   ]
  },
  {
   "cell_type": "code",
   "execution_count": 17,
   "metadata": {},
   "outputs": [
    {
     "name": "stdout",
     "output_type": "stream",
     "text": [
      "12,23,21\n",
      "6,9,8\n"
     ]
    }
   ],
   "source": [
    "\n",
    "from math import sqrt\n",
    "\n",
    "C, H = 50, 30\n",
    "\n",
    "\n",
    "def calc(D):\n",
    "    return sqrt((2 * C * D) / H)\n",
    "\n",
    "\n",
    "D = input().split(\",\")  # splits in comma position and set up in list\n",
    "D = [\n",
    "    str(round(calc(int(i)))) for i in D\n",
    "]  # using comprehension method. It works in order of the previous code\n",
    "print(\",\".join(D))\n",
    "\n",
    "\n"
   ]
  },
  {
   "cell_type": "code",
   "execution_count": 18,
   "metadata": {},
   "outputs": [
    {
     "name": "stdout",
     "output_type": "stream",
     "text": [
      "12,23,21\n",
      "6,8,8\n"
     ]
    }
   ],
   "source": [
    "\n",
    "from math import *  # importing all math functions\n",
    "\n",
    "C, H = 50, 30\n",
    "\n",
    "\n",
    "def calc(D):\n",
    "    D = int(D)\n",
    "    return str(int(sqrt((2 * C * D) / H)))\n",
    "\n",
    "\n",
    "D = input().split(\",\")\n",
    "D = list(map(calc, D))  # applying calc function on D and storing as a list\n",
    "print(\",\".join(D))"
   ]
  },
  {
   "cell_type": "code",
   "execution_count": 19,
   "metadata": {},
   "outputs": [
    {
     "name": "stdout",
     "output_type": "stream",
     "text": [
      "12,23,21\n",
      "6,8,8\n"
     ]
    }
   ],
   "source": [
    "\n",
    "from math import sqrt\n",
    "\n",
    "C, H = 50, 30\n",
    "\n",
    "\n",
    "def calc(D):\n",
    "    return sqrt((2 * C * D) / H)\n",
    "\n",
    "\n",
    "print(\",\".join([str(int(calc(int(i)))) for i in input().split(\",\")]))"
   ]
  },
  {
   "cell_type": "markdown",
   "metadata": {},
   "source": [
    "Question 7¶\n",
    "Question:\n",
    "Write a program which takes 2 digits, X,Y as input and generates a 2-dimensional array. The element value in the i-th row and j-th column of the array should be i j.*\n",
    "\n",
    "Note: i=0,1.., X-1; j=0,1,¡­Y-1. Suppose the following inputs are given to the program: 3,5\n",
    "\n",
    "Then, the output of the program should be:\n",
    "\n",
    "[[0, 0, 0, 0, 0], [0, 1, 2, 3, 4], [0, 2, 4, 6, 8]]\n",
    "\n",
    "Hints:\n",
    "Note: In case of input data being supplied to the question, it should be assumed to be a console input in a comma-separated form."
   ]
  },
  {
   "cell_type": "code",
   "execution_count": 25,
   "metadata": {},
   "outputs": [
    {
     "name": "stdout",
     "output_type": "stream",
     "text": [
      "2,10\n",
      "[[0, 0, 0, 0, 0, 0, 0, 0, 0, 0], [0, 1, 2, 3, 4, 5, 6, 7, 8, 9]]\n"
     ]
    }
   ],
   "source": [
    "#Solutions:\n",
    "x, y = map(int, input().split(\",\"))\n",
    "lst = []\n",
    "\n",
    "for i in range(x):\n",
    "    tmp = []\n",
    "    for j in range(y):\n",
    "        tmp.append(i * j)\n",
    "    lst.append(tmp)\n",
    "\n",
    "print(lst)"
   ]
  },
  {
   "cell_type": "code",
   "execution_count": 26,
   "metadata": {},
   "outputs": [
    {
     "name": "stdout",
     "output_type": "stream",
     "text": [
      "2,10\n",
      "[[0, 0, 0, 0, 0, 0, 0, 0, 0, 0], [0, 1, 2, 3, 4, 5, 6, 7, 8, 9]]\n"
     ]
    }
   ],
   "source": [
    "x, y = map(int, input().split(\",\"))\n",
    "lst = [[i * j for j in range(y)] for i in range(x)]\n",
    "print(lst)"
   ]
  },
  {
   "cell_type": "markdown",
   "metadata": {},
   "source": [
    "Question:\n",
    "Write a program that accepts a comma separated sequence of words as input and prints the words in a comma-separated sequence after sorting them alphabetically.\n",
    "\n",
    "Suppose the following input is supplied to the program:\n",
    "\n",
    "without,hello,bag,world\n",
    "\n",
    "Then, the output should be:\n",
    "\n",
    "bag,hello,without,world\n",
    "\n",
    "Hints:\n",
    "In case of input data being supplied to the question, it should be assumed to be a console input."
   ]
  },
  {
   "cell_type": "code",
   "execution_count": 27,
   "metadata": {},
   "outputs": [
    {
     "name": "stdout",
     "output_type": "stream",
     "text": [
      "without,hello,bag,world\n",
      "bag,hello,without,world\n"
     ]
    }
   ],
   "source": [
    "lst = input().split(\",\")\n",
    "lst.sort()\n",
    "print(\",\".join(lst))"
   ]
  },
  {
   "cell_type": "code",
   "execution_count": null,
   "metadata": {},
   "outputs": [
    {
     "name": "stdout",
     "output_type": "stream",
     "text": [
      "bo\n",
      "BO\n",
      "jhg\n",
      "JHG\n",
      "hhj\n",
      "HHJ\n",
      " bnn\n",
      " BNN\n",
      "quit\n",
      "QUIT\n"
     ]
    }
   ],
   "source": [
    "def user_input():\n",
    "    while True:\n",
    "        s = input()\n",
    "        if not s:\n",
    "            return\n",
    "        yield s\n",
    "\n",
    "\n",
    "for line in map(str.upper, user_input()):\n",
    "    print(line)"
   ]
  },
  {
   "cell_type": "code",
   "execution_count": null,
   "metadata": {},
   "outputs": [],
   "source": []
  }
 ],
 "metadata": {
  "kernelspec": {
   "display_name": "Python 3",
   "language": "python",
   "name": "python3"
  },
  "language_info": {
   "codemirror_mode": {
    "name": "ipython",
    "version": 3
   },
   "file_extension": ".py",
   "mimetype": "text/x-python",
   "name": "python",
   "nbconvert_exporter": "python",
   "pygments_lexer": "ipython3",
   "version": "3.8.5"
  }
 },
 "nbformat": 4,
 "nbformat_minor": 4
}
